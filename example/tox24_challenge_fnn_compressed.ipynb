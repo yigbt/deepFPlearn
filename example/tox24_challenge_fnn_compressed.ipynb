{
 "cells": [
  {
   "metadata": {},
   "cell_type": "markdown",
   "source": [
    "# Tox 24 challenge - see how deepFPlearn performs\n",
    "\n",
    "We are doing the following steps\n",
    "- load challenge data: training and test datasets\n",
    "- remove duplicated SMILES with different target values\n",
    "- scale the target value to the range [0, 1]\n",
    "- use the whole set of SMILES (test and train substances), generate 2048 bit binary molecular fingerprints, train a specific autoencoder for compressing 2048 bit binary molecular fingerprints into 256 bit vectors with less zeros\n",
    "- use the trained specific autoencoder to encode the 2048 bit fingerprints of the training substances\n",
    "- train a regression model with this data \n",
    "- use the trained autoencoder to encode the test substances, use the regression model to predict the scaled target values\n",
    "- reverse the scaling of the target values\n",
    "- submit the predictions"
   ],
   "id": "f39d8e00d450f205"
  },
  {
   "metadata": {},
   "cell_type": "markdown",
   "source": "## Setup",
   "id": "e266323388f81cf6"
  },
  {
   "metadata": {
    "ExecuteTime": {
     "end_time": "2024-08-08T13:42:26.746282Z",
     "start_time": "2024-08-08T13:42:20.628182Z"
    }
   },
   "cell_type": "code",
   "source": [
    "%matplotlib inline\n",
    "import matplotlib.pyplot as plt\n",
    "import pandas as pd\n",
    "import wandb\n",
    "from tensorflow import keras\n",
    "from sklearn.preprocessing import MinMaxScaler\n",
    "import os\n",
    "import fnmatch\n",
    "from IPython.display import Image, display\n",
    "from keras.models import load_model\n",
    "\n",
    "from dfpl import options, fingerprint as fp, utils, autoencoder as ac, single_label_model as sl, predictions\n"
   ],
   "id": "65926e083aa21c3",
   "execution_count": 1,
   "outputs": []
  },
  {
   "metadata": {
    "ExecuteTime": {
     "end_time": "2024-08-08T13:42:26.750482Z",
     "start_time": "2024-08-08T13:42:26.747628Z"
    }
   },
   "cell_type": "code",
   "source": "base_out_dir = 'data/output/fnn_compressed/'",
   "id": "7dc5ea47dbb5b4f2",
   "execution_count": 2,
   "outputs": []
  },
  {
   "metadata": {
    "ExecuteTime": {
     "end_time": "2024-08-08T13:42:26.760471Z",
     "start_time": "2024-08-08T13:42:26.751219Z"
    }
   },
   "cell_type": "code",
   "source": [
    "pd.concat([pd.read_csv('data/tox24_challenge_train.csv'),\n",
    "           pd.read_csv('data/tox24_challenge_test.csv')],\n",
    "          ignore_index=True).to_csv('data/tox24_challenge_smiles_all.csv', index=False)"
   ],
   "id": "af1f4343d0f4f4a9",
   "execution_count": 3,
   "outputs": []
  },
  {
   "metadata": {
    "ExecuteTime": {
     "end_time": "2024-08-08T13:42:26.763199Z",
     "start_time": "2024-08-08T13:42:26.761766Z"
    }
   },
   "cell_type": "code",
   "source": "",
   "id": "9156fd06c1c0d5c6",
   "execution_count": 3,
   "outputs": []
  },
  {
   "metadata": {},
   "cell_type": "markdown",
   "source": [
    "## Train the autoencoder\n",
    "\n",
    "For this load train and test datasets first to get the full set of molecular structures. Store all structures again in a .csv file."
   ],
   "id": "f468abce82a41b0e"
  },
  {
   "metadata": {},
   "cell_type": "markdown",
   "source": "Adjust all options for training the autoencoder",
   "id": "e1f61e746f7bd1c6"
  },
  {
   "metadata": {
    "ExecuteTime": {
     "end_time": "2024-08-08T13:42:26.766251Z",
     "start_time": "2024-08-08T13:42:26.763882Z"
    }
   },
   "cell_type": "code",
   "source": [
    "opts = options.Options(\n",
    "    inputFile='data/tox24_challenge_smiles_all.csv',\n",
    "    outputDir=f'{base_out_dir}',\n",
    "    ecModelDir=f'{base_out_dir}/AE_encoder/',\n",
    "    ecWeightsFile='',\n",
    "    type='smiles',\n",
    "    fpType='topological',\n",
    "    fpSize=2048,\n",
    "    encFPSize=256,\n",
    "    verbose=2,\n",
    "    trainAC=True,\n",
    "    aeActivationFunction='tanh',\n",
    "    aeEpochs=3000,\n",
    "    aeBatchSize=52,\n",
    "    aeLearningRate=0.004123771070856377,\n",
    "    aeLearningRateDecay=0.05465859583974732,\n",
    "    trainFNN=False,\n",
    "    wabTracking=True,\n",
    ")\n"
   ],
   "id": "830f69a695117692",
   "execution_count": 4,
   "outputs": []
  },
  {
   "metadata": {},
   "cell_type": "markdown",
   "source": [
    "Allow tracking the training in Weights & Biases.\n",
    "\n",
    "This requires a Weights & Biases account and at least the free plan. Feel free to comment this code cell."
   ],
   "id": "b8f05091d7d36b4d"
  },
  {
   "metadata": {
    "ExecuteTime": {
     "end_time": "2024-08-08T13:42:30.740864Z",
     "start_time": "2024-08-08T13:42:26.766950Z"
    }
   },
   "cell_type": "code",
   "source": [
    "if opts.wabTracking:\n",
    "    wandb.init(project=f\"tox_24\",\n",
    "               entity=\"dfpl_regression\",\n",
    "               config=vars(opts))"
   ],
   "id": "321e393564597d7f",
   "execution_count": 5,
   "outputs": []
  },
  {
   "metadata": {},
   "cell_type": "markdown",
   "source": "Load the training data and generate fingerprints.",
   "id": "b473706eafb7d90f"
  },
  {
   "metadata": {
    "ExecuteTime": {
     "end_time": "2024-08-08T13:42:31.234614Z",
     "start_time": "2024-08-08T13:42:30.741801Z"
    }
   },
   "cell_type": "code",
   "source": "df = fp.importDataFile(opts.inputFile, import_function=fp.importCSV, fp_size=opts.fpSize)",
   "id": "3b4d4ab290c67aff",
   "execution_count": 6,
   "outputs": []
  },
  {
   "metadata": {},
   "cell_type": "markdown",
   "source": "Train the autoencoder",
   "id": "51e594de4eb47fe6"
  },
  {
   "metadata": {
    "ExecuteTime": {
     "end_time": "2024-08-08T13:42:31.238138Z",
     "start_time": "2024-08-08T13:42:31.235710Z"
    }
   },
   "cell_type": "code",
   "source": "opts.trainAC=False",
   "id": "c078584eb52a2ae0",
   "execution_count": 7,
   "outputs": []
  },
  {
   "metadata": {
    "ExecuteTime": {
     "end_time": "2024-08-08T13:42:31.245317Z",
     "start_time": "2024-08-08T13:42:31.238800Z"
    }
   },
   "cell_type": "code",
   "source": [
    "utils.createDirectory(opts.outputDir)\n",
    "\n",
    "# opts.trainAC=False\n",
    "if opts.trainAC:\n",
    "    # train an autoencoder on the full feature matrix\n",
    "    encoder = ac.train_full_ac(df, opts)"
   ],
   "id": "3433c8f1b647d6f6",
   "execution_count": 8,
   "outputs": []
  },
  {
   "metadata": {},
   "cell_type": "markdown",
   "source": "Update the options for training the regression model with compressed features.",
   "id": "efe4e9f05a9cb933"
  },
  {
   "metadata": {
    "ExecuteTime": {
     "end_time": "2024-08-08T13:42:31.249703Z",
     "start_time": "2024-08-08T13:42:31.246955Z"
    }
   },
   "cell_type": "code",
   "source": [
    "opts = options.Options(\n",
    "    inputFile='data/tox24_challenge_train.csv',\n",
    "    outputDir=f'{base_out_dir}',\n",
    "    ecModelDir=f'{base_out_dir}/AE_encoder/',\n",
    "    ecWeightsFile='',\n",
    "    type='smiles',\n",
    "    fpType='topological',\n",
    "    fpSize=2048,\n",
    "    encFPSize=256,\n",
    "    verbose=2,\n",
    "    trainFNN=True,\n",
    "    compressFeatures=True,\n",
    "    kFolds=5,\n",
    "    testSize=0.2,\n",
    "    optimizer=\"SGD\",\n",
    "    lossFunction=\"mse\",\n",
    "    epochs=5000,\n",
    "    batchSize=56,\n",
    "    activationFunction=\"tanh\",\n",
    "    dropout=0.15657883016344468,\n",
    "    learningRate=0.017935022040821466,\n",
    "    l2reg=0.009308121424156192,\n",
    "    fnnType=\"REG\",\n",
    "    enableMultiLabel=False,\n",
    "    wabTarget=\"activity\",\n",
    ")\n"
   ],
   "id": "1e8b262fc474dfca",
   "execution_count": 9,
   "outputs": []
  },
  {
   "metadata": {
    "ExecuteTime": {
     "end_time": "2024-08-08T13:42:31.558573Z",
     "start_time": "2024-08-08T13:42:31.250506Z"
    }
   },
   "cell_type": "code",
   "source": "df = fp.importDataFile(opts.inputFile, import_function=fp.importCSV, fp_size=opts.fpSize)",
   "id": "da3b909acb03f733",
   "execution_count": 10,
   "outputs": []
  },
  {
   "metadata": {
    "ExecuteTime": {
     "end_time": "2024-08-08T13:42:32.040187Z",
     "start_time": "2024-08-08T13:42:31.559292Z"
    }
   },
   "cell_type": "code",
   "source": [
    "if opts.compressFeatures:\n",
    "    # load trained model for autoencoder\n",
    "    encoder = keras.models.load_model(opts.ecModelDir)\n",
    "\n",
    "    # compress the fingerprints using the autoencoder\n",
    "    df = ac.compress_fingerprints(df, encoder)"
   ],
   "id": "b132021657300b35",
   "execution_count": 11,
   "outputs": []
  },
  {
   "metadata": {},
   "cell_type": "markdown",
   "source": "Scale the target values to [0,1]",
   "id": "b7b1d0964575ca82"
  },
  {
   "metadata": {
    "ExecuteTime": {
     "end_time": "2024-08-08T13:42:32.043873Z",
     "start_time": "2024-08-08T13:42:32.040742Z"
    }
   },
   "cell_type": "code",
   "source": "df.columns",
   "id": "b42ef4c461b0e3e1",
   "execution_count": 12,
   "outputs": []
  },
  {
   "metadata": {
    "ExecuteTime": {
     "end_time": "2024-08-08T13:42:32.048568Z",
     "start_time": "2024-08-08T13:42:32.044542Z"
    }
   },
   "cell_type": "code",
   "source": [
    "unscaled_target = df['activity'].to_numpy().reshape(-1, 1)\n",
    "\n",
    "scaler = MinMaxScaler()\n",
    "scaler.fit(unscaled_target)\n",
    "scaled_target = scaler.transform(unscaled_target)\n",
    "df = df.drop('activity', axis=1)\n",
    "df = pd.concat([df, pd.DataFrame(scaled_target, columns=['activity'])], axis=1)"
   ],
   "id": "4056aed7e8294160",
   "execution_count": 13,
   "outputs": []
  },
  {
   "metadata": {},
   "cell_type": "markdown",
   "source": "Now train the regression model",
   "id": "ddc875717f5798bb"
  },
  {
   "metadata": {
    "ExecuteTime": {
     "end_time": "2024-08-08T13:42:32.051871Z",
     "start_time": "2024-08-08T13:42:32.049260Z"
    }
   },
   "cell_type": "code",
   "source": "opts.inputFile",
   "id": "83885dd3791332c8",
   "execution_count": 14,
   "outputs": []
  },
  {
   "metadata": {
    "ExecuteTime": {
     "end_time": "2024-08-08T13:43:59.026523Z",
     "start_time": "2024-08-08T13:42:32.052450Z"
    }
   },
   "cell_type": "code",
   "source": [
    "if opts.trainFNN:\n",
    "    sl.train_single_label_models(df=df, opts=opts);"
   ],
   "id": "6da9acabdf2079d0",
   "execution_count": 15,
   "outputs": []
  },
  {
   "metadata": {},
   "cell_type": "markdown",
   "source": "Find best fold",
   "id": "abbeee8468714d20"
  },
  {
   "metadata": {
    "ExecuteTime": {
     "end_time": "2024-08-08T13:43:59.034004Z",
     "start_time": "2024-08-08T13:43:59.027540Z"
    }
   },
   "cell_type": "code",
   "source": [
    "def find_files(directory, pattern):\n",
    "    for root, dirs, files in os.walk(directory):\n",
    "        for basename in files:\n",
    "            if fnmatch.fnmatch(basename, pattern):\n",
    "                filename = os.path.join(root, basename)\n",
    "                yield filename\n",
    "\n",
    "\n",
    "best_fold = 0\n",
    "for filename in find_files(base_out_dir, '*.best.model.weights*'):\n",
    "    filename_split = filename.split('.')\n",
    "    best_fold = int(filename_split[0][-1])\n",
    "    img_file = filename_split[0] + '.history.jpg'\n",
    "    img = Image(filename=img_file)\n",
    "    display(img)\n",
    "best_fold"
   ],
   "id": "c5c11dcf850c6153",
   "execution_count": 16,
   "outputs": []
  },
  {
   "metadata": {
    "ExecuteTime": {
     "end_time": "2024-08-08T13:43:59.044435Z",
     "start_time": "2024-08-08T13:43:59.034738Z"
    }
   },
   "cell_type": "code",
   "source": [
    "model_evaluation = pd.read_csv(\n",
    "    filepath_or_buffer=f'{base_out_dir}/single_label_model.evaluation.csv')\n",
    "model_evaluation[model_evaluation['fold'] == best_fold]"
   ],
   "id": "5ef940b2e61ad48a",
   "execution_count": 17,
   "outputs": []
  },
  {
   "metadata": {},
   "cell_type": "markdown",
   "source": "## Predict test dataset",
   "id": "d4b9cdb6567a7bdd"
  },
  {
   "metadata": {
    "ExecuteTime": {
     "end_time": "2024-08-08T13:43:59.047296Z",
     "start_time": "2024-08-08T13:43:59.045182Z"
    }
   },
   "cell_type": "code",
   "source": [
    "opts = options.Options(\n",
    "    inputFile='data/tox24_challenge_test.csv',\n",
    "    outputDir=f'{base_out_dir}',\n",
    "    outputFile=f'{base_out_dir}test.predictions.csv',\n",
    "    ecModelDir=f'{base_out_dir}/AE_encoder/',\n",
    "    fnnModelDir=f'{base_out_dir}/activity_saved_model',\n",
    "    compressFeatures=True,\n",
    ")"
   ],
   "id": "15340254e48af9e0",
   "execution_count": 18,
   "outputs": []
  },
  {
   "metadata": {
    "ExecuteTime": {
     "end_time": "2024-08-08T13:43:59.947629Z",
     "start_time": "2024-08-08T13:43:59.048045Z"
    }
   },
   "cell_type": "code",
   "source": "df = fp.importDataFile(opts.inputFile, import_function=fp.importSmilesCSV, fp_size=opts.fpSize)\n",
   "id": "2c3efbcb90e79072",
   "execution_count": 19,
   "outputs": []
  },
  {
   "metadata": {
    "ExecuteTime": {
     "end_time": "2024-08-08T13:44:00.080489Z",
     "start_time": "2024-08-08T13:43:59.948962Z"
    }
   },
   "cell_type": "code",
   "source": [
    "if opts.compressFeatures:\n",
    "    # load trained model for autoencoder\n",
    "    encoder = keras.models.load_model(opts.ecModelDir)\n",
    "\n",
    "    # compress the fingerprints using the autoencoder\n",
    "    df = ac.compress_fingerprints(df, encoder)"
   ],
   "id": "b8f45f2abcb33969",
   "execution_count": 20,
   "outputs": []
  },
  {
   "metadata": {},
   "cell_type": "markdown",
   "source": "",
   "id": "5bc03dea35295afb"
  },
  {
   "metadata": {
    "ExecuteTime": {
     "end_time": "2024-08-08T13:44:00.357250Z",
     "start_time": "2024-08-08T13:44:00.081447Z"
    }
   },
   "cell_type": "code",
   "source": [
    "# predict\n",
    "df2 = predictions.predict_values(df=df, opts=opts)"
   ],
   "id": "6130da05f878e93f",
   "execution_count": 21,
   "outputs": []
  },
  {
   "metadata": {
    "ExecuteTime": {
     "end_time": "2024-08-08T13:51:47.478296Z",
     "start_time": "2024-08-08T13:51:47.474484Z"
    }
   },
   "cell_type": "code",
   "source": "df2.columns",
   "id": "630324579e74a5d3",
   "execution_count": 23,
   "outputs": []
  },
  {
   "metadata": {},
   "cell_type": "markdown",
   "source": "Reverse the scaling of the predicted values",
   "id": "5be323d66d4f7d08"
  },
  {
   "metadata": {
    "ExecuteTime": {
     "end_time": "2024-08-08T14:00:28.878357Z",
     "start_time": "2024-08-08T14:00:28.870889Z"
    }
   },
   "cell_type": "code",
   "source": [
    "activity_predicted = df2['predicted']\n",
    "\n",
    "activity_predicted_rescaled = scaler.inverse_transform(activity_predicted.to_numpy().reshape(-1, 1))"
   ],
   "id": "e5ffe69737d1a20a",
   "execution_count": 37,
   "outputs": []
  },
  {
   "metadata": {
    "ExecuteTime": {
     "end_time": "2024-08-08T13:57:59.788588Z",
     "start_time": "2024-08-08T13:57:59.782748Z"
    }
   },
   "cell_type": "code",
   "source": "activity_trained = pd.read_csv('data/tox24_challenge_train.csv')['activity']",
   "id": "5f80642144e06767",
   "execution_count": 35,
   "outputs": []
  },
  {
   "metadata": {
    "ExecuteTime": {
     "end_time": "2024-08-08T14:02:39.908472Z",
     "start_time": "2024-08-08T14:02:39.792826Z"
    }
   },
   "cell_type": "code",
   "source": [
    "%matplotlib inline\n",
    "import matplotlib.pyplot as plt\n",
    "plt.hist(activity_trained, bins=100, alpha=0.5, color='r', label='train')\n",
    "plt.hist(activity_predicted_rescaled, bins=50, alpha=0.5, color='b', label='predict')\n",
    "plt.legend(loc='upper right')\n",
    "plt.title('Distribution of target values')\n",
    "plt.xlabel('Mean % activity')\n",
    "plt.ylabel('Count')\n",
    "plt.show()"
   ],
   "id": "6699b94f5e24876e",
   "execution_count": 41,
   "outputs": []
  },
  {
   "metadata": {},
   "cell_type": "markdown",
   "source": "Save for submission",
   "id": "234e267b0172dbd9"
  },
  {
   "metadata": {
    "ExecuteTime": {
     "end_time": "2024-08-08T14:01:31.411151Z",
     "start_time": "2024-08-08T14:01:31.407321Z"
    }
   },
   "cell_type": "code",
   "source": "pd.DataFrame(activity_predicted_rescaled, columns=[\"prediction\"]).to_csv(f'{base_out_dir}/tox24_challenge_test_predicted.csv')",
   "id": "e3ace5aab0824a38",
   "execution_count": 40,
   "outputs": []
  }
 ],
 "metadata": {
  "kernelspec": {
   "display_name": "Python 3",
   "language": "python",
   "name": "python3"
  },
  "language_info": {
   "codemirror_mode": {
    "name": "ipython",
    "version": 2
   },
   "file_extension": ".py",
   "mimetype": "text/x-python",
   "name": "python",
   "nbconvert_exporter": "python",
   "pygments_lexer": "ipython2",
   "version": "2.7.6"
  }
 },
 "nbformat": 4,
 "nbformat_minor": 5
}
