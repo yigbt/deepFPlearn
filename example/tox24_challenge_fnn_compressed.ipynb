{
 "cells": [
  {
   "metadata": {},
   "cell_type": "markdown",
   "source": [
    "# Tox 24 challenge - see how deepFPlearn performs\n",
    "\n",
    "We are doing the following steps\n",
    "- load challenge data: training and test datasets\n",
    "- remove duplicated SMILES with different target values\n",
    "- scale the target value to the range [0, 1]\n",
    "- use the whole set of SMILES (test and train substances), generate 2048 bit binary molecular fingerprints, train a specific autoencoder for compressing 2048 bit binary molecular fingerprints into 256 bit vectors with less zeros\n",
    "- use the trained specific autoencoder to encode the 2048 bit fingerprints of the training substances\n",
    "- train a regression model with this data \n",
    "- use the trained autoencoder to encode the test substances, use the regression model to predict the scaled target values\n",
    "- reverse the scaling of the target values\n",
    "- submit the predictions"
   ],
   "id": "f39d8e00d450f205"
  },
  {
   "metadata": {},
   "cell_type": "markdown",
   "source": "## Setup",
   "id": "e266323388f81cf6"
  },
  {
   "metadata": {
    "ExecuteTime": {
     "end_time": "2024-08-08T13:42:26.746282Z",
     "start_time": "2024-08-08T13:42:20.628182Z"
    }
   },
   "cell_type": "code",
   "source": [
    "%matplotlib inline\n",
    "import matplotlib.pyplot as plt\n",
    "import pandas as pd\n",
    "import wandb\n",
    "from tensorflow import keras\n",
    "from sklearn.preprocessing import MinMaxScaler\n",
    "import os\n",
    "import fnmatch\n",
    "from IPython.display import Image, display\n",
    "from keras.models import load_model\n",
    "\n",
    "from dfpl import options, fingerprint as fp, utils, autoencoder as ac, single_label_model as sl, predictions\n"
   ],
   "id": "65926e083aa21c3",
   "outputs": [
    {
     "name": "stderr",
     "output_type": "stream",
     "text": [
      "2024-08-08 15:42:21.661254: I tensorflow/core/util/util.cc:169] oneDNN custom operations are on. You may see slightly different numerical results due to floating-point round-off errors from different computation orders. To turn them off, set the environment variable `TF_ENABLE_ONEDNN_OPTS=0`.\n",
      "/home/hertelj/build/local/miniforge3/envs/dfpl/lib/python3.10/site-packages/tensorflow/python/keras/engine/training_arrays_v1.py:37: UserWarning: A NumPy version >=1.23.5 and <2.3.0 is required for this version of SciPy (detected version 1.22.4)\n",
      "  from scipy.sparse import issparse  # pylint: disable=g-import-not-at-top\n"
     ]
    }
   ],
   "execution_count": 1
  },
  {
   "metadata": {
    "ExecuteTime": {
     "end_time": "2024-08-08T13:42:26.750482Z",
     "start_time": "2024-08-08T13:42:26.747628Z"
    }
   },
   "cell_type": "code",
   "source": "base_out_dir = 'data/output/fnn_compressed/'",
   "id": "7dc5ea47dbb5b4f2",
   "outputs": [],
   "execution_count": 2
  },
  {
   "metadata": {
    "ExecuteTime": {
     "end_time": "2024-08-08T13:42:26.760471Z",
     "start_time": "2024-08-08T13:42:26.751219Z"
    }
   },
   "cell_type": "code",
   "source": [
    "pd.concat([pd.read_csv('data/tox24_challenge_train.csv'),\n",
    "           pd.read_csv('data/tox24_challenge_test.csv')],\n",
    "          ignore_index=True).to_csv('data/tox24_challenge_smiles_all.csv', index=False)"
   ],
   "id": "af1f4343d0f4f4a9",
   "outputs": [],
   "execution_count": 3
  },
  {
   "metadata": {
    "ExecuteTime": {
     "end_time": "2024-08-08T13:42:26.763199Z",
     "start_time": "2024-08-08T13:42:26.761766Z"
    }
   },
   "cell_type": "code",
   "source": "",
   "id": "9156fd06c1c0d5c6",
   "outputs": [],
   "execution_count": 3
  },
  {
   "metadata": {},
   "cell_type": "markdown",
   "source": [
    "## Train the autoencoder\n",
    "\n",
    "For this load train and test datasets first to get the full set of molecular structures. Store all structures again in a .csv file."
   ],
   "id": "f468abce82a41b0e"
  },
  {
   "metadata": {},
   "cell_type": "markdown",
   "source": "Adjust all options for training the autoencoder",
   "id": "e1f61e746f7bd1c6"
  },
  {
   "metadata": {
    "ExecuteTime": {
     "end_time": "2024-08-08T13:42:26.766251Z",
     "start_time": "2024-08-08T13:42:26.763882Z"
    }
   },
   "cell_type": "code",
   "source": [
    "opts = options.Options(\n",
    "    inputFile='data/tox24_challenge_smiles_all.csv',\n",
    "    outputDir=f'{base_out_dir}',\n",
    "    ecModelDir=f'{base_out_dir}/AE_encoder/',\n",
    "    ecWeightsFile='',\n",
    "    type='smiles',\n",
    "    fpType='topological',\n",
    "    fpSize=2048,\n",
    "    encFPSize=256,\n",
    "    verbose=2,\n",
    "    trainAC=True,\n",
    "    aeActivationFunction='tanh',\n",
    "    aeEpochs=3000,\n",
    "    aeBatchSize=52,\n",
    "    aeLearningRate=0.004123771070856377,\n",
    "    aeLearningRateDecay=0.05465859583974732,\n",
    "    trainFNN=False,\n",
    "    wabTracking=True,\n",
    ")\n"
   ],
   "id": "830f69a695117692",
   "outputs": [],
   "execution_count": 4
  },
  {
   "metadata": {},
   "cell_type": "markdown",
   "source": [
    "Allow tracking the training in Weights & Biases.\n",
    "\n",
    "This requires a Weights & Biases account and at least the free plan. Feel free to comment this code cell."
   ],
   "id": "b8f05091d7d36b4d"
  },
  {
   "metadata": {
    "ExecuteTime": {
     "end_time": "2024-08-08T13:42:30.740864Z",
     "start_time": "2024-08-08T13:42:26.766950Z"
    }
   },
   "cell_type": "code",
   "source": [
    "if opts.wabTracking:\n",
    "    wandb.init(project=f\"tox_24\",\n",
    "               entity=\"dfpl_regression\",\n",
    "               config=vars(opts))"
   ],
   "id": "321e393564597d7f",
   "outputs": [
    {
     "name": "stderr",
     "output_type": "stream",
     "text": [
      "\u001B[34m\u001B[1mwandb\u001B[0m: Currently logged in as: \u001B[33mmai00fti\u001B[0m (\u001B[33mdfpl_regression\u001B[0m). Use \u001B[1m`wandb login --relogin`\u001B[0m to force relogin\n"
     ]
    },
    {
     "data": {
      "text/plain": [
       "<IPython.core.display.HTML object>"
      ],
      "text/html": [
       "Tracking run with wandb version 0.17.6"
      ]
     },
     "metadata": {},
     "output_type": "display_data"
    },
    {
     "data": {
      "text/plain": [
       "<IPython.core.display.HTML object>"
      ],
      "text/html": [
       "Run data is saved locally in <code>/home/hertelj/git-hertelj/deepFPlearn/example/wandb/run-20240808_154227-kpo6hvn8</code>"
      ]
     },
     "metadata": {},
     "output_type": "display_data"
    },
    {
     "data": {
      "text/plain": [
       "<IPython.core.display.HTML object>"
      ],
      "text/html": [
       "Syncing run <strong><a href='https://wandb.ai/dfpl_regression/tox_24/runs/kpo6hvn8' target=\"_blank\">royal-lion-12</a></strong> to <a href='https://wandb.ai/dfpl_regression/tox_24' target=\"_blank\">Weights & Biases</a> (<a href='https://wandb.me/run' target=\"_blank\">docs</a>)<br/>"
      ]
     },
     "metadata": {},
     "output_type": "display_data"
    },
    {
     "data": {
      "text/plain": [
       "<IPython.core.display.HTML object>"
      ],
      "text/html": [
       " View project at <a href='https://wandb.ai/dfpl_regression/tox_24' target=\"_blank\">https://wandb.ai/dfpl_regression/tox_24</a>"
      ]
     },
     "metadata": {},
     "output_type": "display_data"
    },
    {
     "data": {
      "text/plain": [
       "<IPython.core.display.HTML object>"
      ],
      "text/html": [
       " View run at <a href='https://wandb.ai/dfpl_regression/tox_24/runs/kpo6hvn8' target=\"_blank\">https://wandb.ai/dfpl_regression/tox_24/runs/kpo6hvn8</a>"
      ]
     },
     "metadata": {},
     "output_type": "display_data"
    }
   ],
   "execution_count": 5
  },
  {
   "metadata": {},
   "cell_type": "markdown",
   "source": "Load the training data and generate fingerprints.",
   "id": "b473706eafb7d90f"
  },
  {
   "metadata": {
    "ExecuteTime": {
     "end_time": "2024-08-08T13:42:31.234614Z",
     "start_time": "2024-08-08T13:42:30.741801Z"
    }
   },
   "cell_type": "code",
   "source": "df = fp.importDataFile(opts.inputFile, import_function=fp.importCSV, fp_size=opts.fpSize)",
   "id": "3b4d4ab290c67aff",
   "outputs": [],
   "execution_count": 6
  },
  {
   "metadata": {},
   "cell_type": "markdown",
   "source": "Train the autoencoder",
   "id": "51e594de4eb47fe6"
  },
  {
   "metadata": {
    "ExecuteTime": {
     "end_time": "2024-08-08T13:42:31.238138Z",
     "start_time": "2024-08-08T13:42:31.235710Z"
    }
   },
   "cell_type": "code",
   "source": "opts.trainAC=False",
   "id": "c078584eb52a2ae0",
   "outputs": [],
   "execution_count": 7
  },
  {
   "metadata": {
    "ExecuteTime": {
     "end_time": "2024-08-08T13:42:31.245317Z",
     "start_time": "2024-08-08T13:42:31.238800Z"
    }
   },
   "cell_type": "code",
   "source": [
    "utils.createDirectory(opts.outputDir)\n",
    "\n",
    "# opts.trainAC=False\n",
    "if opts.trainAC:\n",
    "    # train an autoencoder on the full feature matrix\n",
    "    encoder = ac.train_full_ac(df, opts)"
   ],
   "id": "3433c8f1b647d6f6",
   "outputs": [],
   "execution_count": 8
  },
  {
   "metadata": {},
   "cell_type": "markdown",
   "source": "Update the options for training the regression model with compressed features.",
   "id": "efe4e9f05a9cb933"
  },
  {
   "metadata": {
    "ExecuteTime": {
     "end_time": "2024-08-08T13:42:31.249703Z",
     "start_time": "2024-08-08T13:42:31.246955Z"
    }
   },
   "cell_type": "code",
   "source": [
    "opts = options.Options(\n",
    "    inputFile='data/tox24_challenge_train.csv',\n",
    "    outputDir=f'{base_out_dir}',\n",
    "    ecModelDir=f'{base_out_dir}/AE_encoder/',\n",
    "    ecWeightsFile='',\n",
    "    type='smiles',\n",
    "    fpType='topological',\n",
    "    fpSize=2048,\n",
    "    encFPSize=256,\n",
    "    verbose=2,\n",
    "    trainFNN=True,\n",
    "    compressFeatures=True,\n",
    "    kFolds=5,\n",
    "    testSize=0.2,\n",
    "    optimizer=\"SGD\",\n",
    "    lossFunction=\"mse\",\n",
    "    epochs=5000,\n",
    "    batchSize=56,\n",
    "    activationFunction=\"tanh\",\n",
    "    dropout=0.15657883016344468,\n",
    "    learningRate=0.017935022040821466,\n",
    "    l2reg=0.009308121424156192,\n",
    "    fnnType=\"REG\",\n",
    "    enableMultiLabel=False,\n",
    "    wabTarget=\"activity\",\n",
    ")\n"
   ],
   "id": "1e8b262fc474dfca",
   "outputs": [],
   "execution_count": 9
  },
  {
   "metadata": {
    "ExecuteTime": {
     "end_time": "2024-08-08T13:42:31.558573Z",
     "start_time": "2024-08-08T13:42:31.250506Z"
    }
   },
   "cell_type": "code",
   "source": "df = fp.importDataFile(opts.inputFile, import_function=fp.importCSV, fp_size=opts.fpSize)",
   "id": "da3b909acb03f733",
   "outputs": [],
   "execution_count": 10
  },
  {
   "metadata": {
    "ExecuteTime": {
     "end_time": "2024-08-08T13:42:32.040187Z",
     "start_time": "2024-08-08T13:42:31.559292Z"
    }
   },
   "cell_type": "code",
   "source": [
    "if opts.compressFeatures:\n",
    "    # load trained model for autoencoder\n",
    "    encoder = keras.models.load_model(opts.ecModelDir)\n",
    "\n",
    "    # compress the fingerprints using the autoencoder\n",
    "    df = ac.compress_fingerprints(df, encoder)"
   ],
   "id": "b132021657300b35",
   "outputs": [
    {
     "name": "stdout",
     "output_type": "stream",
     "text": [
      "WARNING:tensorflow:No training configuration found in save file, so the model was *not* compiled. Compile it manually.\n"
     ]
    },
    {
     "name": "stderr",
     "output_type": "stream",
     "text": [
      "2024-08-08 15:42:31.575386: I tensorflow/stream_executor/cuda/cuda_gpu_executor.cc:975] successful NUMA node read from SysFS had negative value (-1), but there must be at least one NUMA node, so returning NUMA node zero\n",
      "2024-08-08 15:42:31.576023: I tensorflow/stream_executor/cuda/cuda_gpu_executor.cc:975] successful NUMA node read from SysFS had negative value (-1), but there must be at least one NUMA node, so returning NUMA node zero\n",
      "2024-08-08 15:42:31.576102: I tensorflow/stream_executor/cuda/cuda_gpu_executor.cc:975] successful NUMA node read from SysFS had negative value (-1), but there must be at least one NUMA node, so returning NUMA node zero\n",
      "2024-08-08 15:42:31.576422: I tensorflow/core/platform/cpu_feature_guard.cc:193] This TensorFlow binary is optimized with oneAPI Deep Neural Network Library (oneDNN) to use the following CPU instructions in performance-critical operations:  SSE4.1 SSE4.2 AVX AVX2 AVX_VNNI FMA\n",
      "To enable them in other operations, rebuild TensorFlow with the appropriate compiler flags.\n",
      "2024-08-08 15:42:31.577346: I tensorflow/stream_executor/cuda/cuda_gpu_executor.cc:975] successful NUMA node read from SysFS had negative value (-1), but there must be at least one NUMA node, so returning NUMA node zero\n",
      "2024-08-08 15:42:31.577429: I tensorflow/stream_executor/cuda/cuda_gpu_executor.cc:975] successful NUMA node read from SysFS had negative value (-1), but there must be at least one NUMA node, so returning NUMA node zero\n",
      "2024-08-08 15:42:31.577484: I tensorflow/stream_executor/cuda/cuda_gpu_executor.cc:975] successful NUMA node read from SysFS had negative value (-1), but there must be at least one NUMA node, so returning NUMA node zero\n",
      "2024-08-08 15:42:31.638471: I tensorflow/stream_executor/cuda/cuda_gpu_executor.cc:975] successful NUMA node read from SysFS had negative value (-1), but there must be at least one NUMA node, so returning NUMA node zero\n",
      "2024-08-08 15:42:31.638591: I tensorflow/stream_executor/cuda/cuda_gpu_executor.cc:975] successful NUMA node read from SysFS had negative value (-1), but there must be at least one NUMA node, so returning NUMA node zero\n",
      "2024-08-08 15:42:31.638673: I tensorflow/stream_executor/cuda/cuda_gpu_executor.cc:975] successful NUMA node read from SysFS had negative value (-1), but there must be at least one NUMA node, so returning NUMA node zero\n",
      "2024-08-08 15:42:31.638743: I tensorflow/core/common_runtime/gpu/gpu_device.cc:1532] Created device /job:localhost/replica:0/task:0/device:GPU:0 with 10226 MB memory:  -> device: 0, name: NVIDIA GeForce RTX 4080 Laptop GPU, pci bus id: 0000:01:00.0, compute capability: 8.9\n"
     ]
    },
    {
     "name": "stdout",
     "output_type": "stream",
     "text": [
      "32/32 [==============================] - 0s 903us/step\n"
     ]
    },
    {
     "name": "stderr",
     "output_type": "stream",
     "text": [
      "2024-08-08 15:42:31.982967: I tensorflow/stream_executor/cuda/cuda_blas.cc:1786] TensorFloat-32 will be used for the matrix multiplication. This will only be logged once.\n"
     ]
    }
   ],
   "execution_count": 11
  },
  {
   "metadata": {},
   "cell_type": "markdown",
   "source": "Scale the target values to [0,1]",
   "id": "b7b1d0964575ca82"
  },
  {
   "metadata": {
    "ExecuteTime": {
     "end_time": "2024-08-08T13:42:32.043873Z",
     "start_time": "2024-08-08T13:42:32.040742Z"
    }
   },
   "cell_type": "code",
   "source": "df.columns",
   "id": "b42ef4c461b0e3e1",
   "outputs": [
    {
     "data": {
      "text/plain": [
       "Index(['SMILES', 'activity', 'fp', 'fpcompressed'], dtype='object')"
      ]
     },
     "execution_count": 12,
     "metadata": {},
     "output_type": "execute_result"
    }
   ],
   "execution_count": 12
  },
  {
   "metadata": {
    "ExecuteTime": {
     "end_time": "2024-08-08T13:42:32.048568Z",
     "start_time": "2024-08-08T13:42:32.044542Z"
    }
   },
   "cell_type": "code",
   "source": [
    "unscaled_target = df['activity'].to_numpy().reshape(-1, 1)\n",
    "\n",
    "scaler = MinMaxScaler()\n",
    "scaler.fit(unscaled_target)\n",
    "scaled_target = scaler.transform(unscaled_target)\n",
    "df = df.drop('activity', axis=1)\n",
    "df = pd.concat([df, pd.DataFrame(scaled_target, columns=['activity'])], axis=1)"
   ],
   "id": "4056aed7e8294160",
   "outputs": [],
   "execution_count": 13
  },
  {
   "metadata": {},
   "cell_type": "markdown",
   "source": "Now train the regression model",
   "id": "ddc875717f5798bb"
  },
  {
   "metadata": {
    "ExecuteTime": {
     "end_time": "2024-08-08T13:42:32.051871Z",
     "start_time": "2024-08-08T13:42:32.049260Z"
    }
   },
   "cell_type": "code",
   "source": "opts.inputFile",
   "id": "83885dd3791332c8",
   "outputs": [
    {
     "data": {
      "text/plain": [
       "'data/tox24_challenge_train.csv'"
      ]
     },
     "execution_count": 14,
     "metadata": {},
     "output_type": "execute_result"
    }
   ],
   "execution_count": 14
  },
  {
   "metadata": {
    "ExecuteTime": {
     "end_time": "2024-08-08T13:43:59.026523Z",
     "start_time": "2024-08-08T13:42:32.052450Z"
    }
   },
   "cell_type": "code",
   "source": [
    "if opts.trainFNN:\n",
    "    sl.train_single_label_models(df=df, opts=opts);"
   ],
   "id": "6da9acabdf2079d0",
   "outputs": [
    {
     "name": "stderr",
     "output_type": "stream",
     "text": [
      "/home/hertelj/build/local/miniforge3/envs/dfpl/lib/python3.10/site-packages/sklearn/model_selection/_split.py:676: UserWarning: The least populated class in y has only 1 members, which is less than n_splits=5.\n",
      "  warnings.warn(\n"
     ]
    },
    {
     "data": {
      "text/plain": [
       "<IPython.core.display.HTML object>"
      ],
      "text/html": [
       "Finishing last run (ID:kpo6hvn8) before initializing another..."
      ]
     },
     "metadata": {},
     "output_type": "display_data"
    },
    {
     "data": {
      "text/plain": [
       "VBox(children=(Label(value='0.004 MB of 0.004 MB uploaded\\r'), FloatProgress(value=1.0, max=1.0)))"
      ],
      "application/vnd.jupyter.widget-view+json": {
       "version_major": 2,
       "version_minor": 0,
       "model_id": "8aa7423ed34042d2ae27af7a137347ba"
      }
     },
     "metadata": {},
     "output_type": "display_data"
    },
    {
     "data": {
      "text/plain": [
       "<IPython.core.display.HTML object>"
      ],
      "text/html": [
       " View run <strong style=\"color:#cdcd00\">royal-lion-12</strong> at: <a href='https://wandb.ai/dfpl_regression/tox_24/runs/kpo6hvn8' target=\"_blank\">https://wandb.ai/dfpl_regression/tox_24/runs/kpo6hvn8</a><br/> View project at: <a href='https://wandb.ai/dfpl_regression/tox_24' target=\"_blank\">https://wandb.ai/dfpl_regression/tox_24</a><br/>Synced 6 W&B file(s), 0 media file(s), 0 artifact file(s) and 0 other file(s)"
      ]
     },
     "metadata": {},
     "output_type": "display_data"
    },
    {
     "data": {
      "text/plain": [
       "<IPython.core.display.HTML object>"
      ],
      "text/html": [
       "Find logs at: <code>./wandb/run-20240808_154227-kpo6hvn8/logs</code>"
      ]
     },
     "metadata": {},
     "output_type": "display_data"
    },
    {
     "data": {
      "text/plain": [
       "<IPython.core.display.HTML object>"
      ],
      "text/html": [
       "The new W&B backend becomes opt-out in version 0.18.0; try it out with `wandb.require(\"core\")`! See https://wandb.me/wandb-core for more information."
      ]
     },
     "metadata": {},
     "output_type": "display_data"
    },
    {
     "data": {
      "text/plain": [
       "<IPython.core.display.HTML object>"
      ],
      "text/html": [
       "Successfully finished last run (ID:kpo6hvn8). Initializing new run:<br/>"
      ]
     },
     "metadata": {},
     "output_type": "display_data"
    },
    {
     "data": {
      "text/plain": [
       "VBox(children=(Label(value='Waiting for wandb.init()...\\r'), FloatProgress(value=0.011113111989106982, max=1.0…"
      ],
      "application/vnd.jupyter.widget-view+json": {
       "version_major": 2,
       "version_minor": 0,
       "model_id": "e7a5e78efa65474bb772070e7944eda9"
      }
     },
     "metadata": {},
     "output_type": "display_data"
    },
    {
     "data": {
      "text/plain": [
       "<IPython.core.display.HTML object>"
      ],
      "text/html": [
       "Tracking run with wandb version 0.17.6"
      ]
     },
     "metadata": {},
     "output_type": "display_data"
    },
    {
     "data": {
      "text/plain": [
       "<IPython.core.display.HTML object>"
      ],
      "text/html": [
       "Run data is saved locally in <code>/home/hertelj/git-hertelj/deepFPlearn/example/wandb/run-20240808_154232-dqo5mpgo</code>"
      ]
     },
     "metadata": {},
     "output_type": "display_data"
    },
    {
     "data": {
      "text/plain": [
       "<IPython.core.display.HTML object>"
      ],
      "text/html": [
       "Syncing run <strong><a href='https://wandb.ai/dfpl_regression/FNN_0.5_random/runs/dqo5mpgo' target=\"_blank\">activity-1</a></strong> to <a href='https://wandb.ai/dfpl_regression/FNN_0.5_random' target=\"_blank\">Weights & Biases</a> (<a href='https://wandb.me/run' target=\"_blank\">docs</a>)<br/>"
      ]
     },
     "metadata": {},
     "output_type": "display_data"
    },
    {
     "data": {
      "text/plain": [
       "<IPython.core.display.HTML object>"
      ],
      "text/html": [
       " View project at <a href='https://wandb.ai/dfpl_regression/FNN_0.5_random' target=\"_blank\">https://wandb.ai/dfpl_regression/FNN_0.5_random</a>"
      ]
     },
     "metadata": {},
     "output_type": "display_data"
    },
    {
     "data": {
      "text/plain": [
       "<IPython.core.display.HTML object>"
      ],
      "text/html": [
       " View run at <a href='https://wandb.ai/dfpl_regression/FNN_0.5_random/runs/dqo5mpgo' target=\"_blank\">https://wandb.ai/dfpl_regression/FNN_0.5_random/runs/dqo5mpgo</a>"
      ]
     },
     "metadata": {},
     "output_type": "display_data"
    },
    {
     "name": "stdout",
     "output_type": "stream",
     "text": [
      "WARNING:tensorflow:`period` argument is deprecated. Please use `save_freq` to specify the frequency in number of batches seen.\n"
     ]
    },
    {
     "name": "stderr",
     "output_type": "stream",
     "text": [
      "/home/hertelj/build/local/miniforge3/envs/dfpl/lib/python3.10/site-packages/keras/optimizers/optimizer_v2/gradient_descent.py:108: UserWarning: The `lr` argument is deprecated, use `learning_rate` instead.\n",
      "  super(SGD, self).__init__(name, **kwargs)\n",
      "WARNING:tensorflow:`period` argument is deprecated. Please use `save_freq` to specify the frequency in number of batches seen.\n"
     ]
    },
    {
     "name": "stdout",
     "output_type": "stream",
     "text": [
      "Epoch 1/5000\n",
      "15/15 - 0s - loss: 4.6716 - rmse: 0.7582 - mse: 0.5749 - mae: 0.5786 - val_loss: 4.0641 - val_rmse: 0.3140 - val_mse: 0.0986 - val_mae: 0.2658 - 301ms/epoch - 20ms/step\n",
      "Epoch 2/5000\n",
      "15/15 - 0s - loss: 3.8907 - rmse: 0.2704 - mse: 0.0731 - mae: 0.2081 - val_loss: 3.6454 - val_rmse: 0.1349 - val_mse: 0.0182 - val_mae: 0.1107 - 24ms/epoch - 2ms/step\n",
      "Epoch 3/5000\n",
      "15/15 - 0s - loss: 3.4888 - rmse: 0.1362 - mse: 0.0185 - mae: 0.1063 - val_loss: 3.2961 - val_rmse: 0.1234 - val_mse: 0.0152 - val_mae: 0.1132 - 30ms/epoch - 2ms/step\n",
      "Epoch 4/5000\n",
      "15/15 - 0s - loss: 3.1421 - rmse: 0.0885 - mse: 0.0078 - mae: 0.0655 - val_loss: 2.9614 - val_rmse: 0.0398 - val_mse: 0.0016 - val_mae: 0.0288 - 30ms/epoch - 2ms/step\n",
      "Epoch 5/5000\n",
      "15/15 - 0s - loss: 2.8308 - rmse: 0.0641 - mse: 0.0041 - mae: 0.0418 - val_loss: 2.6699 - val_rmse: 0.0327 - val_mse: 0.0011 - val_mae: 0.0244 - 30ms/epoch - 2ms/step\n",
      "Epoch 6/5000\n",
      "15/15 - 0s - loss: 2.5517 - rmse: 0.0554 - mse: 0.0031 - mae: 0.0330 - val_loss: 2.4071 - val_rmse: 0.0295 - val_mse: 8.7065e-04 - val_mae: 0.0217 - 31ms/epoch - 2ms/step\n",
      "Epoch 7/5000\n",
      "15/15 - 0s - loss: 2.3005 - rmse: 0.0511 - mse: 0.0026 - mae: 0.0301 - val_loss: 2.1702 - val_rmse: 0.0280 - val_mse: 7.8265e-04 - val_mae: 0.0218 - 29ms/epoch - 2ms/step\n",
      "Epoch 8/5000\n",
      "15/15 - 0s - loss: 2.0742 - rmse: 0.0493 - mse: 0.0024 - mae: 0.0272 - val_loss: 1.9566 - val_rmse: 0.0241 - val_mse: 5.8012e-04 - val_mae: 0.0183 - 29ms/epoch - 2ms/step\n",
      "Epoch 9/5000\n",
      "15/15 - 0s - loss: 1.8703 - rmse: 0.0484 - mse: 0.0023 - mae: 0.0259 - val_loss: 1.7642 - val_rmse: 0.0243 - val_mse: 5.9058e-04 - val_mae: 0.0189 - 30ms/epoch - 2ms/step\n",
      "Epoch 10/5000\n",
      "\n",
      "Epoch 10: val_loss improved from inf to 1.59065, saving model to data/output/fnn_compressed/activity_random_single-labeled_Fold-1.model.weights.hdf5\n",
      "15/15 - 0s - loss: 1.6864 - rmse: 0.0460 - mse: 0.0021 - mae: 0.0234 - val_loss: 1.5907 - val_rmse: 0.0219 - val_mse: 4.7987e-04 - val_mae: 0.0164 - 34ms/epoch - 2ms/step\n",
      "Epoch 11/5000\n",
      "15/15 - 0s - loss: 1.5207 - rmse: 0.0460 - mse: 0.0021 - mae: 0.0239 - val_loss: 1.4343 - val_rmse: 0.0215 - val_mse: 4.6080e-04 - val_mae: 0.0165 - 31ms/epoch - 2ms/step\n",
      "Epoch 12/5000\n",
      "15/15 - 0s - loss: 1.3714 - rmse: 0.0456 - mse: 0.0021 - mae: 0.0231 - val_loss: 1.2934 - val_rmse: 0.0241 - val_mse: 5.8023e-04 - val_mae: 0.0196 - 32ms/epoch - 2ms/step\n",
      "Epoch 13/5000\n",
      "15/15 - 0s - loss: 1.2366 - rmse: 0.0440 - mse: 0.0019 - mae: 0.0223 - val_loss: 1.1662 - val_rmse: 0.0210 - val_mse: 4.4142e-04 - val_mae: 0.0159 - 29ms/epoch - 2ms/step\n",
      "Epoch 14/5000\n",
      "15/15 - 0s - loss: 1.1154 - rmse: 0.0451 - mse: 0.0020 - mae: 0.0239 - val_loss: 1.0518 - val_rmse: 0.0242 - val_mse: 5.8774e-04 - val_mae: 0.0198 - 28ms/epoch - 2ms/step\n",
      "Epoch 15/5000\n",
      "15/15 - 0s - loss: 1.0058 - rmse: 0.0432 - mse: 0.0019 - mae: 0.0225 - val_loss: 0.9482 - val_rmse: 0.0194 - val_mse: 3.7462e-04 - val_mae: 0.0145 - 31ms/epoch - 2ms/step\n",
      "Epoch 16/5000\n",
      "15/15 - 0s - loss: 0.9071 - rmse: 0.0435 - mse: 0.0019 - mae: 0.0216 - val_loss: 0.8550 - val_rmse: 0.0189 - val_mse: 3.5550e-04 - val_mae: 0.0143 - 37ms/epoch - 2ms/step\n",
      "Epoch 17/5000\n",
      "15/15 - 0s - loss: 0.8181 - rmse: 0.0428 - mse: 0.0018 - mae: 0.0211 - val_loss: 0.7710 - val_rmse: 0.0175 - val_mse: 3.0713e-04 - val_mae: 0.0130 - 35ms/epoch - 2ms/step\n",
      "Epoch 18/5000\n",
      "15/15 - 0s - loss: 0.7379 - rmse: 0.0436 - mse: 0.0019 - mae: 0.0210 - val_loss: 0.6953 - val_rmse: 0.0183 - val_mse: 3.3364e-04 - val_mae: 0.0143 - 38ms/epoch - 3ms/step\n",
      "Epoch 19/5000\n",
      "15/15 - 0s - loss: 0.6655 - rmse: 0.0428 - mse: 0.0018 - mae: 0.0214 - val_loss: 0.6269 - val_rmse: 0.0158 - val_mse: 2.4912e-04 - val_mae: 0.0116 - 34ms/epoch - 2ms/step\n",
      "Epoch 20/5000\n",
      "\n",
      "Epoch 20: val_loss improved from 1.59065 to 0.56523, saving model to data/output/fnn_compressed/activity_random_single-labeled_Fold-1.model.weights.hdf5\n",
      "15/15 - 0s - loss: 0.6002 - rmse: 0.0418 - mse: 0.0017 - mae: 0.0203 - val_loss: 0.5652 - val_rmse: 0.0148 - val_mse: 2.1925e-04 - val_mae: 0.0110 - 42ms/epoch - 3ms/step\n",
      "Epoch 21/5000\n",
      "15/15 - 0s - loss: 0.5413 - rmse: 0.0411 - mse: 0.0017 - mae: 0.0185 - val_loss: 0.5097 - val_rmse: 0.0146 - val_mse: 2.1265e-04 - val_mae: 0.0109 - 36ms/epoch - 2ms/step\n",
      "Epoch 22/5000\n",
      "15/15 - 0s - loss: 0.4881 - rmse: 0.0400 - mse: 0.0016 - mae: 0.0182 - val_loss: 0.4596 - val_rmse: 0.0143 - val_mse: 2.0447e-04 - val_mae: 0.0109 - 35ms/epoch - 2ms/step\n",
      "Epoch 23/5000\n",
      "15/15 - 0s - loss: 0.4402 - rmse: 0.0391 - mse: 0.0015 - mae: 0.0165 - val_loss: 0.4143 - val_rmse: 0.0116 - val_mse: 1.3404e-04 - val_mae: 0.0088 - 35ms/epoch - 2ms/step\n",
      "Epoch 24/5000\n",
      "15/15 - 0s - loss: 0.3971 - rmse: 0.0390 - mse: 0.0015 - mae: 0.0149 - val_loss: 0.3736 - val_rmse: 0.0138 - val_mse: 1.9078e-04 - val_mae: 0.0114 - 38ms/epoch - 3ms/step\n",
      "Epoch 25/5000\n",
      "15/15 - 0s - loss: 0.3581 - rmse: 0.0381 - mse: 0.0015 - mae: 0.0146 - val_loss: 0.3368 - val_rmse: 0.0102 - val_mse: 1.0425e-04 - val_mae: 0.0079 - 35ms/epoch - 2ms/step\n",
      "Epoch 26/5000\n",
      "15/15 - 0s - loss: 0.3230 - rmse: 0.0380 - mse: 0.0014 - mae: 0.0133 - val_loss: 0.3037 - val_rmse: 0.0098 - val_mse: 9.5889e-05 - val_mae: 0.0077 - 41ms/epoch - 3ms/step\n",
      "Epoch 27/5000\n",
      "15/15 - 0s - loss: 0.2913 - rmse: 0.0372 - mse: 0.0014 - mae: 0.0127 - val_loss: 0.2738 - val_rmse: 0.0081 - val_mse: 6.5752e-05 - val_mae: 0.0062 - 34ms/epoch - 2ms/step\n",
      "Epoch 28/5000\n",
      "15/15 - 0s - loss: 0.2628 - rmse: 0.0371 - mse: 0.0014 - mae: 0.0119 - val_loss: 0.2468 - val_rmse: 0.0068 - val_mse: 4.6710e-05 - val_mae: 0.0053 - 34ms/epoch - 2ms/step\n",
      "Epoch 29/5000\n",
      "15/15 - 0s - loss: 0.2370 - rmse: 0.0368 - mse: 0.0014 - mae: 0.0107 - val_loss: 0.2226 - val_rmse: 0.0086 - val_mse: 7.4455e-05 - val_mae: 0.0073 - 36ms/epoch - 2ms/step\n",
      "Epoch 30/5000\n",
      "\n",
      "Epoch 30: val_loss improved from 0.56523 to 0.20065, saving model to data/output/fnn_compressed/activity_random_single-labeled_Fold-1.model.weights.hdf5\n",
      "15/15 - 0s - loss: 0.2138 - rmse: 0.0363 - mse: 0.0013 - mae: 0.0099 - val_loss: 0.2006 - val_rmse: 0.0061 - val_mse: 3.6742e-05 - val_mae: 0.0047 - 42ms/epoch - 3ms/step\n",
      "Epoch 31/5000\n",
      "15/15 - 0s - loss: 0.1929 - rmse: 0.0365 - mse: 0.0013 - mae: 0.0092 - val_loss: 0.1809 - val_rmse: 0.0050 - val_mse: 2.4876e-05 - val_mae: 0.0038 - 36ms/epoch - 2ms/step\n",
      "Epoch 32/5000\n",
      "15/15 - 0s - loss: 0.1740 - rmse: 0.0361 - mse: 0.0013 - mae: 0.0086 - val_loss: 0.1631 - val_rmse: 0.0044 - val_mse: 1.9115e-05 - val_mae: 0.0034 - 29ms/epoch - 2ms/step\n",
      "Epoch 33/5000\n",
      "15/15 - 0s - loss: 0.1570 - rmse: 0.0356 - mse: 0.0013 - mae: 0.0080 - val_loss: 0.1471 - val_rmse: 0.0074 - val_mse: 5.4154e-05 - val_mae: 0.0066 - 37ms/epoch - 2ms/step\n",
      "Epoch 34/5000\n",
      "15/15 - 0s - loss: 0.1417 - rmse: 0.0356 - mse: 0.0013 - mae: 0.0080 - val_loss: 0.1326 - val_rmse: 0.0051 - val_mse: 2.5967e-05 - val_mae: 0.0042 - 40ms/epoch - 3ms/step\n",
      "Epoch 35/5000\n",
      "15/15 - 0s - loss: 0.1279 - rmse: 0.0354 - mse: 0.0013 - mae: 0.0066 - val_loss: 0.1196 - val_rmse: 0.0048 - val_mse: 2.2646e-05 - val_mae: 0.0041 - 39ms/epoch - 3ms/step\n",
      "Epoch 36/5000\n",
      "15/15 - 0s - loss: 0.1154 - rmse: 0.0353 - mse: 0.0012 - mae: 0.0062 - val_loss: 0.1078 - val_rmse: 0.0027 - val_mse: 7.4421e-06 - val_mae: 0.0021 - 29ms/epoch - 2ms/step\n",
      "Epoch 37/5000\n",
      "15/15 - 0s - loss: 0.1042 - rmse: 0.0356 - mse: 0.0013 - mae: 0.0059 - val_loss: 0.0972 - val_rmse: 0.0047 - val_mse: 2.2073e-05 - val_mae: 0.0043 - 38ms/epoch - 3ms/step\n",
      "Epoch 38/5000\n",
      "15/15 - 0s - loss: 0.0940 - rmse: 0.0353 - mse: 0.0012 - mae: 0.0055 - val_loss: 0.0876 - val_rmse: 0.0020 - val_mse: 3.9958e-06 - val_mae: 0.0016 - 36ms/epoch - 2ms/step\n",
      "Epoch 39/5000\n",
      "15/15 - 0s - loss: 0.0849 - rmse: 0.0356 - mse: 0.0013 - mae: 0.0051 - val_loss: 0.0790 - val_rmse: 0.0025 - val_mse: 6.1059e-06 - val_mae: 0.0020 - 38ms/epoch - 3ms/step\n",
      "Epoch 40/5000\n",
      "\n",
      "Epoch 40: val_loss improved from 0.20065 to 0.07124, saving model to data/output/fnn_compressed/activity_random_single-labeled_Fold-1.model.weights.hdf5\n",
      "15/15 - 0s - loss: 0.0767 - rmse: 0.0352 - mse: 0.0012 - mae: 0.0052 - val_loss: 0.0712 - val_rmse: 0.0043 - val_mse: 1.8619e-05 - val_mae: 0.0041 - 43ms/epoch - 3ms/step\n",
      "Epoch 41/5000\n",
      "15/15 - 0s - loss: 0.0693 - rmse: 0.0354 - mse: 0.0013 - mae: 0.0048 - val_loss: 0.0642 - val_rmse: 0.0029 - val_mse: 8.2254e-06 - val_mae: 0.0026 - 38ms/epoch - 3ms/step\n",
      "Epoch 42/5000\n",
      "15/15 - 0s - loss: 0.0626 - rmse: 0.0354 - mse: 0.0013 - mae: 0.0059 - val_loss: 0.0579 - val_rmse: 0.0042 - val_mse: 1.7681e-05 - val_mae: 0.0041 - 35ms/epoch - 2ms/step\n",
      "Epoch 43/5000\n",
      "15/15 - 0s - loss: 0.0565 - rmse: 0.0353 - mse: 0.0012 - mae: 0.0044 - val_loss: 0.0522 - val_rmse: 0.0012 - val_mse: 1.4859e-06 - val_mae: 9.8476e-04 - 29ms/epoch - 2ms/step\n",
      "Epoch 44/5000\n",
      "15/15 - 0s - loss: 0.0511 - rmse: 0.0353 - mse: 0.0012 - mae: 0.0044 - val_loss: 0.0471 - val_rmse: 0.0036 - val_mse: 1.2908e-05 - val_mae: 0.0035 - 40ms/epoch - 3ms/step\n",
      "Epoch 45/5000\n",
      "15/15 - 0s - loss: 0.0462 - rmse: 0.0352 - mse: 0.0012 - mae: 0.0041 - val_loss: 0.0424 - val_rmse: 0.0021 - val_mse: 4.2286e-06 - val_mae: 0.0019 - 43ms/epoch - 3ms/step\n",
      "Epoch 46/5000\n",
      "15/15 - 0s - loss: 0.0418 - rmse: 0.0352 - mse: 0.0012 - mae: 0.0043 - val_loss: 0.0383 - val_rmse: 0.0029 - val_mse: 8.3983e-06 - val_mae: 0.0028 - 41ms/epoch - 3ms/step\n",
      "Epoch 47/5000\n",
      "15/15 - 0s - loss: 0.0378 - rmse: 0.0354 - mse: 0.0013 - mae: 0.0037 - val_loss: 0.0345 - val_rmse: 0.0040 - val_mse: 1.6239e-05 - val_mae: 0.0040 - 40ms/epoch - 3ms/step\n",
      "Epoch 48/5000\n",
      "15/15 - 0s - loss: 0.0342 - rmse: 0.0352 - mse: 0.0012 - mae: 0.0043 - val_loss: 0.0311 - val_rmse: 8.8117e-04 - val_mse: 7.7645e-07 - val_mae: 7.5710e-04 - 40ms/epoch - 3ms/step\n",
      "Epoch 49/5000\n",
      "15/15 - 0s - loss: 0.0309 - rmse: 0.0352 - mse: 0.0012 - mae: 0.0031 - val_loss: 0.0281 - val_rmse: 0.0037 - val_mse: 1.3674e-05 - val_mae: 0.0037 - 45ms/epoch - 3ms/step\n",
      "Epoch 50/5000\n",
      "\n",
      "Epoch 50: val_loss improved from 0.07124 to 0.02529, saving model to data/output/fnn_compressed/activity_random_single-labeled_Fold-1.model.weights.hdf5\n",
      "15/15 - 0s - loss: 0.0280 - rmse: 0.0352 - mse: 0.0012 - mae: 0.0041 - val_loss: 0.0253 - val_rmse: 5.3476e-04 - val_mse: 2.8597e-07 - val_mae: 4.4091e-04 - 38ms/epoch - 3ms/step\n",
      "Epoch 51/5000\n",
      "15/15 - 0s - loss: 0.0254 - rmse: 0.0352 - mse: 0.0012 - mae: 0.0029 - val_loss: 0.0228 - val_rmse: 0.0036 - val_mse: 1.2902e-05 - val_mae: 0.0036 - 35ms/epoch - 2ms/step\n",
      "Epoch 52/5000\n",
      "15/15 - 0s - loss: 0.0230 - rmse: 0.0353 - mse: 0.0012 - mae: 0.0050 - val_loss: 0.0206 - val_rmse: 0.0034 - val_mse: 1.1257e-05 - val_mae: 0.0033 - 34ms/epoch - 2ms/step\n",
      "Epoch 53/5000\n",
      "15/15 - 0s - loss: 0.0209 - rmse: 0.0352 - mse: 0.0012 - mae: 0.0034 - val_loss: 0.0185 - val_rmse: 3.8652e-04 - val_mse: 1.4940e-07 - val_mae: 3.2419e-04 - 34ms/epoch - 2ms/step\n",
      "Epoch 54/5000\n",
      "15/15 - 0s - loss: 0.0189 - rmse: 0.0352 - mse: 0.0012 - mae: 0.0032 - val_loss: 0.0167 - val_rmse: 0.0040 - val_mse: 1.6301e-05 - val_mae: 0.0040 - 29ms/epoch - 2ms/step\n",
      "Epoch 55/5000\n",
      "15/15 - 0s - loss: 0.0172 - rmse: 0.0353 - mse: 0.0012 - mae: 0.0035 - val_loss: 0.0151 - val_rmse: 0.0013 - val_mse: 1.8151e-06 - val_mae: 0.0013 - 30ms/epoch - 2ms/step\n",
      "Epoch 56/5000\n",
      "15/15 - 0s - loss: 0.0156 - rmse: 0.0352 - mse: 0.0012 - mae: 0.0045 - val_loss: 0.0136 - val_rmse: 2.5312e-04 - val_mse: 6.4070e-08 - val_mae: 2.1964e-04 - 26ms/epoch - 2ms/step\n",
      "Epoch 57/5000\n",
      "15/15 - 0s - loss: 0.0142 - rmse: 0.0352 - mse: 0.0012 - mae: 0.0026 - val_loss: 0.0122 - val_rmse: 5.3952e-04 - val_mse: 2.9108e-07 - val_mae: 5.2356e-04 - 34ms/epoch - 2ms/step\n",
      "Epoch 58/5000\n",
      "15/15 - 0s - loss: 0.0129 - rmse: 0.0351 - mse: 0.0012 - mae: 0.0023 - val_loss: 0.0111 - val_rmse: 0.0027 - val_mse: 7.3663e-06 - val_mae: 0.0027 - 39ms/epoch - 3ms/step\n",
      "Epoch 59/5000\n",
      "15/15 - 0s - loss: 0.0118 - rmse: 0.0352 - mse: 0.0012 - mae: 0.0040 - val_loss: 0.0100 - val_rmse: 5.0369e-04 - val_mse: 2.5371e-07 - val_mae: 4.9416e-04 - 30ms/epoch - 2ms/step\n",
      "Epoch 60/5000\n",
      "\n",
      "Epoch 60: val_loss improved from 0.02529 to 0.00898, saving model to data/output/fnn_compressed/activity_random_single-labeled_Fold-1.model.weights.hdf5\n",
      "15/15 - 0s - loss: 0.0108 - rmse: 0.0353 - mse: 0.0012 - mae: 0.0029 - val_loss: 0.0090 - val_rmse: 9.8426e-04 - val_mse: 9.6876e-07 - val_mae: 9.8065e-04 - 42ms/epoch - 3ms/step\n",
      "Epoch 61/5000\n",
      "15/15 - 0s - loss: 0.0098 - rmse: 0.0352 - mse: 0.0012 - mae: 0.0025 - val_loss: 0.0081 - val_rmse: 0.0036 - val_mse: 1.3183e-05 - val_mae: 0.0036 - 40ms/epoch - 3ms/step\n",
      "Epoch 62/5000\n",
      "15/15 - 0s - loss: 0.0090 - rmse: 0.0352 - mse: 0.0012 - mae: 0.0041 - val_loss: 0.0073 - val_rmse: 1.9959e-04 - val_mse: 3.9834e-08 - val_mae: 1.9015e-04 - 40ms/epoch - 3ms/step\n",
      "Epoch 63/5000\n",
      "15/15 - 0s - loss: 0.0082 - rmse: 0.0352 - mse: 0.0012 - mae: 0.0027 - val_loss: 0.0066 - val_rmse: 0.0013 - val_mse: 1.5866e-06 - val_mae: 0.0013 - 36ms/epoch - 2ms/step\n",
      "Epoch 64/5000\n",
      "15/15 - 0s - loss: 0.0075 - rmse: 0.0353 - mse: 0.0012 - mae: 0.0032 - val_loss: 0.0059 - val_rmse: 7.6152e-04 - val_mse: 5.7992e-07 - val_mae: 7.6015e-04 - 39ms/epoch - 3ms/step\n",
      "Epoch 65/5000\n",
      "15/15 - 0s - loss: 0.0069 - rmse: 0.0353 - mse: 0.0012 - mae: 0.0027 - val_loss: 0.0053 - val_rmse: 5.6241e-04 - val_mse: 3.1630e-07 - val_mae: 5.6105e-04 - 37ms/epoch - 2ms/step\n",
      "Epoch 66/5000\n",
      "15/15 - 0s - loss: 0.0064 - rmse: 0.0352 - mse: 0.0012 - mae: 0.0025 - val_loss: 0.0048 - val_rmse: 0.0042 - val_mse: 1.7794e-05 - val_mae: 0.0042 - 35ms/epoch - 2ms/step\n",
      "Epoch 67/5000\n",
      "15/15 - 0s - loss: 0.0059 - rmse: 0.0354 - mse: 0.0013 - mae: 0.0037 - val_loss: 0.0043 - val_rmse: 7.2296e-04 - val_mse: 5.2267e-07 - val_mae: 7.2239e-04 - 42ms/epoch - 3ms/step\n",
      "Epoch 68/5000\n",
      "15/15 - 0s - loss: 0.0054 - rmse: 0.0355 - mse: 0.0013 - mae: 0.0072 - val_loss: 0.0039 - val_rmse: 0.0037 - val_mse: 1.3572e-05 - val_mae: 0.0037 - 38ms/epoch - 3ms/step\n",
      "Epoch 69/5000\n",
      "15/15 - 0s - loss: 0.0050 - rmse: 0.0353 - mse: 0.0012 - mae: 0.0048 - val_loss: 0.0036 - val_rmse: 0.0066 - val_mse: 4.4104e-05 - val_mae: 0.0066 - 30ms/epoch - 2ms/step\n",
      "Epoch 70/5000\n",
      "\n",
      "Epoch 70: val_loss improved from 0.00898 to 0.00319, saving model to data/output/fnn_compressed/activity_random_single-labeled_Fold-1.model.weights.hdf5\n",
      "15/15 - 0s - loss: 0.0046 - rmse: 0.0353 - mse: 0.0012 - mae: 0.0038 - val_loss: 0.0032 - val_rmse: 5.8446e-05 - val_mse: 3.4159e-09 - val_mae: 5.5622e-05 - 54ms/epoch - 4ms/step\n",
      "Epoch 71/5000\n",
      "15/15 - 0s - loss: 0.0043 - rmse: 0.0353 - mse: 0.0012 - mae: 0.0031 - val_loss: 0.0029 - val_rmse: 4.9443e-04 - val_mse: 2.4447e-07 - val_mae: 4.9418e-04 - 36ms/epoch - 2ms/step\n",
      "Epoch 72/5000\n",
      "15/15 - 0s - loss: 0.0040 - rmse: 0.0352 - mse: 0.0012 - mae: 0.0028 - val_loss: 0.0026 - val_rmse: 0.0013 - val_mse: 1.5745e-06 - val_mae: 0.0013 - 37ms/epoch - 2ms/step\n",
      "Epoch 73/5000\n",
      "15/15 - 0s - loss: 0.0037 - rmse: 0.0352 - mse: 0.0012 - mae: 0.0026 - val_loss: 0.0023 - val_rmse: 3.2823e-05 - val_mse: 1.0773e-09 - val_mae: 3.0848e-05 - 37ms/epoch - 2ms/step\n",
      "Epoch 74/5000\n",
      "15/15 - 0s - loss: 0.0035 - rmse: 0.0352 - mse: 0.0012 - mae: 0.0027 - val_loss: 0.0021 - val_rmse: 3.1929e-04 - val_mse: 1.0195e-07 - val_mae: 3.1913e-04 - 29ms/epoch - 2ms/step\n",
      "Epoch 75/5000\n",
      "15/15 - 0s - loss: 0.0033 - rmse: 0.0352 - mse: 0.0012 - mae: 0.0028 - val_loss: 0.0019 - val_rmse: 0.0043 - val_mse: 1.8919e-05 - val_mae: 0.0043 - 31ms/epoch - 2ms/step\n",
      "Epoch 76/5000\n",
      "15/15 - 0s - loss: 0.0031 - rmse: 0.0352 - mse: 0.0012 - mae: 0.0036 - val_loss: 0.0017 - val_rmse: 0.0016 - val_mse: 2.4616e-06 - val_mae: 0.0016 - 41ms/epoch - 3ms/step\n",
      "Epoch 77/5000\n",
      "15/15 - 0s - loss: 0.0029 - rmse: 0.0353 - mse: 0.0012 - mae: 0.0037 - val_loss: 0.0016 - val_rmse: 0.0029 - val_mse: 8.6390e-06 - val_mae: 0.0029 - 51ms/epoch - 3ms/step\n",
      "Epoch 78/5000\n",
      "15/15 - 0s - loss: 0.0027 - rmse: 0.0353 - mse: 0.0012 - mae: 0.0029 - val_loss: 0.0014 - val_rmse: 0.0034 - val_mse: 1.1238e-05 - val_mae: 0.0034 - 42ms/epoch - 3ms/step\n",
      "Epoch 79/5000\n",
      "15/15 - 0s - loss: 0.0026 - rmse: 0.0352 - mse: 0.0012 - mae: 0.0031 - val_loss: 0.0013 - val_rmse: 8.5538e-04 - val_mse: 7.3168e-07 - val_mae: 8.5537e-04 - 38ms/epoch - 3ms/step\n",
      "Epoch 80/5000\n",
      "\n",
      "Epoch 80: val_loss improved from 0.00319 to 0.00114, saving model to data/output/fnn_compressed/activity_random_single-labeled_Fold-1.model.weights.hdf5\n",
      "15/15 - 0s - loss: 0.0024 - rmse: 0.0353 - mse: 0.0012 - mae: 0.0026 - val_loss: 0.0011 - val_rmse: 0.0034 - val_mse: 1.1780e-05 - val_mae: 0.0034 - 44ms/epoch - 3ms/step\n",
      "Epoch 81/5000\n",
      "15/15 - 0s - loss: 0.0023 - rmse: 0.0353 - mse: 0.0012 - mae: 0.0029 - val_loss: 0.0010 - val_rmse: 0.0014 - val_mse: 2.0526e-06 - val_mae: 0.0014 - 40ms/epoch - 3ms/step\n",
      "Epoch 82/5000\n",
      "15/15 - 0s - loss: 0.0022 - rmse: 0.0354 - mse: 0.0013 - mae: 0.0055 - val_loss: 9.3296e-04 - val_rmse: 0.0036 - val_mse: 1.3169e-05 - val_mae: 0.0036 - 37ms/epoch - 2ms/step\n",
      "Epoch 83/5000\n",
      "15/15 - 0s - loss: 0.0021 - rmse: 0.0355 - mse: 0.0013 - mae: 0.0048 - val_loss: 8.3599e-04 - val_rmse: 0.0026 - val_mse: 6.5070e-06 - val_mae: 0.0026 - 38ms/epoch - 3ms/step\n",
      "Epoch 84/5000\n",
      "15/15 - 0s - loss: 0.0020 - rmse: 0.0353 - mse: 0.0012 - mae: 0.0030 - val_loss: 7.6460e-04 - val_rmse: 0.0041 - val_mse: 1.6657e-05 - val_mae: 0.0041 - 37ms/epoch - 2ms/step\n",
      "Epoch 85/5000\n",
      "15/15 - 0s - loss: 0.0020 - rmse: 0.0352 - mse: 0.0012 - mae: 0.0035 - val_loss: 6.7556e-04 - val_rmse: 0.0011 - val_mse: 1.2436e-06 - val_mae: 0.0011 - 38ms/epoch - 3ms/step\n",
      "Epoch 86/5000\n",
      "15/15 - 0s - loss: 0.0019 - rmse: 0.0352 - mse: 0.0012 - mae: 0.0031 - val_loss: 6.1021e-04 - val_rmse: 0.0015 - val_mse: 2.3078e-06 - val_mae: 0.0015 - 37ms/epoch - 2ms/step\n",
      "Epoch 87/5000\n",
      "15/15 - 0s - loss: 0.0018 - rmse: 0.0352 - mse: 0.0012 - mae: 0.0026 - val_loss: 5.6854e-04 - val_rmse: 0.0045 - val_mse: 2.0269e-05 - val_mae: 0.0045 - 38ms/epoch - 3ms/step\n",
      "Epoch 88/5000\n",
      "15/15 - 0s - loss: 0.0018 - rmse: 0.0353 - mse: 0.0012 - mae: 0.0032 - val_loss: 4.9701e-04 - val_rmse: 0.0017 - val_mse: 2.7236e-06 - val_mae: 0.0017 - 30ms/epoch - 2ms/step\n",
      "Epoch 89/5000\n",
      "15/15 - 0s - loss: 0.0017 - rmse: 0.0352 - mse: 0.0012 - mae: 0.0023 - val_loss: 4.5426e-04 - val_rmse: 0.0029 - val_mse: 8.5621e-06 - val_mae: 0.0029 - 31ms/epoch - 2ms/step\n",
      "Epoch 90/5000\n",
      "\n",
      "Epoch 90: val_loss improved from 0.00114 to 0.00041, saving model to data/output/fnn_compressed/activity_random_single-labeled_Fold-1.model.weights.hdf5\n",
      "15/15 - 0s - loss: 0.0017 - rmse: 0.0352 - mse: 0.0012 - mae: 0.0040 - val_loss: 4.0619e-04 - val_rmse: 0.0021 - val_mse: 4.4329e-06 - val_mae: 0.0021 - 37ms/epoch - 2ms/step\n",
      "Epoch 91/5000\n",
      "15/15 - 0s - loss: 0.0016 - rmse: 0.0353 - mse: 0.0012 - mae: 0.0039 - val_loss: 3.7788e-04 - val_rmse: 0.0039 - val_mse: 1.5508e-05 - val_mae: 0.0039 - 33ms/epoch - 2ms/step\n",
      "Epoch 92/5000\n",
      "15/15 - 0s - loss: 0.0016 - rmse: 0.0352 - mse: 0.0012 - mae: 0.0025 - val_loss: 3.2747e-04 - val_rmse: 8.8384e-04 - val_mse: 7.8117e-07 - val_mae: 8.8384e-04 - 33ms/epoch - 2ms/step\n",
      "Epoch 93/5000\n",
      "15/15 - 0s - loss: 0.0016 - rmse: 0.0352 - mse: 0.0012 - mae: 0.0032 - val_loss: 2.9765e-04 - val_rmse: 0.0018 - val_mse: 3.1519e-06 - val_mae: 0.0018 - 39ms/epoch - 3ms/step\n",
      "Epoch 94/5000\n",
      "15/15 - 0s - loss: 0.0015 - rmse: 0.0351 - mse: 0.0012 - mae: 0.0024 - val_loss: 2.8093e-04 - val_rmse: 0.0039 - val_mse: 1.5283e-05 - val_mae: 0.0039 - 38ms/epoch - 3ms/step\n",
      "Epoch 95/5000\n",
      "15/15 - 0s - loss: 0.0015 - rmse: 0.0353 - mse: 0.0012 - mae: 0.0035 - val_loss: 2.4049e-04 - val_rmse: 0.0010 - val_mse: 1.0137e-06 - val_mae: 0.0010 - 38ms/epoch - 3ms/step\n",
      "Epoch 96/5000\n",
      "15/15 - 0s - loss: 0.0015 - rmse: 0.0352 - mse: 0.0012 - mae: 0.0041 - val_loss: 2.1620e-04 - val_rmse: 5.2613e-04 - val_mse: 2.7681e-07 - val_mae: 5.2613e-04 - 46ms/epoch - 3ms/step\n",
      "Epoch 97/5000\n",
      "15/15 - 0s - loss: 0.0015 - rmse: 0.0353 - mse: 0.0012 - mae: 0.0028 - val_loss: 1.9672e-04 - val_rmse: 0.0014 - val_mse: 2.0208e-06 - val_mae: 0.0014 - 33ms/epoch - 2ms/step\n",
      "Epoch 98/5000\n",
      "15/15 - 0s - loss: 0.0014 - rmse: 0.0352 - mse: 0.0012 - mae: 0.0022 - val_loss: 1.8153e-04 - val_rmse: 0.0024 - val_mse: 5.9642e-06 - val_mae: 0.0024 - 45ms/epoch - 3ms/step\n",
      "Epoch 99/5000\n",
      "15/15 - 0s - loss: 0.0014 - rmse: 0.0354 - mse: 0.0013 - mae: 0.0055 - val_loss: 1.7231e-04 - val_rmse: 0.0038 - val_mse: 1.4092e-05 - val_mae: 0.0038 - 38ms/epoch - 3ms/step\n",
      "Epoch 100/5000\n",
      "\n",
      "Epoch 100: val_loss improved from 0.00041 to 0.00015, saving model to data/output/fnn_compressed/activity_random_single-labeled_Fold-1.model.weights.hdf5\n",
      "15/15 - 0s - loss: 0.0014 - rmse: 0.0355 - mse: 0.0013 - mae: 0.0045 - val_loss: 1.4588e-04 - val_rmse: 0.0018 - val_mse: 3.1693e-06 - val_mae: 0.0018 - 46ms/epoch - 3ms/step\n",
      "Epoch 101/5000\n",
      "15/15 - 0s - loss: 0.0014 - rmse: 0.0352 - mse: 0.0012 - mae: 0.0027 - val_loss: 1.4006e-04 - val_rmse: 0.0034 - val_mse: 1.1370e-05 - val_mae: 0.0034 - 34ms/epoch - 2ms/step\n",
      "Epoch 102/5000\n",
      "15/15 - 0s - loss: 0.0014 - rmse: 0.0355 - mse: 0.0013 - mae: 0.0069 - val_loss: 1.2134e-04 - val_rmse: 0.0023 - val_mse: 5.3518e-06 - val_mae: 0.0023 - 37ms/epoch - 2ms/step\n",
      "Epoch 103/5000\n",
      "15/15 - 0s - loss: 0.0014 - rmse: 0.0354 - mse: 0.0013 - mae: 0.0039 - val_loss: 1.0822e-04 - val_rmse: 0.0019 - val_mse: 3.5861e-06 - val_mae: 0.0019 - 44ms/epoch - 3ms/step\n",
      "Epoch 104/5000\n",
      "15/15 - 0s - loss: 0.0013 - rmse: 0.0352 - mse: 0.0012 - mae: 0.0025 - val_loss: 9.4939e-05 - val_rmse: 7.8730e-04 - val_mse: 6.1985e-07 - val_mae: 7.8730e-04 - 35ms/epoch - 2ms/step\n",
      "Epoch 105/5000\n",
      "15/15 - 0s - loss: 0.0013 - rmse: 0.0352 - mse: 0.0012 - mae: 0.0022 - val_loss: 9.9466e-05 - val_rmse: 0.0038 - val_mse: 1.4400e-05 - val_mae: 0.0038 - 52ms/epoch - 3ms/step\n",
      "Epoch 106/5000\n",
      "15/15 - 0s - loss: 0.0013 - rmse: 0.0352 - mse: 0.0012 - mae: 0.0038 - val_loss: 7.6663e-05 - val_rmse: 5.2158e-05 - val_mse: 2.7205e-09 - val_mae: 5.2158e-05 - 44ms/epoch - 3ms/step\n",
      "Epoch 107/5000\n",
      "15/15 - 0s - loss: 0.0013 - rmse: 0.0353 - mse: 0.0012 - mae: 0.0029 - val_loss: 8.0239e-05 - val_rmse: 0.0033 - val_mse: 1.1100e-05 - val_mae: 0.0033 - 33ms/epoch - 2ms/step\n",
      "Epoch 108/5000\n",
      "15/15 - 0s - loss: 0.0013 - rmse: 0.0352 - mse: 0.0012 - mae: 0.0027 - val_loss: 6.2917e-05 - val_rmse: 7.7393e-04 - val_mse: 5.9897e-07 - val_mae: 7.7393e-04 - 34ms/epoch - 2ms/step\n",
      "Epoch 109/5000\n",
      "15/15 - 0s - loss: 0.0013 - rmse: 0.0352 - mse: 0.0012 - mae: 0.0019 - val_loss: 6.6597e-05 - val_rmse: 0.0032 - val_mse: 1.0389e-05 - val_mae: 0.0032 - 34ms/epoch - 2ms/step\n",
      "Epoch 110/5000\n",
      "\n",
      "Epoch 110: val_loss improved from 0.00015 to 0.00005, saving model to data/output/fnn_compressed/activity_random_single-labeled_Fold-1.model.weights.hdf5\n",
      "15/15 - 0s - loss: 0.0013 - rmse: 0.0352 - mse: 0.0012 - mae: 0.0043 - val_loss: 5.1405e-05 - val_rmse: 8.7019e-04 - val_mse: 7.5722e-07 - val_mae: 8.7019e-04 - 36ms/epoch - 2ms/step\n",
      "Epoch 111/5000\n",
      "15/15 - 0s - loss: 0.0013 - rmse: 0.0352 - mse: 0.0012 - mae: 0.0023 - val_loss: 4.6025e-05 - val_rmse: 5.9957e-04 - val_mse: 3.5948e-07 - val_mae: 5.9957e-04 - 34ms/epoch - 2ms/step\n",
      "Epoch 112/5000\n",
      "15/15 - 0s - loss: 0.0013 - rmse: 0.0352 - mse: 0.0012 - mae: 0.0021 - val_loss: 5.7716e-05 - val_rmse: 0.0041 - val_mse: 1.6513e-05 - val_mae: 0.0041 - 38ms/epoch - 3ms/step\n",
      "Epoch 113/5000\n",
      "15/15 - 0s - loss: 0.0013 - rmse: 0.0353 - mse: 0.0012 - mae: 0.0032 - val_loss: 4.0052e-05 - val_rmse: 0.0017 - val_mse: 2.9163e-06 - val_mae: 0.0017 - 38ms/epoch - 3ms/step\n",
      "Epoch 114/5000\n",
      "15/15 - 0s - loss: 0.0013 - rmse: 0.0352 - mse: 0.0012 - mae: 0.0034 - val_loss: 3.3516e-05 - val_rmse: 1.9518e-04 - val_mse: 3.8094e-08 - val_mae: 1.9518e-04 - 42ms/epoch - 3ms/step\n",
      "Epoch 115/5000\n",
      "15/15 - 0s - loss: 0.0013 - rmse: 0.0352 - mse: 0.0012 - mae: 0.0030 - val_loss: 5.0575e-05 - val_rmse: 0.0045 - val_mse: 2.0362e-05 - val_mae: 0.0045 - 38ms/epoch - 3ms/step\n",
      "Epoch 116/5000\n",
      "15/15 - 0s - loss: 0.0013 - rmse: 0.0352 - mse: 0.0012 - mae: 0.0040 - val_loss: 3.2649e-05 - val_rmse: 0.0023 - val_mse: 5.4280e-06 - val_mae: 0.0023 - 50ms/epoch - 3ms/step\n",
      "Epoch 117/5000\n",
      "15/15 - 0s - loss: 0.0013 - rmse: 0.0353 - mse: 0.0012 - mae: 0.0040 - val_loss: 3.4251e-05 - val_rmse: 0.0031 - val_mse: 9.6806e-06 - val_mae: 0.0031 - 30ms/epoch - 2ms/step\n",
      "Epoch 118/5000\n",
      "15/15 - 0s - loss: 0.0013 - rmse: 0.0353 - mse: 0.0012 - mae: 0.0027 - val_loss: 2.6791e-05 - val_rmse: 0.0022 - val_mse: 4.6391e-06 - val_mae: 0.0022 - 50ms/epoch - 3ms/step\n",
      "Epoch 119/5000\n",
      "15/15 - 0s - loss: 0.0013 - rmse: 0.0352 - mse: 0.0012 - mae: 0.0023 - val_loss: 2.5254e-05 - val_rmse: 0.0023 - val_mse: 5.2771e-06 - val_mae: 0.0023 - 60ms/epoch - 4ms/step\n",
      "Epoch 120/5000\n",
      "\n",
      "Epoch 120: val_loss improved from 0.00005 to 0.00002, saving model to data/output/fnn_compressed/activity_random_single-labeled_Fold-1.model.weights.hdf5\n",
      "15/15 - 0s - loss: 0.0013 - rmse: 0.0354 - mse: 0.0013 - mae: 0.0064 - val_loss: 1.9504e-05 - val_rmse: 0.0012 - val_mse: 1.4900e-06 - val_mae: 0.0012 - 45ms/epoch - 3ms/step\n",
      "Epoch 121/5000\n",
      "15/15 - 0s - loss: 0.0013 - rmse: 0.0354 - mse: 0.0013 - mae: 0.0039 - val_loss: 2.9448e-05 - val_rmse: 0.0036 - val_mse: 1.3169e-05 - val_mae: 0.0036 - 39ms/epoch - 3ms/step\n",
      "Epoch 122/5000\n",
      "15/15 - 0s - loss: 0.0013 - rmse: 0.0351 - mse: 0.0012 - mae: 0.0033 - val_loss: 1.8012e-05 - val_rmse: 0.0018 - val_mse: 3.3512e-06 - val_mae: 0.0018 - 61ms/epoch - 4ms/step\n",
      "Epoch 123/5000\n",
      "Restoring model weights from the end of the best epoch: 103.\n",
      "15/15 - 0s - loss: 0.0013 - rmse: 0.0352 - mse: 0.0012 - mae: 0.0032 - val_loss: 2.8539e-05 - val_rmse: 0.0039 - val_mse: 1.5297e-05 - val_mae: 0.0039 - 42ms/epoch - 3ms/step\n",
      "Epoch 123: early stopping\n",
      "7/7 [==============================] - 0s 2ms/step\n",
      "INFO:tensorflow:Assets written to: data/output/fnn_compressed/activity-1_saved_model/assets\n"
     ]
    },
    {
     "name": "stderr",
     "output_type": "stream",
     "text": [
      "INFO:tensorflow:Assets written to: data/output/fnn_compressed/activity-1_saved_model/assets\n"
     ]
    },
    {
     "data": {
      "text/plain": [
       "VBox(children=(Label(value='0.004 MB of 0.004 MB uploaded\\r'), FloatProgress(value=1.0, max=1.0)))"
      ],
      "application/vnd.jupyter.widget-view+json": {
       "version_major": 2,
       "version_minor": 0,
       "model_id": "f2fae644a6044e4e833f0f0da4ed1aaa"
      }
     },
     "metadata": {},
     "output_type": "display_data"
    },
    {
     "data": {
      "text/plain": [
       "<IPython.core.display.HTML object>"
      ],
      "text/html": [
       "<style>\n",
       "    table.wandb td:nth-child(1) { padding: 0 10px; text-align: left ; width: auto;} td:nth-child(2) {text-align: left ; width: 100%}\n",
       "    .wandb-row { display: flex; flex-direction: row; flex-wrap: wrap; justify-content: flex-start; width: 100% }\n",
       "    .wandb-col { display: flex; flex-direction: column; flex-basis: 100%; flex: 1; padding: 10px; }\n",
       "    </style>\n",
       "<div class=\"wandb-row\"><div class=\"wandb-col\"><h3>Run history:</h3><br/><table class=\"wandb\"><tr><td>epoch</td><td>▁▁▁▂▂▂▂▂▂▃▃▃▃▃▃▄▄▄▄▄▅▅▅▅▅▅▆▆▆▆▆▇▇▇▇▇▇███</td></tr><tr><td>loss</td><td>█▆▄▄▃▂▂▂▁▁▁▁▁▁▁▁▁▁▁▁▁▁▁▁▁▁▁▁▁▁▁▁▁▁▁▁▁▁▁▁</td></tr><tr><td>mae</td><td>█▂▁▁▁▁▁▁▁▁▁▁▁▁▁▁▁▁▁▁▁▁▁▁▁▁▁▁▁▁▁▁▁▁▁▁▁▁▁▁</td></tr><tr><td>mse</td><td>█▁▁▁▁▁▁▁▁▁▁▁▁▁▁▁▁▁▁▁▁▁▁▁▁▁▁▁▁▁▁▁▁▁▁▁▁▁▁▁</td></tr><tr><td>rmse</td><td>█▂▁▁▁▁▁▁▁▁▁▁▁▁▁▁▁▁▁▁▁▁▁▁▁▁▁▁▁▁▁▁▁▁▁▁▁▁▁▁</td></tr><tr><td>val_loss</td><td>█▆▅▄▃▂▂▂▂▁▁▁▁▁▁▁▁▁▁▁▁▁▁▁▁▁▁▁▁▁▁▁▁▁▁▁▁▁▁▁</td></tr><tr><td>val_mae</td><td>█▂▂▁▁▁▁▁▁▁▁▁▁▁▁▁▁▁▁▁▁▁▁▁▁▁▁▁▁▁▁▁▁▁▁▁▁▁▁▁</td></tr><tr><td>val_mse</td><td>█▁▁▁▁▁▁▁▁▁▁▁▁▁▁▁▁▁▁▁▁▁▁▁▁▁▁▁▁▁▁▁▁▁▁▁▁▁▁▁</td></tr><tr><td>val_rmse</td><td>█▂▂▁▁▁▁▁▁▁▁▁▁▁▁▁▁▁▁▁▁▁▁▁▁▁▁▁▁▁▁▁▁▁▁▁▁▁▁▁</td></tr></table><br/></div><div class=\"wandb-col\"><h3>Run summary:</h3><br/><table class=\"wandb\"><tr><td>best_epoch</td><td>121</td></tr><tr><td>best_val_loss</td><td>2e-05</td></tr><tr><td>epoch</td><td>122</td></tr><tr><td>loss</td><td>0.00126</td></tr><tr><td>mae</td><td>0.00323</td></tr><tr><td>mse</td><td>0.00124</td></tr><tr><td>rmse</td><td>0.03523</td></tr><tr><td>val_loss</td><td>3e-05</td></tr><tr><td>val_mae</td><td>0.00391</td></tr><tr><td>val_mse</td><td>2e-05</td></tr><tr><td>val_rmse</td><td>0.00391</td></tr></table><br/></div></div>"
      ]
     },
     "metadata": {},
     "output_type": "display_data"
    },
    {
     "data": {
      "text/plain": [
       "<IPython.core.display.HTML object>"
      ],
      "text/html": [
       " View run <strong style=\"color:#cdcd00\">activity-1</strong> at: <a href='https://wandb.ai/dfpl_regression/FNN_0.5_random/runs/dqo5mpgo' target=\"_blank\">https://wandb.ai/dfpl_regression/FNN_0.5_random/runs/dqo5mpgo</a><br/> View project at: <a href='https://wandb.ai/dfpl_regression/FNN_0.5_random' target=\"_blank\">https://wandb.ai/dfpl_regression/FNN_0.5_random</a><br/>Synced 6 W&B file(s), 0 media file(s), 0 artifact file(s) and 0 other file(s)"
      ]
     },
     "metadata": {},
     "output_type": "display_data"
    },
    {
     "data": {
      "text/plain": [
       "<IPython.core.display.HTML object>"
      ],
      "text/html": [
       "Find logs at: <code>./wandb/run-20240808_154232-dqo5mpgo/logs</code>"
      ]
     },
     "metadata": {},
     "output_type": "display_data"
    },
    {
     "data": {
      "text/plain": [
       "<IPython.core.display.HTML object>"
      ],
      "text/html": [
       "The new W&B backend becomes opt-out in version 0.18.0; try it out with `wandb.require(\"core\")`! See https://wandb.me/wandb-core for more information."
      ]
     },
     "metadata": {},
     "output_type": "display_data"
    },
    {
     "data": {
      "text/plain": [
       "VBox(children=(Label(value='Waiting for wandb.init()...\\r'), FloatProgress(value=0.011113578743404812, max=1.0…"
      ],
      "application/vnd.jupyter.widget-view+json": {
       "version_major": 2,
       "version_minor": 0,
       "model_id": "dd1dde93acc2480699857fccf471e937"
      }
     },
     "metadata": {},
     "output_type": "display_data"
    },
    {
     "data": {
      "text/plain": [
       "<IPython.core.display.HTML object>"
      ],
      "text/html": [
       "Tracking run with wandb version 0.17.6"
      ]
     },
     "metadata": {},
     "output_type": "display_data"
    },
    {
     "data": {
      "text/plain": [
       "<IPython.core.display.HTML object>"
      ],
      "text/html": [
       "Run data is saved locally in <code>/home/hertelj/git-hertelj/deepFPlearn/example/wandb/run-20240808_154254-mnnd6teh</code>"
      ]
     },
     "metadata": {},
     "output_type": "display_data"
    },
    {
     "data": {
      "text/plain": [
       "<IPython.core.display.HTML object>"
      ],
      "text/html": [
       "Syncing run <strong><a href='https://wandb.ai/dfpl_regression/FNN_0.5_random/runs/mnnd6teh' target=\"_blank\">activity-2</a></strong> to <a href='https://wandb.ai/dfpl_regression/FNN_0.5_random' target=\"_blank\">Weights & Biases</a> (<a href='https://wandb.me/run' target=\"_blank\">docs</a>)<br/>"
      ]
     },
     "metadata": {},
     "output_type": "display_data"
    },
    {
     "data": {
      "text/plain": [
       "<IPython.core.display.HTML object>"
      ],
      "text/html": [
       " View project at <a href='https://wandb.ai/dfpl_regression/FNN_0.5_random' target=\"_blank\">https://wandb.ai/dfpl_regression/FNN_0.5_random</a>"
      ]
     },
     "metadata": {},
     "output_type": "display_data"
    },
    {
     "data": {
      "text/plain": [
       "<IPython.core.display.HTML object>"
      ],
      "text/html": [
       " View run at <a href='https://wandb.ai/dfpl_regression/FNN_0.5_random/runs/mnnd6teh' target=\"_blank\">https://wandb.ai/dfpl_regression/FNN_0.5_random/runs/mnnd6teh</a>"
      ]
     },
     "metadata": {},
     "output_type": "display_data"
    },
    {
     "name": "stdout",
     "output_type": "stream",
     "text": [
      "WARNING:tensorflow:`period` argument is deprecated. Please use `save_freq` to specify the frequency in number of batches seen.\n"
     ]
    },
    {
     "name": "stderr",
     "output_type": "stream",
     "text": [
      "/home/hertelj/build/local/miniforge3/envs/dfpl/lib/python3.10/site-packages/keras/optimizers/optimizer_v2/gradient_descent.py:108: UserWarning: The `lr` argument is deprecated, use `learning_rate` instead.\n",
      "  super(SGD, self).__init__(name, **kwargs)\n",
      "WARNING:tensorflow:`period` argument is deprecated. Please use `save_freq` to specify the frequency in number of batches seen.\n"
     ]
    },
    {
     "name": "stdout",
     "output_type": "stream",
     "text": [
      "Epoch 1/5000\n",
      "15/15 - 0s - loss: 4.4966 - rmse: 0.6188 - mse: 0.3830 - mae: 0.4648 - val_loss: 4.0342 - val_rmse: 0.2430 - val_mse: 0.0591 - val_mae: 0.1982 - 422ms/epoch - 28ms/step\n",
      "Epoch 2/5000\n",
      "15/15 - 0s - loss: 3.8641 - rmse: 0.2013 - mse: 0.0405 - mae: 0.1595 - val_loss: 3.6475 - val_rmse: 0.1319 - val_mse: 0.0174 - val_mae: 0.0946 - 36ms/epoch - 2ms/step\n",
      "Epoch 3/5000\n",
      "15/15 - 0s - loss: 3.4797 - rmse: 0.0870 - mse: 0.0076 - mae: 0.0670 - val_loss: 3.2889 - val_rmse: 0.0826 - val_mse: 0.0068 - val_mae: 0.0371 - 40ms/epoch - 3ms/step\n",
      "Epoch 4/5000\n",
      "15/15 - 0s - loss: 3.1370 - rmse: 0.0405 - mse: 0.0016 - mae: 0.0325 - val_loss: 2.9667 - val_rmse: 0.0760 - val_mse: 0.0058 - val_mae: 0.0244 - 41ms/epoch - 3ms/step\n",
      "Epoch 5/5000\n",
      "15/15 - 0s - loss: 2.8283 - rmse: 0.0221 - mse: 4.8683e-04 - mae: 0.0174 - val_loss: 2.6752 - val_rmse: 0.0728 - val_mse: 0.0053 - val_mae: 0.0152 - 42ms/epoch - 3ms/step\n",
      "Epoch 6/5000\n",
      "15/15 - 0s - loss: 2.5499 - rmse: 0.0144 - mse: 2.0700e-04 - mae: 0.0113 - val_loss: 2.4123 - val_rmse: 0.0710 - val_mse: 0.0050 - val_mae: 0.0124 - 55ms/epoch - 4ms/step\n",
      "Epoch 7/5000\n",
      "15/15 - 0s - loss: 2.2990 - rmse: 0.0111 - mse: 1.2417e-04 - mae: 0.0089 - val_loss: 2.1754 - val_rmse: 0.0707 - val_mse: 0.0050 - val_mae: 0.0114 - 60ms/epoch - 4ms/step\n",
      "Epoch 8/5000\n",
      "15/15 - 0s - loss: 2.0728 - rmse: 0.0089 - mse: 7.9812e-05 - mae: 0.0072 - val_loss: 1.9619 - val_rmse: 0.0705 - val_mse: 0.0050 - val_mae: 0.0092 - 53ms/epoch - 4ms/step\n",
      "Epoch 9/5000\n",
      "15/15 - 0s - loss: 1.8688 - rmse: 0.0070 - mse: 4.8462e-05 - mae: 0.0055 - val_loss: 1.7693 - val_rmse: 0.0704 - val_mse: 0.0050 - val_mae: 0.0088 - 48ms/epoch - 3ms/step\n",
      "Epoch 10/5000\n",
      "\n",
      "Epoch 10: val_loss improved from inf to 1.59571, saving model to data/output/fnn_compressed/activity_random_single-labeled_Fold-2.model.weights.hdf5\n",
      "15/15 - 0s - loss: 1.6850 - rmse: 0.0062 - mse: 3.8013e-05 - mae: 0.0049 - val_loss: 1.5957 - val_rmse: 0.0702 - val_mse: 0.0049 - val_mae: 0.0080 - 42ms/epoch - 3ms/step\n",
      "Epoch 11/5000\n",
      "15/15 - 0s - loss: 1.5192 - rmse: 0.0050 - mse: 2.5304e-05 - mae: 0.0040 - val_loss: 1.4392 - val_rmse: 0.0702 - val_mse: 0.0049 - val_mae: 0.0076 - 37ms/epoch - 2ms/step\n",
      "Epoch 12/5000\n",
      "15/15 - 0s - loss: 1.3697 - rmse: 0.0043 - mse: 1.8570e-05 - mae: 0.0034 - val_loss: 1.2981 - val_rmse: 0.0702 - val_mse: 0.0049 - val_mae: 0.0072 - 42ms/epoch - 3ms/step\n",
      "Epoch 13/5000\n",
      "15/15 - 0s - loss: 1.2350 - rmse: 0.0039 - mse: 1.5452e-05 - mae: 0.0031 - val_loss: 1.1709 - val_rmse: 0.0703 - val_mse: 0.0049 - val_mae: 0.0071 - 42ms/epoch - 3ms/step\n",
      "Epoch 14/5000\n",
      "15/15 - 0s - loss: 1.1135 - rmse: 0.0034 - mse: 1.1334e-05 - mae: 0.0027 - val_loss: 1.0562 - val_rmse: 0.0702 - val_mse: 0.0049 - val_mae: 0.0067 - 41ms/epoch - 3ms/step\n",
      "Epoch 15/5000\n",
      "15/15 - 0s - loss: 1.0039 - rmse: 0.0031 - mse: 9.5369e-06 - mae: 0.0024 - val_loss: 0.9527 - val_rmse: 0.0702 - val_mse: 0.0049 - val_mae: 0.0064 - 42ms/epoch - 3ms/step\n",
      "Epoch 16/5000\n",
      "15/15 - 0s - loss: 0.9052 - rmse: 0.0026 - mse: 6.6254e-06 - mae: 0.0020 - val_loss: 0.8595 - val_rmse: 0.0702 - val_mse: 0.0049 - val_mae: 0.0063 - 38ms/epoch - 3ms/step\n",
      "Epoch 17/5000\n",
      "15/15 - 0s - loss: 0.8161 - rmse: 0.0023 - mse: 5.4966e-06 - mae: 0.0019 - val_loss: 0.7754 - val_rmse: 0.0702 - val_mse: 0.0049 - val_mae: 0.0061 - 46ms/epoch - 3ms/step\n",
      "Epoch 18/5000\n",
      "15/15 - 0s - loss: 0.7358 - rmse: 0.0020 - mse: 3.9836e-06 - mae: 0.0015 - val_loss: 0.6996 - val_rmse: 0.0702 - val_mse: 0.0049 - val_mae: 0.0059 - 54ms/epoch - 4ms/step\n",
      "Epoch 19/5000\n",
      "15/15 - 0s - loss: 0.6634 - rmse: 0.0018 - mse: 3.3362e-06 - mae: 0.0015 - val_loss: 0.6313 - val_rmse: 0.0702 - val_mse: 0.0049 - val_mae: 0.0058 - 41ms/epoch - 3ms/step\n",
      "Epoch 20/5000\n",
      "\n",
      "Epoch 20: val_loss improved from 1.59571 to 0.56966, saving model to data/output/fnn_compressed/activity_random_single-labeled_Fold-2.model.weights.hdf5\n",
      "15/15 - 0s - loss: 0.5982 - rmse: 0.0015 - mse: 2.3838e-06 - mae: 0.0012 - val_loss: 0.5697 - val_rmse: 0.0702 - val_mse: 0.0049 - val_mae: 0.0057 - 43ms/epoch - 3ms/step\n",
      "Epoch 21/5000\n",
      "15/15 - 0s - loss: 0.5393 - rmse: 0.0014 - mse: 1.9140e-06 - mae: 0.0011 - val_loss: 0.5141 - val_rmse: 0.0702 - val_mse: 0.0049 - val_mae: 0.0056 - 34ms/epoch - 2ms/step\n",
      "Epoch 22/5000\n",
      "15/15 - 0s - loss: 0.4863 - rmse: 0.0012 - mse: 1.4825e-06 - mae: 9.7156e-04 - val_loss: 0.4640 - val_rmse: 0.0702 - val_mse: 0.0049 - val_mae: 0.0055 - 42ms/epoch - 3ms/step\n",
      "Epoch 23/5000\n",
      "15/15 - 0s - loss: 0.4384 - rmse: 0.0011 - mse: 1.1507e-06 - mae: 8.4993e-04 - val_loss: 0.4188 - val_rmse: 0.0702 - val_mse: 0.0049 - val_mae: 0.0054 - 41ms/epoch - 3ms/step\n",
      "Epoch 24/5000\n",
      "15/15 - 0s - loss: 0.3953 - rmse: 9.2116e-04 - mse: 8.4853e-07 - mae: 7.3776e-04 - val_loss: 0.3781 - val_rmse: 0.0702 - val_mse: 0.0049 - val_mae: 0.0054 - 43ms/epoch - 3ms/step\n",
      "Epoch 25/5000\n",
      "15/15 - 0s - loss: 0.3564 - rmse: 8.2009e-04 - mse: 6.7255e-07 - mae: 6.5690e-04 - val_loss: 0.3414 - val_rmse: 0.0702 - val_mse: 0.0049 - val_mae: 0.0053 - 49ms/epoch - 3ms/step\n",
      "Epoch 26/5000\n",
      "15/15 - 0s - loss: 0.3213 - rmse: 7.4504e-04 - mse: 5.5508e-07 - mae: 5.8767e-04 - val_loss: 0.3083 - val_rmse: 0.0702 - val_mse: 0.0049 - val_mae: 0.0053 - 32ms/epoch - 2ms/step\n",
      "Epoch 27/5000\n",
      "15/15 - 0s - loss: 0.2897 - rmse: 6.2837e-04 - mse: 3.9484e-07 - mae: 5.0207e-04 - val_loss: 0.2785 - val_rmse: 0.0702 - val_mse: 0.0049 - val_mae: 0.0052 - 34ms/epoch - 2ms/step\n",
      "Epoch 28/5000\n",
      "15/15 - 0s - loss: 0.2612 - rmse: 5.7320e-04 - mse: 3.2856e-07 - mae: 4.5983e-04 - val_loss: 0.2515 - val_rmse: 0.0702 - val_mse: 0.0049 - val_mae: 0.0052 - 35ms/epoch - 2ms/step\n",
      "Epoch 29/5000\n",
      "15/15 - 0s - loss: 0.2355 - rmse: 4.8356e-04 - mse: 2.3383e-07 - mae: 3.8513e-04 - val_loss: 0.2273 - val_rmse: 0.0702 - val_mse: 0.0049 - val_mae: 0.0051 - 36ms/epoch - 2ms/step\n",
      "Epoch 30/5000\n",
      "\n",
      "Epoch 30: val_loss improved from 0.56966 to 0.20541, saving model to data/output/fnn_compressed/activity_random_single-labeled_Fold-2.model.weights.hdf5\n",
      "15/15 - 0s - loss: 0.2124 - rmse: 4.5270e-04 - mse: 2.0494e-07 - mae: 3.5534e-04 - val_loss: 0.2054 - val_rmse: 0.0702 - val_mse: 0.0049 - val_mae: 0.0051 - 41ms/epoch - 3ms/step\n",
      "Epoch 31/5000\n",
      "15/15 - 0s - loss: 0.1915 - rmse: 3.9084e-04 - mse: 1.5276e-07 - mae: 3.1098e-04 - val_loss: 0.1857 - val_rmse: 0.0702 - val_mse: 0.0049 - val_mae: 0.0051 - 37ms/epoch - 2ms/step\n",
      "Epoch 32/5000\n",
      "15/15 - 0s - loss: 0.1726 - rmse: 3.3803e-04 - mse: 1.1427e-07 - mae: 2.6901e-04 - val_loss: 0.1679 - val_rmse: 0.0702 - val_mse: 0.0049 - val_mae: 0.0051 - 36ms/epoch - 2ms/step\n",
      "Epoch 33/5000\n",
      "15/15 - 0s - loss: 0.1556 - rmse: 2.8754e-04 - mse: 8.2677e-08 - mae: 2.2879e-04 - val_loss: 0.1519 - val_rmse: 0.0702 - val_mse: 0.0049 - val_mae: 0.0050 - 47ms/epoch - 3ms/step\n",
      "Epoch 34/5000\n",
      "15/15 - 0s - loss: 0.1403 - rmse: 2.6150e-04 - mse: 6.8384e-08 - mae: 2.0600e-04 - val_loss: 0.1374 - val_rmse: 0.0702 - val_mse: 0.0049 - val_mae: 0.0050 - 33ms/epoch - 2ms/step\n",
      "Epoch 35/5000\n",
      "15/15 - 0s - loss: 0.1265 - rmse: 2.3237e-04 - mse: 5.3995e-08 - mae: 1.8564e-04 - val_loss: 0.1244 - val_rmse: 0.0702 - val_mse: 0.0049 - val_mae: 0.0050 - 34ms/epoch - 2ms/step\n",
      "Epoch 36/5000\n",
      "15/15 - 0s - loss: 0.1141 - rmse: 2.0257e-04 - mse: 4.1035e-08 - mae: 1.5993e-04 - val_loss: 0.1126 - val_rmse: 0.0702 - val_mse: 0.0049 - val_mae: 0.0050 - 32ms/epoch - 2ms/step\n",
      "Epoch 37/5000\n",
      "15/15 - 0s - loss: 0.1029 - rmse: 1.8577e-04 - mse: 3.4509e-08 - mae: 1.4994e-04 - val_loss: 0.1020 - val_rmse: 0.0702 - val_mse: 0.0049 - val_mae: 0.0050 - 33ms/epoch - 2ms/step\n",
      "Epoch 38/5000\n",
      "15/15 - 0s - loss: 0.0927 - rmse: 1.7220e-04 - mse: 2.9652e-08 - mae: 1.3656e-04 - val_loss: 0.0925 - val_rmse: 0.0702 - val_mse: 0.0049 - val_mae: 0.0050 - 32ms/epoch - 2ms/step\n",
      "Epoch 39/5000\n",
      "15/15 - 0s - loss: 0.0836 - rmse: 1.4907e-04 - mse: 2.2222e-08 - mae: 1.1763e-04 - val_loss: 0.0839 - val_rmse: 0.0702 - val_mse: 0.0049 - val_mae: 0.0050 - 32ms/epoch - 2ms/step\n",
      "Epoch 40/5000\n",
      "\n",
      "Epoch 40: val_loss improved from 0.20541 to 0.07610, saving model to data/output/fnn_compressed/activity_random_single-labeled_Fold-2.model.weights.hdf5\n",
      "15/15 - 0s - loss: 0.0754 - rmse: 1.3902e-04 - mse: 1.9328e-08 - mae: 1.1077e-04 - val_loss: 0.0761 - val_rmse: 0.0702 - val_mse: 0.0049 - val_mae: 0.0050 - 45ms/epoch - 3ms/step\n",
      "Epoch 41/5000\n",
      "15/15 - 0s - loss: 0.0680 - rmse: 1.1940e-04 - mse: 1.4257e-08 - mae: 9.4175e-05 - val_loss: 0.0691 - val_rmse: 0.0702 - val_mse: 0.0049 - val_mae: 0.0050 - 32ms/epoch - 2ms/step\n",
      "Epoch 42/5000\n",
      "15/15 - 0s - loss: 0.0613 - rmse: 1.1089e-04 - mse: 1.2296e-08 - mae: 8.8279e-05 - val_loss: 0.0628 - val_rmse: 0.0702 - val_mse: 0.0049 - val_mae: 0.0050 - 43ms/epoch - 3ms/step\n",
      "Epoch 43/5000\n",
      "15/15 - 0s - loss: 0.0553 - rmse: 1.0112e-04 - mse: 1.0224e-08 - mae: 8.1321e-05 - val_loss: 0.0571 - val_rmse: 0.0702 - val_mse: 0.0049 - val_mae: 0.0050 - 45ms/epoch - 3ms/step\n",
      "Epoch 44/5000\n",
      "15/15 - 0s - loss: 0.0498 - rmse: 9.4469e-05 - mse: 8.9244e-09 - mae: 7.5522e-05 - val_loss: 0.0520 - val_rmse: 0.0702 - val_mse: 0.0049 - val_mae: 0.0049 - 31ms/epoch - 2ms/step\n",
      "Epoch 45/5000\n",
      "15/15 - 0s - loss: 0.0449 - rmse: 8.5705e-05 - mse: 7.3453e-09 - mae: 6.8176e-05 - val_loss: 0.0473 - val_rmse: 0.0702 - val_mse: 0.0049 - val_mae: 0.0049 - 39ms/epoch - 3ms/step\n",
      "Epoch 46/5000\n",
      "15/15 - 0s - loss: 0.0405 - rmse: 8.0253e-05 - mse: 6.4406e-09 - mae: 6.3708e-05 - val_loss: 0.0432 - val_rmse: 0.0702 - val_mse: 0.0049 - val_mae: 0.0049 - 33ms/epoch - 2ms/step\n",
      "Epoch 47/5000\n",
      "15/15 - 0s - loss: 0.0365 - rmse: 7.4845e-05 - mse: 5.6017e-09 - mae: 6.0693e-05 - val_loss: 0.0394 - val_rmse: 0.0702 - val_mse: 0.0049 - val_mae: 0.0049 - 30ms/epoch - 2ms/step\n",
      "Epoch 48/5000\n",
      "15/15 - 0s - loss: 0.0329 - rmse: 6.8402e-05 - mse: 4.6789e-09 - mae: 5.4361e-05 - val_loss: 0.0360 - val_rmse: 0.0702 - val_mse: 0.0049 - val_mae: 0.0049 - 33ms/epoch - 2ms/step\n",
      "Epoch 49/5000\n",
      "15/15 - 0s - loss: 0.0297 - rmse: 6.3486e-05 - mse: 4.0305e-09 - mae: 5.0739e-05 - val_loss: 0.0330 - val_rmse: 0.0702 - val_mse: 0.0049 - val_mae: 0.0049 - 34ms/epoch - 2ms/step\n",
      "Epoch 50/5000\n",
      "\n",
      "Epoch 50: val_loss improved from 0.07610 to 0.03019, saving model to data/output/fnn_compressed/activity_random_single-labeled_Fold-2.model.weights.hdf5\n",
      "15/15 - 0s - loss: 0.0268 - rmse: 5.8993e-05 - mse: 3.4802e-09 - mae: 4.6222e-05 - val_loss: 0.0302 - val_rmse: 0.0702 - val_mse: 0.0049 - val_mae: 0.0049 - 49ms/epoch - 3ms/step\n",
      "Epoch 51/5000\n",
      "15/15 - 0s - loss: 0.0241 - rmse: 5.2636e-05 - mse: 2.7705e-09 - mae: 4.1998e-05 - val_loss: 0.0277 - val_rmse: 0.0702 - val_mse: 0.0049 - val_mae: 0.0049 - 36ms/epoch - 2ms/step\n",
      "Epoch 52/5000\n",
      "15/15 - 0s - loss: 0.0218 - rmse: 5.0721e-05 - mse: 2.5726e-09 - mae: 4.0561e-05 - val_loss: 0.0255 - val_rmse: 0.0702 - val_mse: 0.0049 - val_mae: 0.0049 - 44ms/epoch - 3ms/step\n",
      "Epoch 53/5000\n",
      "15/15 - 0s - loss: 0.0196 - rmse: 4.7485e-05 - mse: 2.2548e-09 - mae: 3.7394e-05 - val_loss: 0.0234 - val_rmse: 0.0702 - val_mse: 0.0049 - val_mae: 0.0049 - 41ms/epoch - 3ms/step\n",
      "Epoch 54/5000\n",
      "15/15 - 0s - loss: 0.0177 - rmse: 4.3866e-05 - mse: 1.9242e-09 - mae: 3.4660e-05 - val_loss: 0.0216 - val_rmse: 0.0702 - val_mse: 0.0049 - val_mae: 0.0049 - 42ms/epoch - 3ms/step\n",
      "Epoch 55/5000\n",
      "15/15 - 0s - loss: 0.0159 - rmse: 4.1691e-05 - mse: 1.7382e-09 - mae: 3.3671e-05 - val_loss: 0.0200 - val_rmse: 0.0702 - val_mse: 0.0049 - val_mae: 0.0049 - 38ms/epoch - 3ms/step\n",
      "Epoch 56/5000\n",
      "15/15 - 0s - loss: 0.0144 - rmse: 4.0531e-05 - mse: 1.6427e-09 - mae: 3.2585e-05 - val_loss: 0.0185 - val_rmse: 0.0702 - val_mse: 0.0049 - val_mae: 0.0049 - 40ms/epoch - 3ms/step\n",
      "Epoch 57/5000\n",
      "15/15 - 0s - loss: 0.0130 - rmse: 3.6783e-05 - mse: 1.3530e-09 - mae: 2.9758e-05 - val_loss: 0.0172 - val_rmse: 0.0702 - val_mse: 0.0049 - val_mae: 0.0049 - 43ms/epoch - 3ms/step\n",
      "Epoch 58/5000\n",
      "15/15 - 0s - loss: 0.0117 - rmse: 3.5336e-05 - mse: 1.2486e-09 - mae: 2.7649e-05 - val_loss: 0.0160 - val_rmse: 0.0702 - val_mse: 0.0049 - val_mae: 0.0049 - 42ms/epoch - 3ms/step\n",
      "Epoch 59/5000\n",
      "15/15 - 0s - loss: 0.0105 - rmse: 3.1722e-05 - mse: 1.0063e-09 - mae: 2.5594e-05 - val_loss: 0.0149 - val_rmse: 0.0702 - val_mse: 0.0049 - val_mae: 0.0049 - 43ms/epoch - 3ms/step\n",
      "Epoch 60/5000\n",
      "\n",
      "Epoch 60: val_loss improved from 0.03019 to 0.01390, saving model to data/output/fnn_compressed/activity_random_single-labeled_Fold-2.model.weights.hdf5\n",
      "15/15 - 0s - loss: 0.0095 - rmse: 3.1198e-05 - mse: 9.7334e-10 - mae: 2.4052e-05 - val_loss: 0.0139 - val_rmse: 0.0702 - val_mse: 0.0049 - val_mae: 0.0049 - 44ms/epoch - 3ms/step\n",
      "Epoch 61/5000\n",
      "15/15 - 0s - loss: 0.0086 - rmse: 2.9299e-05 - mse: 8.5843e-10 - mae: 2.3406e-05 - val_loss: 0.0130 - val_rmse: 0.0702 - val_mse: 0.0049 - val_mae: 0.0049 - 48ms/epoch - 3ms/step\n",
      "Epoch 62/5000\n",
      "15/15 - 0s - loss: 0.0077 - rmse: 2.6036e-05 - mse: 6.7790e-10 - mae: 2.1008e-05 - val_loss: 0.0122 - val_rmse: 0.0702 - val_mse: 0.0049 - val_mae: 0.0049 - 52ms/epoch - 3ms/step\n",
      "Epoch 63/5000\n",
      "15/15 - 0s - loss: 0.0070 - rmse: 2.4317e-05 - mse: 5.9131e-10 - mae: 1.9568e-05 - val_loss: 0.0115 - val_rmse: 0.0702 - val_mse: 0.0049 - val_mae: 0.0049 - 31ms/epoch - 2ms/step\n",
      "Epoch 64/5000\n",
      "15/15 - 0s - loss: 0.0063 - rmse: 2.3526e-05 - mse: 5.5347e-10 - mae: 1.9008e-05 - val_loss: 0.0109 - val_rmse: 0.0702 - val_mse: 0.0049 - val_mae: 0.0049 - 31ms/epoch - 2ms/step\n",
      "Epoch 65/5000\n",
      "15/15 - 0s - loss: 0.0057 - rmse: 2.3008e-05 - mse: 5.2935e-10 - mae: 1.8253e-05 - val_loss: 0.0103 - val_rmse: 0.0702 - val_mse: 0.0049 - val_mae: 0.0049 - 33ms/epoch - 2ms/step\n",
      "Epoch 66/5000\n",
      "15/15 - 0s - loss: 0.0051 - rmse: 2.1690e-05 - mse: 4.7044e-10 - mae: 1.7474e-05 - val_loss: 0.0097 - val_rmse: 0.0702 - val_mse: 0.0049 - val_mae: 0.0049 - 36ms/epoch - 2ms/step\n",
      "Epoch 67/5000\n",
      "15/15 - 0s - loss: 0.0046 - rmse: 2.0197e-05 - mse: 4.0790e-10 - mae: 1.6034e-05 - val_loss: 0.0093 - val_rmse: 0.0702 - val_mse: 0.0049 - val_mae: 0.0049 - 37ms/epoch - 2ms/step\n",
      "Epoch 68/5000\n",
      "15/15 - 0s - loss: 0.0041 - rmse: 2.0264e-05 - mse: 4.1065e-10 - mae: 1.6042e-05 - val_loss: 0.0088 - val_rmse: 0.0702 - val_mse: 0.0049 - val_mae: 0.0049 - 42ms/epoch - 3ms/step\n",
      "Epoch 69/5000\n",
      "15/15 - 0s - loss: 0.0037 - rmse: 1.8368e-05 - mse: 3.3740e-10 - mae: 1.4628e-05 - val_loss: 0.0085 - val_rmse: 0.0702 - val_mse: 0.0049 - val_mae: 0.0049 - 32ms/epoch - 2ms/step\n",
      "Epoch 70/5000\n",
      "\n",
      "Epoch 70: val_loss improved from 0.01390 to 0.00811, saving model to data/output/fnn_compressed/activity_random_single-labeled_Fold-2.model.weights.hdf5\n",
      "15/15 - 0s - loss: 0.0034 - rmse: 1.7755e-05 - mse: 3.1524e-10 - mae: 1.4046e-05 - val_loss: 0.0081 - val_rmse: 0.0702 - val_mse: 0.0049 - val_mae: 0.0049 - 44ms/epoch - 3ms/step\n",
      "Epoch 71/5000\n",
      "15/15 - 0s - loss: 0.0030 - rmse: 1.5314e-05 - mse: 2.3451e-10 - mae: 1.2573e-05 - val_loss: 0.0078 - val_rmse: 0.0702 - val_mse: 0.0049 - val_mae: 0.0049 - 32ms/epoch - 2ms/step\n",
      "Epoch 72/5000\n",
      "15/15 - 0s - loss: 0.0027 - rmse: 1.5965e-05 - mse: 2.5488e-10 - mae: 1.2956e-05 - val_loss: 0.0075 - val_rmse: 0.0702 - val_mse: 0.0049 - val_mae: 0.0049 - 35ms/epoch - 2ms/step\n",
      "Epoch 73/5000\n",
      "15/15 - 0s - loss: 0.0025 - rmse: 1.5035e-05 - mse: 2.2604e-10 - mae: 1.2036e-05 - val_loss: 0.0073 - val_rmse: 0.0702 - val_mse: 0.0049 - val_mae: 0.0049 - 31ms/epoch - 2ms/step\n",
      "Epoch 74/5000\n",
      "15/15 - 0s - loss: 0.0022 - rmse: 1.4222e-05 - mse: 2.0228e-10 - mae: 1.1499e-05 - val_loss: 0.0070 - val_rmse: 0.0702 - val_mse: 0.0049 - val_mae: 0.0049 - 36ms/epoch - 2ms/step\n",
      "Epoch 75/5000\n",
      "15/15 - 0s - loss: 0.0020 - rmse: 1.3513e-05 - mse: 1.8260e-10 - mae: 1.0605e-05 - val_loss: 0.0068 - val_rmse: 0.0702 - val_mse: 0.0049 - val_mae: 0.0049 - 55ms/epoch - 4ms/step\n",
      "Epoch 76/5000\n",
      "15/15 - 0s - loss: 0.0018 - rmse: 1.2543e-05 - mse: 1.5732e-10 - mae: 9.9912e-06 - val_loss: 0.0066 - val_rmse: 0.0702 - val_mse: 0.0049 - val_mae: 0.0049 - 36ms/epoch - 2ms/step\n",
      "Epoch 77/5000\n",
      "15/15 - 0s - loss: 0.0016 - rmse: 1.2391e-05 - mse: 1.5352e-10 - mae: 9.7054e-06 - val_loss: 0.0065 - val_rmse: 0.0702 - val_mse: 0.0049 - val_mae: 0.0049 - 41ms/epoch - 3ms/step\n",
      "Epoch 78/5000\n",
      "15/15 - 0s - loss: 0.0015 - rmse: 1.1216e-05 - mse: 1.2580e-10 - mae: 8.8782e-06 - val_loss: 0.0063 - val_rmse: 0.0702 - val_mse: 0.0049 - val_mae: 0.0049 - 45ms/epoch - 3ms/step\n",
      "Epoch 79/5000\n",
      "15/15 - 0s - loss: 0.0013 - rmse: 1.0640e-05 - mse: 1.1320e-10 - mae: 8.3597e-06 - val_loss: 0.0062 - val_rmse: 0.0702 - val_mse: 0.0049 - val_mae: 0.0049 - 39ms/epoch - 3ms/step\n",
      "Epoch 80/5000\n",
      "\n",
      "Epoch 80: val_loss improved from 0.00811 to 0.00606, saving model to data/output/fnn_compressed/activity_random_single-labeled_Fold-2.model.weights.hdf5\n",
      "15/15 - 0s - loss: 0.0012 - rmse: 1.0148e-05 - mse: 1.0298e-10 - mae: 8.0799e-06 - val_loss: 0.0061 - val_rmse: 0.0702 - val_mse: 0.0049 - val_mae: 0.0049 - 41ms/epoch - 3ms/step\n",
      "Epoch 81/5000\n",
      "15/15 - 0s - loss: 0.0011 - rmse: 1.0178e-05 - mse: 1.0360e-10 - mae: 8.2397e-06 - val_loss: 0.0059 - val_rmse: 0.0702 - val_mse: 0.0049 - val_mae: 0.0049 - 43ms/epoch - 3ms/step\n",
      "Epoch 82/5000\n",
      "15/15 - 0s - loss: 9.7344e-04 - rmse: 9.5231e-06 - mse: 9.0690e-11 - mae: 7.6589e-06 - val_loss: 0.0058 - val_rmse: 0.0702 - val_mse: 0.0049 - val_mae: 0.0049 - 39ms/epoch - 3ms/step\n",
      "Epoch 83/5000\n",
      "15/15 - 0s - loss: 8.7767e-04 - rmse: 9.0517e-06 - mse: 8.1932e-11 - mae: 7.4353e-06 - val_loss: 0.0058 - val_rmse: 0.0702 - val_mse: 0.0049 - val_mae: 0.0049 - 30ms/epoch - 2ms/step\n",
      "Epoch 84/5000\n",
      "15/15 - 0s - loss: 7.9133e-04 - rmse: 8.1506e-06 - mse: 6.6432e-11 - mae: 6.5825e-06 - val_loss: 0.0057 - val_rmse: 0.0702 - val_mse: 0.0049 - val_mae: 0.0049 - 34ms/epoch - 2ms/step\n",
      "Epoch 85/5000\n",
      "15/15 - 0s - loss: 7.1348e-04 - rmse: 8.0621e-06 - mse: 6.4997e-11 - mae: 6.5223e-06 - val_loss: 0.0056 - val_rmse: 0.0702 - val_mse: 0.0049 - val_mae: 0.0049 - 32ms/epoch - 2ms/step\n",
      "Epoch 86/5000\n",
      "15/15 - 0s - loss: 6.4329e-04 - rmse: 7.3981e-06 - mse: 5.4732e-11 - mae: 5.8872e-06 - val_loss: 0.0055 - val_rmse: 0.0702 - val_mse: 0.0049 - val_mae: 0.0049 - 36ms/epoch - 2ms/step\n",
      "Epoch 87/5000\n",
      "15/15 - 0s - loss: 5.8000e-04 - rmse: 6.7947e-06 - mse: 4.6168e-11 - mae: 5.5012e-06 - val_loss: 0.0055 - val_rmse: 0.0702 - val_mse: 0.0049 - val_mae: 0.0049 - 33ms/epoch - 2ms/step\n",
      "Epoch 88/5000\n",
      "15/15 - 0s - loss: 5.2294e-04 - rmse: 6.6767e-06 - mse: 4.4579e-11 - mae: 5.3483e-06 - val_loss: 0.0054 - val_rmse: 0.0702 - val_mse: 0.0049 - val_mae: 0.0049 - 47ms/epoch - 3ms/step\n",
      "Epoch 89/5000\n",
      "15/15 - 0s - loss: 4.7149e-04 - rmse: 6.4021e-06 - mse: 4.0987e-11 - mae: 5.1398e-06 - val_loss: 0.0054 - val_rmse: 0.0702 - val_mse: 0.0049 - val_mae: 0.0049 - 32ms/epoch - 2ms/step\n",
      "Epoch 90/5000\n",
      "\n",
      "Epoch 90: val_loss improved from 0.00606 to 0.00533, saving model to data/output/fnn_compressed/activity_random_single-labeled_Fold-2.model.weights.hdf5\n",
      "15/15 - 0s - loss: 4.2511e-04 - rmse: 5.9790e-06 - mse: 3.5748e-11 - mae: 4.7839e-06 - val_loss: 0.0053 - val_rmse: 0.0702 - val_mse: 0.0049 - val_mae: 0.0049 - 46ms/epoch - 3ms/step\n",
      "Epoch 91/5000\n",
      "15/15 - 0s - loss: 3.8329e-04 - rmse: 5.5635e-06 - mse: 3.0952e-11 - mae: 4.4248e-06 - val_loss: 0.0053 - val_rmse: 0.0702 - val_mse: 0.0049 - val_mae: 0.0049 - 45ms/epoch - 3ms/step\n",
      "Epoch 92/5000\n",
      "15/15 - 0s - loss: 3.4558e-04 - rmse: 5.5429e-06 - mse: 3.0724e-11 - mae: 4.3992e-06 - val_loss: 0.0053 - val_rmse: 0.0702 - val_mse: 0.0049 - val_mae: 0.0049 - 40ms/epoch - 3ms/step\n",
      "Epoch 93/5000\n",
      "15/15 - 0s - loss: 3.1158e-04 - rmse: 5.2786e-06 - mse: 2.7864e-11 - mae: 4.2053e-06 - val_loss: 0.0052 - val_rmse: 0.0702 - val_mse: 0.0049 - val_mae: 0.0049 - 42ms/epoch - 3ms/step\n",
      "Epoch 94/5000\n",
      "15/15 - 0s - loss: 2.8093e-04 - rmse: 4.8552e-06 - mse: 2.3573e-11 - mae: 3.8334e-06 - val_loss: 0.0052 - val_rmse: 0.0702 - val_mse: 0.0049 - val_mae: 0.0049 - 41ms/epoch - 3ms/step\n",
      "Epoch 95/5000\n",
      "15/15 - 0s - loss: 2.5329e-04 - rmse: 4.7863e-06 - mse: 2.2908e-11 - mae: 3.8336e-06 - val_loss: 0.0052 - val_rmse: 0.0702 - val_mse: 0.0049 - val_mae: 0.0049 - 59ms/epoch - 4ms/step\n",
      "Epoch 96/5000\n",
      "15/15 - 0s - loss: 2.2837e-04 - rmse: 4.3810e-06 - mse: 1.9193e-11 - mae: 3.4221e-06 - val_loss: 0.0051 - val_rmse: 0.0702 - val_mse: 0.0049 - val_mae: 0.0049 - 55ms/epoch - 4ms/step\n",
      "Epoch 97/5000\n",
      "15/15 - 0s - loss: 2.0591e-04 - rmse: 4.1021e-06 - mse: 1.6827e-11 - mae: 3.2748e-06 - val_loss: 0.0051 - val_rmse: 0.0702 - val_mse: 0.0049 - val_mae: 0.0049 - 39ms/epoch - 3ms/step\n",
      "Epoch 98/5000\n",
      "15/15 - 0s - loss: 1.8565e-04 - rmse: 3.9178e-06 - mse: 1.5349e-11 - mae: 3.1195e-06 - val_loss: 0.0051 - val_rmse: 0.0702 - val_mse: 0.0049 - val_mae: 0.0049 - 37ms/epoch - 2ms/step\n",
      "Epoch 99/5000\n",
      "15/15 - 0s - loss: 1.6739e-04 - rmse: 3.7727e-06 - mse: 1.4233e-11 - mae: 3.0410e-06 - val_loss: 0.0051 - val_rmse: 0.0702 - val_mse: 0.0049 - val_mae: 0.0049 - 40ms/epoch - 3ms/step\n",
      "Epoch 100/5000\n",
      "\n",
      "Epoch 100: val_loss improved from 0.00533 to 0.00507, saving model to data/output/fnn_compressed/activity_random_single-labeled_Fold-2.model.weights.hdf5\n",
      "15/15 - 0s - loss: 1.5092e-04 - rmse: 3.4626e-06 - mse: 1.1989e-11 - mae: 2.7592e-06 - val_loss: 0.0051 - val_rmse: 0.0702 - val_mse: 0.0049 - val_mae: 0.0049 - 45ms/epoch - 3ms/step\n",
      "Epoch 101/5000\n",
      "15/15 - 0s - loss: 1.3607e-04 - rmse: 3.2581e-06 - mse: 1.0616e-11 - mae: 2.5862e-06 - val_loss: 0.0051 - val_rmse: 0.0702 - val_mse: 0.0049 - val_mae: 0.0049 - 35ms/epoch - 2ms/step\n",
      "Epoch 102/5000\n",
      "15/15 - 0s - loss: 1.2268e-04 - rmse: 3.1508e-06 - mse: 9.9274e-12 - mae: 2.4597e-06 - val_loss: 0.0050 - val_rmse: 0.0702 - val_mse: 0.0049 - val_mae: 0.0049 - 34ms/epoch - 2ms/step\n",
      "Epoch 103/5000\n",
      "15/15 - 0s - loss: 1.1062e-04 - rmse: 3.1278e-06 - mse: 9.7833e-12 - mae: 2.5532e-06 - val_loss: 0.0050 - val_rmse: 0.0702 - val_mse: 0.0049 - val_mae: 0.0049 - 39ms/epoch - 3ms/step\n",
      "Epoch 104/5000\n",
      "15/15 - 0s - loss: 9.9733e-05 - rmse: 2.9329e-06 - mse: 8.6018e-12 - mae: 2.3689e-06 - val_loss: 0.0050 - val_rmse: 0.0702 - val_mse: 0.0049 - val_mae: 0.0049 - 44ms/epoch - 3ms/step\n",
      "Epoch 105/5000\n",
      "15/15 - 0s - loss: 8.9921e-05 - rmse: 2.7727e-06 - mse: 7.6878e-12 - mae: 2.2177e-06 - val_loss: 0.0050 - val_rmse: 0.0702 - val_mse: 0.0049 - val_mae: 0.0049 - 41ms/epoch - 3ms/step\n",
      "Epoch 106/5000\n",
      "15/15 - 0s - loss: 8.1075e-05 - rmse: 2.6719e-06 - mse: 7.1393e-12 - mae: 2.1546e-06 - val_loss: 0.0050 - val_rmse: 0.0702 - val_mse: 0.0049 - val_mae: 0.0049 - 49ms/epoch - 3ms/step\n",
      "Epoch 107/5000\n",
      "15/15 - 0s - loss: 7.3099e-05 - rmse: 2.4601e-06 - mse: 6.0521e-12 - mae: 1.9598e-06 - val_loss: 0.0050 - val_rmse: 0.0702 - val_mse: 0.0049 - val_mae: 0.0049 - 41ms/epoch - 3ms/step\n",
      "Epoch 108/5000\n",
      "15/15 - 0s - loss: 6.5908e-05 - rmse: 2.3433e-06 - mse: 5.4911e-12 - mae: 1.8487e-06 - val_loss: 0.0050 - val_rmse: 0.0702 - val_mse: 0.0049 - val_mae: 0.0049 - 46ms/epoch - 3ms/step\n",
      "Epoch 109/5000\n",
      "15/15 - 0s - loss: 5.9424e-05 - rmse: 2.3105e-06 - mse: 5.3385e-12 - mae: 1.8689e-06 - val_loss: 0.0050 - val_rmse: 0.0702 - val_mse: 0.0049 - val_mae: 0.0049 - 52ms/epoch - 3ms/step\n",
      "Epoch 110/5000\n",
      "\n",
      "Epoch 110: val_loss improved from 0.00507 to 0.00498, saving model to data/output/fnn_compressed/activity_random_single-labeled_Fold-2.model.weights.hdf5\n",
      "15/15 - 0s - loss: 5.3578e-05 - rmse: 2.2196e-06 - mse: 4.9266e-12 - mae: 1.7479e-06 - val_loss: 0.0050 - val_rmse: 0.0702 - val_mse: 0.0049 - val_mae: 0.0049 - 36ms/epoch - 2ms/step\n",
      "Epoch 111/5000\n",
      "15/15 - 0s - loss: 4.8307e-05 - rmse: 1.9953e-06 - mse: 3.9814e-12 - mae: 1.5952e-06 - val_loss: 0.0050 - val_rmse: 0.0702 - val_mse: 0.0049 - val_mae: 0.0049 - 33ms/epoch - 2ms/step\n",
      "Epoch 112/5000\n",
      "15/15 - 0s - loss: 4.3554e-05 - rmse: 1.8245e-06 - mse: 3.3287e-12 - mae: 1.4461e-06 - val_loss: 0.0050 - val_rmse: 0.0702 - val_mse: 0.0049 - val_mae: 0.0049 - 33ms/epoch - 2ms/step\n",
      "Epoch 113/5000\n",
      "15/15 - 0s - loss: 3.9270e-05 - rmse: 1.7739e-06 - mse: 3.1466e-12 - mae: 1.4282e-06 - val_loss: 0.0050 - val_rmse: 0.0702 - val_mse: 0.0049 - val_mae: 0.0049 - 28ms/epoch - 2ms/step\n",
      "Epoch 114/5000\n",
      "15/15 - 0s - loss: 3.5406e-05 - rmse: 1.7227e-06 - mse: 2.9676e-12 - mae: 1.3590e-06 - val_loss: 0.0050 - val_rmse: 0.0702 - val_mse: 0.0049 - val_mae: 0.0049 - 29ms/epoch - 2ms/step\n",
      "Epoch 115/5000\n",
      "15/15 - 0s - loss: 3.1923e-05 - rmse: 1.6291e-06 - mse: 2.6538e-12 - mae: 1.3098e-06 - val_loss: 0.0050 - val_rmse: 0.0702 - val_mse: 0.0049 - val_mae: 0.0049 - 28ms/epoch - 2ms/step\n",
      "Epoch 116/5000\n",
      "15/15 - 0s - loss: 2.8782e-05 - rmse: 1.4602e-06 - mse: 2.1321e-12 - mae: 1.1587e-06 - val_loss: 0.0050 - val_rmse: 0.0702 - val_mse: 0.0049 - val_mae: 0.0049 - 31ms/epoch - 2ms/step\n",
      "Epoch 117/5000\n",
      "15/15 - 0s - loss: 2.5951e-05 - rmse: 1.4368e-06 - mse: 2.0644e-12 - mae: 1.1254e-06 - val_loss: 0.0050 - val_rmse: 0.0702 - val_mse: 0.0049 - val_mae: 0.0049 - 30ms/epoch - 2ms/step\n",
      "Epoch 118/5000\n",
      "15/15 - 0s - loss: 2.3398e-05 - rmse: 1.4160e-06 - mse: 2.0051e-12 - mae: 1.1322e-06 - val_loss: 0.0049 - val_rmse: 0.0702 - val_mse: 0.0049 - val_mae: 0.0049 - 38ms/epoch - 3ms/step\n",
      "Epoch 119/5000\n",
      "15/15 - 0s - loss: 2.1096e-05 - rmse: 1.2574e-06 - mse: 1.5812e-12 - mae: 9.9439e-07 - val_loss: 0.0049 - val_rmse: 0.0702 - val_mse: 0.0049 - val_mae: 0.0049 - 32ms/epoch - 2ms/step\n",
      "Epoch 120/5000\n",
      "\n",
      "Epoch 120: val_loss improved from 0.00498 to 0.00494, saving model to data/output/fnn_compressed/activity_random_single-labeled_Fold-2.model.weights.hdf5\n",
      "15/15 - 0s - loss: 1.9021e-05 - rmse: 1.2678e-06 - mse: 1.6073e-12 - mae: 1.0274e-06 - val_loss: 0.0049 - val_rmse: 0.0702 - val_mse: 0.0049 - val_mae: 0.0049 - 36ms/epoch - 2ms/step\n",
      "Epoch 121/5000\n",
      "15/15 - 0s - loss: 1.7149e-05 - rmse: 1.1600e-06 - mse: 1.3457e-12 - mae: 9.2786e-07 - val_loss: 0.0049 - val_rmse: 0.0702 - val_mse: 0.0049 - val_mae: 0.0049 - 37ms/epoch - 2ms/step\n",
      "Epoch 122/5000\n",
      "15/15 - 0s - loss: 1.5462e-05 - rmse: 1.1557e-06 - mse: 1.3356e-12 - mae: 9.2980e-07 - val_loss: 0.0049 - val_rmse: 0.0702 - val_mse: 0.0049 - val_mae: 0.0049 - 55ms/epoch - 4ms/step\n",
      "Epoch 123/5000\n",
      "15/15 - 0s - loss: 1.3941e-05 - rmse: 1.0830e-06 - mse: 1.1730e-12 - mae: 8.7370e-07 - val_loss: 0.0049 - val_rmse: 0.0702 - val_mse: 0.0049 - val_mae: 0.0049 - 52ms/epoch - 3ms/step\n",
      "Epoch 124/5000\n",
      "15/15 - 0s - loss: 1.2570e-05 - rmse: 1.0380e-06 - mse: 1.0774e-12 - mae: 8.3563e-07 - val_loss: 0.0049 - val_rmse: 0.0702 - val_mse: 0.0049 - val_mae: 0.0049 - 40ms/epoch - 3ms/step\n",
      "Epoch 125/5000\n",
      "15/15 - 0s - loss: 1.1333e-05 - rmse: 9.4513e-07 - mse: 8.9327e-13 - mae: 7.5401e-07 - val_loss: 0.0049 - val_rmse: 0.0702 - val_mse: 0.0049 - val_mae: 0.0049 - 31ms/epoch - 2ms/step\n",
      "Epoch 126/5000\n",
      "15/15 - 0s - loss: 1.0218e-05 - rmse: 9.1489e-07 - mse: 8.3703e-13 - mae: 7.4904e-07 - val_loss: 0.0049 - val_rmse: 0.0702 - val_mse: 0.0049 - val_mae: 0.0049 - 35ms/epoch - 2ms/step\n",
      "Epoch 127/5000\n",
      "15/15 - 0s - loss: 9.2128e-06 - rmse: 9.2751e-07 - mse: 8.6027e-13 - mae: 7.3509e-07 - val_loss: 0.0049 - val_rmse: 0.0702 - val_mse: 0.0049 - val_mae: 0.0049 - 56ms/epoch - 4ms/step\n",
      "Epoch 128/5000\n",
      "15/15 - 0s - loss: 8.3065e-06 - rmse: 8.2552e-07 - mse: 6.8148e-13 - mae: 6.7408e-07 - val_loss: 0.0049 - val_rmse: 0.0702 - val_mse: 0.0049 - val_mae: 0.0049 - 33ms/epoch - 2ms/step\n",
      "Epoch 129/5000\n",
      "15/15 - 0s - loss: 7.4893e-06 - rmse: 7.8022e-07 - mse: 6.0875e-13 - mae: 6.1886e-07 - val_loss: 0.0049 - val_rmse: 0.0702 - val_mse: 0.0049 - val_mae: 0.0049 - 54ms/epoch - 4ms/step\n",
      "Epoch 130/5000\n",
      "\n",
      "Epoch 130: val_loss improved from 0.00494 to 0.00493, saving model to data/output/fnn_compressed/activity_random_single-labeled_Fold-2.model.weights.hdf5\n",
      "15/15 - 0s - loss: 6.7525e-06 - rmse: 7.2705e-07 - mse: 5.2860e-13 - mae: 5.7923e-07 - val_loss: 0.0049 - val_rmse: 0.0702 - val_mse: 0.0049 - val_mae: 0.0049 - 57ms/epoch - 4ms/step\n",
      "Epoch 131/5000\n",
      "15/15 - 0s - loss: 6.0882e-06 - rmse: 7.1443e-07 - mse: 5.1041e-13 - mae: 5.6421e-07 - val_loss: 0.0049 - val_rmse: 0.0702 - val_mse: 0.0049 - val_mae: 0.0049 - 34ms/epoch - 2ms/step\n",
      "Epoch 132/5000\n",
      "15/15 - 0s - loss: 5.4893e-06 - rmse: 7.0339e-07 - mse: 4.9476e-13 - mae: 5.7597e-07 - val_loss: 0.0049 - val_rmse: 0.0702 - val_mse: 0.0049 - val_mae: 0.0049 - 33ms/epoch - 2ms/step\n",
      "Epoch 133/5000\n",
      "15/15 - 0s - loss: 4.9492e-06 - rmse: 6.3117e-07 - mse: 3.9838e-13 - mae: 5.0833e-07 - val_loss: 0.0049 - val_rmse: 0.0702 - val_mse: 0.0049 - val_mae: 0.0049 - 29ms/epoch - 2ms/step\n",
      "Epoch 134/5000\n",
      "15/15 - 0s - loss: 4.4623e-06 - rmse: 5.9090e-07 - mse: 3.4917e-13 - mae: 4.6593e-07 - val_loss: 0.0049 - val_rmse: 0.0702 - val_mse: 0.0049 - val_mae: 0.0049 - 57ms/epoch - 4ms/step\n",
      "Epoch 135/5000\n",
      "15/15 - 0s - loss: 4.0233e-06 - rmse: 6.1335e-07 - mse: 3.7620e-13 - mae: 4.8780e-07 - val_loss: 0.0049 - val_rmse: 0.0702 - val_mse: 0.0049 - val_mae: 0.0049 - 42ms/epoch - 3ms/step\n",
      "Epoch 136/5000\n",
      "Restoring model weights from the end of the best epoch: 116.\n",
      "15/15 - 0s - loss: 3.6275e-06 - rmse: 5.6020e-07 - mse: 3.1382e-13 - mae: 4.4851e-07 - val_loss: 0.0049 - val_rmse: 0.0702 - val_mse: 0.0049 - val_mae: 0.0049 - 60ms/epoch - 4ms/step\n",
      "Epoch 136: early stopping\n",
      "7/7 [==============================] - 0s 1ms/step\n",
      "INFO:tensorflow:Assets written to: data/output/fnn_compressed/activity-2_saved_model/assets\n"
     ]
    },
    {
     "name": "stderr",
     "output_type": "stream",
     "text": [
      "INFO:tensorflow:Assets written to: data/output/fnn_compressed/activity-2_saved_model/assets\n"
     ]
    },
    {
     "data": {
      "text/plain": [
       "VBox(children=(Label(value='0.004 MB of 0.004 MB uploaded\\r'), FloatProgress(value=1.0, max=1.0)))"
      ],
      "application/vnd.jupyter.widget-view+json": {
       "version_major": 2,
       "version_minor": 0,
       "model_id": "551e0e165f514ae19cb710c1fb95bd7d"
      }
     },
     "metadata": {},
     "output_type": "display_data"
    },
    {
     "data": {
      "text/plain": [
       "<IPython.core.display.HTML object>"
      ],
      "text/html": [
       "<style>\n",
       "    table.wandb td:nth-child(1) { padding: 0 10px; text-align: left ; width: auto;} td:nth-child(2) {text-align: left ; width: 100%}\n",
       "    .wandb-row { display: flex; flex-direction: row; flex-wrap: wrap; justify-content: flex-start; width: 100% }\n",
       "    .wandb-col { display: flex; flex-direction: column; flex-basis: 100%; flex: 1; padding: 10px; }\n",
       "    </style>\n",
       "<div class=\"wandb-row\"><div class=\"wandb-col\"><h3>Run history:</h3><br/><table class=\"wandb\"><tr><td>epoch</td><td>▁▁▁▂▂▂▂▂▂▃▃▃▃▃▄▄▄▄▄▄▅▅▅▅▅▅▆▆▆▆▆▇▇▇▇▇▇███</td></tr><tr><td>loss</td><td>█▇▅▃▃▂▂▂▁▁▁▁▁▁▁▁▁▁▁▁▁▁▁▁▁▁▁▁▁▁▁▁▁▁▁▁▁▁▁▁</td></tr><tr><td>mae</td><td>█▂▁▁▁▁▁▁▁▁▁▁▁▁▁▁▁▁▁▁▁▁▁▁▁▁▁▁▁▁▁▁▁▁▁▁▁▁▁▁</td></tr><tr><td>mse</td><td>█▁▁▁▁▁▁▁▁▁▁▁▁▁▁▁▁▁▁▁▁▁▁▁▁▁▁▁▁▁▁▁▁▁▁▁▁▁▁▁</td></tr><tr><td>rmse</td><td>█▂▁▁▁▁▁▁▁▁▁▁▁▁▁▁▁▁▁▁▁▁▁▁▁▁▁▁▁▁▁▁▁▁▁▁▁▁▁▁</td></tr><tr><td>val_loss</td><td>█▇▅▃▃▂▂▂▁▁▁▁▁▁▁▁▁▁▁▁▁▁▁▁▁▁▁▁▁▁▁▁▁▁▁▁▁▁▁▁</td></tr><tr><td>val_mae</td><td>█▃▁▁▁▁▁▁▁▁▁▁▁▁▁▁▁▁▁▁▁▁▁▁▁▁▁▁▁▁▁▁▁▁▁▁▁▁▁▁</td></tr><tr><td>val_mse</td><td>█▁▁▁▁▁▁▁▁▁▁▁▁▁▁▁▁▁▁▁▁▁▁▁▁▁▁▁▁▁▁▁▁▁▁▁▁▁▁▁</td></tr><tr><td>val_rmse</td><td>█▂▁▁▁▁▁▁▁▁▁▁▁▁▁▁▁▁▁▁▁▁▁▁▁▁▁▁▁▁▁▁▁▁▁▁▁▁▁▁</td></tr></table><br/></div><div class=\"wandb-col\"><h3>Run summary:</h3><br/><table class=\"wandb\"><tr><td>best_epoch</td><td>135</td></tr><tr><td>best_val_loss</td><td>0.00493</td></tr><tr><td>epoch</td><td>135</td></tr><tr><td>loss</td><td>0.0</td></tr><tr><td>mae</td><td>0.0</td></tr><tr><td>mse</td><td>0.0</td></tr><tr><td>rmse</td><td>0.0</td></tr><tr><td>val_loss</td><td>0.00493</td></tr><tr><td>val_mae</td><td>0.00493</td></tr><tr><td>val_mse</td><td>0.00493</td></tr><tr><td>val_rmse</td><td>0.07019</td></tr></table><br/></div></div>"
      ]
     },
     "metadata": {},
     "output_type": "display_data"
    },
    {
     "data": {
      "text/plain": [
       "<IPython.core.display.HTML object>"
      ],
      "text/html": [
       " View run <strong style=\"color:#cdcd00\">activity-2</strong> at: <a href='https://wandb.ai/dfpl_regression/FNN_0.5_random/runs/mnnd6teh' target=\"_blank\">https://wandb.ai/dfpl_regression/FNN_0.5_random/runs/mnnd6teh</a><br/> View project at: <a href='https://wandb.ai/dfpl_regression/FNN_0.5_random' target=\"_blank\">https://wandb.ai/dfpl_regression/FNN_0.5_random</a><br/>Synced 6 W&B file(s), 0 media file(s), 0 artifact file(s) and 0 other file(s)"
      ]
     },
     "metadata": {},
     "output_type": "display_data"
    },
    {
     "data": {
      "text/plain": [
       "<IPython.core.display.HTML object>"
      ],
      "text/html": [
       "Find logs at: <code>./wandb/run-20240808_154254-mnnd6teh/logs</code>"
      ]
     },
     "metadata": {},
     "output_type": "display_data"
    },
    {
     "data": {
      "text/plain": [
       "<IPython.core.display.HTML object>"
      ],
      "text/html": [
       "The new W&B backend becomes opt-out in version 0.18.0; try it out with `wandb.require(\"core\")`! See https://wandb.me/wandb-core for more information."
      ]
     },
     "metadata": {},
     "output_type": "display_data"
    },
    {
     "data": {
      "text/plain": [
       "VBox(children=(Label(value='Waiting for wandb.init()...\\r'), FloatProgress(value=0.011113602044578228, max=1.0…"
      ],
      "application/vnd.jupyter.widget-view+json": {
       "version_major": 2,
       "version_minor": 0,
       "model_id": "4d862042e1774dd4af806ff724558550"
      }
     },
     "metadata": {},
     "output_type": "display_data"
    },
    {
     "data": {
      "text/plain": [
       "<IPython.core.display.HTML object>"
      ],
      "text/html": [
       "Tracking run with wandb version 0.17.6"
      ]
     },
     "metadata": {},
     "output_type": "display_data"
    },
    {
     "data": {
      "text/plain": [
       "<IPython.core.display.HTML object>"
      ],
      "text/html": [
       "Run data is saved locally in <code>/home/hertelj/git-hertelj/deepFPlearn/example/wandb/run-20240808_154310-za82jdu1</code>"
      ]
     },
     "metadata": {},
     "output_type": "display_data"
    },
    {
     "data": {
      "text/plain": [
       "<IPython.core.display.HTML object>"
      ],
      "text/html": [
       "Syncing run <strong><a href='https://wandb.ai/dfpl_regression/FNN_0.5_random/runs/za82jdu1' target=\"_blank\">activity-3</a></strong> to <a href='https://wandb.ai/dfpl_regression/FNN_0.5_random' target=\"_blank\">Weights & Biases</a> (<a href='https://wandb.me/run' target=\"_blank\">docs</a>)<br/>"
      ]
     },
     "metadata": {},
     "output_type": "display_data"
    },
    {
     "data": {
      "text/plain": [
       "<IPython.core.display.HTML object>"
      ],
      "text/html": [
       " View project at <a href='https://wandb.ai/dfpl_regression/FNN_0.5_random' target=\"_blank\">https://wandb.ai/dfpl_regression/FNN_0.5_random</a>"
      ]
     },
     "metadata": {},
     "output_type": "display_data"
    },
    {
     "data": {
      "text/plain": [
       "<IPython.core.display.HTML object>"
      ],
      "text/html": [
       " View run at <a href='https://wandb.ai/dfpl_regression/FNN_0.5_random/runs/za82jdu1' target=\"_blank\">https://wandb.ai/dfpl_regression/FNN_0.5_random/runs/za82jdu1</a>"
      ]
     },
     "metadata": {},
     "output_type": "display_data"
    },
    {
     "name": "stdout",
     "output_type": "stream",
     "text": [
      "WARNING:tensorflow:`period` argument is deprecated. Please use `save_freq` to specify the frequency in number of batches seen.\n"
     ]
    },
    {
     "name": "stderr",
     "output_type": "stream",
     "text": [
      "/home/hertelj/build/local/miniforge3/envs/dfpl/lib/python3.10/site-packages/keras/optimizers/optimizer_v2/gradient_descent.py:108: UserWarning: The `lr` argument is deprecated, use `learning_rate` instead.\n",
      "  super(SGD, self).__init__(name, **kwargs)\n",
      "WARNING:tensorflow:`period` argument is deprecated. Please use `save_freq` to specify the frequency in number of batches seen.\n"
     ]
    },
    {
     "name": "stdout",
     "output_type": "stream",
     "text": [
      "Epoch 1/5000\n",
      "15/15 - 1s - loss: 4.4894 - rmse: 0.6278 - mse: 0.3942 - mae: 0.4883 - val_loss: 4.0264 - val_rmse: 0.2640 - val_mse: 0.0697 - val_mae: 0.2116 - 671ms/epoch - 45ms/step\n",
      "Epoch 2/5000\n",
      "15/15 - 0s - loss: 3.8701 - rmse: 0.2548 - mse: 0.0649 - mae: 0.2072 - val_loss: 3.6258 - val_rmse: 0.1149 - val_mse: 0.0132 - val_mae: 0.0967 - 52ms/epoch - 3ms/step\n",
      "Epoch 3/5000\n",
      "15/15 - 0s - loss: 3.4728 - rmse: 0.1330 - mse: 0.0177 - mae: 0.1047 - val_loss: 3.2686 - val_rmse: 0.0510 - val_mse: 0.0026 - val_mae: 0.0410 - 33ms/epoch - 2ms/step\n",
      "Epoch 4/5000\n",
      "15/15 - 0s - loss: 3.1240 - rmse: 0.0651 - mse: 0.0042 - mae: 0.0448 - val_loss: 2.9475 - val_rmse: 0.0354 - val_mse: 0.0013 - val_mae: 0.0283 - 32ms/epoch - 2ms/step\n",
      "Epoch 5/5000\n",
      "15/15 - 0s - loss: 2.8160 - rmse: 0.0491 - mse: 0.0024 - mae: 0.0297 - val_loss: 2.6570 - val_rmse: 0.0214 - val_mse: 4.5645e-04 - val_mae: 0.0175 - 32ms/epoch - 2ms/step\n",
      "Epoch 6/5000\n",
      "15/15 - 0s - loss: 2.5388 - rmse: 0.0447 - mse: 0.0020 - mae: 0.0233 - val_loss: 2.3957 - val_rmse: 0.0236 - val_mse: 5.5840e-04 - val_mae: 0.0193 - 33ms/epoch - 2ms/step\n",
      "Epoch 7/5000\n",
      "15/15 - 0s - loss: 2.2888 - rmse: 0.0402 - mse: 0.0016 - mae: 0.0171 - val_loss: 2.1597 - val_rmse: 0.0151 - val_mse: 2.2866e-04 - val_mae: 0.0125 - 29ms/epoch - 2ms/step\n",
      "Epoch 8/5000\n",
      "15/15 - 0s - loss: 2.0637 - rmse: 0.0400 - mse: 0.0016 - mae: 0.0178 - val_loss: 1.9471 - val_rmse: 0.0132 - val_mse: 1.7459e-04 - val_mae: 0.0107 - 31ms/epoch - 2ms/step\n",
      "Epoch 9/5000\n",
      "15/15 - 0s - loss: 1.8606 - rmse: 0.0382 - mse: 0.0015 - mae: 0.0142 - val_loss: 1.7555 - val_rmse: 0.0109 - val_mse: 1.1978e-04 - val_mae: 0.0089 - 34ms/epoch - 2ms/step\n",
      "Epoch 10/5000\n",
      "\n",
      "Epoch 10: val_loss improved from inf to 1.58278, saving model to data/output/fnn_compressed/activity_random_single-labeled_Fold-3.model.weights.hdf5\n",
      "15/15 - 0s - loss: 1.6776 - rmse: 0.0376 - mse: 0.0014 - mae: 0.0147 - val_loss: 1.5828 - val_rmse: 0.0117 - val_mse: 1.3590e-04 - val_mae: 0.0093 - 44ms/epoch - 3ms/step\n",
      "Epoch 11/5000\n",
      "15/15 - 0s - loss: 1.5127 - rmse: 0.0369 - mse: 0.0014 - mae: 0.0128 - val_loss: 1.4270 - val_rmse: 0.0097 - val_mse: 9.3886e-05 - val_mae: 0.0078 - 33ms/epoch - 2ms/step\n",
      "Epoch 12/5000\n",
      "15/15 - 0s - loss: 1.3639 - rmse: 0.0357 - mse: 0.0013 - mae: 0.0106 - val_loss: 1.2866 - val_rmse: 0.0070 - val_mse: 4.8997e-05 - val_mae: 0.0055 - 31ms/epoch - 2ms/step\n",
      "Epoch 13/5000\n",
      "15/15 - 0s - loss: 1.2298 - rmse: 0.0356 - mse: 0.0013 - mae: 0.0085 - val_loss: 1.1600 - val_rmse: 0.0057 - val_mse: 3.3040e-05 - val_mae: 0.0045 - 29ms/epoch - 2ms/step\n",
      "Epoch 14/5000\n",
      "15/15 - 0s - loss: 1.1089 - rmse: 0.0353 - mse: 0.0012 - mae: 0.0078 - val_loss: 1.0458 - val_rmse: 0.0059 - val_mse: 3.5259e-05 - val_mae: 0.0047 - 30ms/epoch - 2ms/step\n",
      "Epoch 15/5000\n",
      "15/15 - 0s - loss: 0.9999 - rmse: 0.0351 - mse: 0.0012 - mae: 0.0073 - val_loss: 0.9429 - val_rmse: 0.0053 - val_mse: 2.8387e-05 - val_mae: 0.0043 - 29ms/epoch - 2ms/step\n",
      "Epoch 16/5000\n",
      "15/15 - 0s - loss: 0.9017 - rmse: 0.0353 - mse: 0.0012 - mae: 0.0081 - val_loss: 0.8502 - val_rmse: 0.0052 - val_mse: 2.7224e-05 - val_mae: 0.0042 - 29ms/epoch - 2ms/step\n",
      "Epoch 17/5000\n",
      "15/15 - 0s - loss: 0.8131 - rmse: 0.0353 - mse: 0.0012 - mae: 0.0067 - val_loss: 0.7666 - val_rmse: 0.0065 - val_mse: 4.2344e-05 - val_mae: 0.0054 - 33ms/epoch - 2ms/step\n",
      "Epoch 18/5000\n",
      "15/15 - 0s - loss: 0.7332 - rmse: 0.0351 - mse: 0.0012 - mae: 0.0067 - val_loss: 0.6911 - val_rmse: 0.0039 - val_mse: 1.5076e-05 - val_mae: 0.0031 - 30ms/epoch - 2ms/step\n",
      "Epoch 19/5000\n",
      "15/15 - 0s - loss: 0.6612 - rmse: 0.0349 - mse: 0.0012 - mae: 0.0053 - val_loss: 0.6231 - val_rmse: 0.0053 - val_mse: 2.8212e-05 - val_mae: 0.0045 - 34ms/epoch - 2ms/step\n",
      "Epoch 20/5000\n",
      "\n",
      "Epoch 20: val_loss improved from 1.58278 to 0.56182, saving model to data/output/fnn_compressed/activity_random_single-labeled_Fold-3.model.weights.hdf5\n",
      "15/15 - 0s - loss: 0.5962 - rmse: 0.0349 - mse: 0.0012 - mae: 0.0058 - val_loss: 0.5618 - val_rmse: 0.0032 - val_mse: 1.0077e-05 - val_mae: 0.0025 - 36ms/epoch - 2ms/step\n",
      "Epoch 21/5000\n",
      "15/15 - 0s - loss: 0.5377 - rmse: 0.0348 - mse: 0.0012 - mae: 0.0047 - val_loss: 0.5065 - val_rmse: 0.0028 - val_mse: 7.9177e-06 - val_mae: 0.0022 - 31ms/epoch - 2ms/step\n",
      "Epoch 22/5000\n",
      "15/15 - 0s - loss: 0.4849 - rmse: 0.0350 - mse: 0.0012 - mae: 0.0042 - val_loss: 0.4567 - val_rmse: 0.0037 - val_mse: 1.3560e-05 - val_mae: 0.0031 - 30ms/epoch - 2ms/step\n",
      "Epoch 23/5000\n",
      "15/15 - 0s - loss: 0.4373 - rmse: 0.0350 - mse: 0.0012 - mae: 0.0041 - val_loss: 0.4118 - val_rmse: 0.0022 - val_mse: 4.6514e-06 - val_mae: 0.0017 - 30ms/epoch - 2ms/step\n",
      "Epoch 24/5000\n",
      "15/15 - 0s - loss: 0.3945 - rmse: 0.0351 - mse: 0.0012 - mae: 0.0067 - val_loss: 0.3713 - val_rmse: 0.0021 - val_mse: 4.3177e-06 - val_mae: 0.0017 - 33ms/epoch - 2ms/step\n",
      "Epoch 25/5000\n",
      "15/15 - 0s - loss: 0.3558 - rmse: 0.0350 - mse: 0.0012 - mae: 0.0043 - val_loss: 0.3348 - val_rmse: 0.0035 - val_mse: 1.2141e-05 - val_mae: 0.0030 - 31ms/epoch - 2ms/step\n",
      "Epoch 26/5000\n",
      "15/15 - 0s - loss: 0.3209 - rmse: 0.0349 - mse: 0.0012 - mae: 0.0036 - val_loss: 0.3018 - val_rmse: 0.0021 - val_mse: 4.6063e-06 - val_mae: 0.0017 - 31ms/epoch - 2ms/step\n",
      "Epoch 27/5000\n",
      "15/15 - 0s - loss: 0.2894 - rmse: 0.0348 - mse: 0.0012 - mae: 0.0034 - val_loss: 0.2721 - val_rmse: 0.0027 - val_mse: 7.2855e-06 - val_mae: 0.0023 - 48ms/epoch - 3ms/step\n",
      "Epoch 28/5000\n",
      "15/15 - 0s - loss: 0.2611 - rmse: 0.0349 - mse: 0.0012 - mae: 0.0031 - val_loss: 0.2454 - val_rmse: 0.0021 - val_mse: 4.3734e-06 - val_mae: 0.0017 - 32ms/epoch - 2ms/step\n",
      "Epoch 29/5000\n",
      "15/15 - 0s - loss: 0.2355 - rmse: 0.0351 - mse: 0.0012 - mae: 0.0027 - val_loss: 0.2212 - val_rmse: 0.0018 - val_mse: 3.3648e-06 - val_mae: 0.0015 - 32ms/epoch - 2ms/step\n",
      "Epoch 30/5000\n",
      "\n",
      "Epoch 30: val_loss improved from 0.56182 to 0.19946, saving model to data/output/fnn_compressed/activity_random_single-labeled_Fold-3.model.weights.hdf5\n",
      "15/15 - 0s - loss: 0.2125 - rmse: 0.0350 - mse: 0.0012 - mae: 0.0044 - val_loss: 0.1995 - val_rmse: 0.0012 - val_mse: 1.3802e-06 - val_mae: 9.4980e-04 - 37ms/epoch - 2ms/step\n",
      "Epoch 31/5000\n",
      "15/15 - 0s - loss: 0.1917 - rmse: 0.0350 - mse: 0.0012 - mae: 0.0029 - val_loss: 0.1798 - val_rmse: 0.0016 - val_mse: 2.6906e-06 - val_mae: 0.0014 - 40ms/epoch - 3ms/step\n",
      "Epoch 32/5000\n",
      "15/15 - 0s - loss: 0.1730 - rmse: 0.0350 - mse: 0.0012 - mae: 0.0042 - val_loss: 0.1622 - val_rmse: 0.0023 - val_mse: 5.4951e-06 - val_mae: 0.0022 - 53ms/epoch - 4ms/step\n",
      "Epoch 33/5000\n",
      "15/15 - 0s - loss: 0.1561 - rmse: 0.0350 - mse: 0.0012 - mae: 0.0026 - val_loss: 0.1462 - val_rmse: 7.0910e-04 - val_mse: 5.0282e-07 - val_mae: 5.7665e-04 - 38ms/epoch - 3ms/step\n",
      "Epoch 34/5000\n",
      "15/15 - 0s - loss: 0.1408 - rmse: 0.0351 - mse: 0.0012 - mae: 0.0027 - val_loss: 0.1318 - val_rmse: 0.0025 - val_mse: 6.4737e-06 - val_mae: 0.0025 - 35ms/epoch - 2ms/step\n",
      "Epoch 35/5000\n",
      "15/15 - 0s - loss: 0.1271 - rmse: 0.0350 - mse: 0.0012 - mae: 0.0033 - val_loss: 0.1188 - val_rmse: 8.9765e-04 - val_mse: 8.0578e-07 - val_mae: 7.6483e-04 - 36ms/epoch - 2ms/step\n",
      "Epoch 36/5000\n",
      "15/15 - 0s - loss: 0.1147 - rmse: 0.0351 - mse: 0.0012 - mae: 0.0024 - val_loss: 0.1072 - val_rmse: 0.0028 - val_mse: 7.6426e-06 - val_mae: 0.0027 - 37ms/epoch - 2ms/step\n",
      "Epoch 37/5000\n",
      "15/15 - 0s - loss: 0.1036 - rmse: 0.0351 - mse: 0.0012 - mae: 0.0043 - val_loss: 0.0966 - val_rmse: 8.9218e-04 - val_mse: 7.9598e-07 - val_mae: 7.9884e-04 - 36ms/epoch - 2ms/step\n",
      "Epoch 38/5000\n",
      "15/15 - 0s - loss: 0.0935 - rmse: 0.0351 - mse: 0.0012 - mae: 0.0021 - val_loss: 0.0871 - val_rmse: 0.0014 - val_mse: 1.9935e-06 - val_mae: 0.0014 - 37ms/epoch - 2ms/step\n",
      "Epoch 39/5000\n",
      "15/15 - 0s - loss: 0.0844 - rmse: 0.0351 - mse: 0.0012 - mae: 0.0031 - val_loss: 0.0785 - val_rmse: 3.4906e-04 - val_mse: 1.2184e-07 - val_mae: 2.7734e-04 - 45ms/epoch - 3ms/step\n",
      "Epoch 40/5000\n",
      "\n",
      "Epoch 40: val_loss improved from 0.19946 to 0.07082, saving model to data/output/fnn_compressed/activity_random_single-labeled_Fold-3.model.weights.hdf5\n",
      "15/15 - 0s - loss: 0.0762 - rmse: 0.0351 - mse: 0.0012 - mae: 0.0021 - val_loss: 0.0708 - val_rmse: 0.0020 - val_mse: 4.1360e-06 - val_mae: 0.0020 - 43ms/epoch - 3ms/step\n",
      "Epoch 41/5000\n",
      "15/15 - 0s - loss: 0.0689 - rmse: 0.0352 - mse: 0.0012 - mae: 0.0049 - val_loss: 0.0639 - val_rmse: 8.4938e-04 - val_mse: 7.2145e-07 - val_mae: 8.1799e-04 - 34ms/epoch - 2ms/step\n",
      "Epoch 42/5000\n",
      "15/15 - 0s - loss: 0.0622 - rmse: 0.0352 - mse: 0.0012 - mae: 0.0025 - val_loss: 0.0576 - val_rmse: 0.0016 - val_mse: 2.6175e-06 - val_mae: 0.0016 - 33ms/epoch - 2ms/step\n",
      "Epoch 43/5000\n",
      "15/15 - 0s - loss: 0.0562 - rmse: 0.0351 - mse: 0.0012 - mae: 0.0029 - val_loss: 0.0519 - val_rmse: 9.6764e-04 - val_mse: 9.3632e-07 - val_mae: 9.5198e-04 - 30ms/epoch - 2ms/step\n",
      "Epoch 44/5000\n",
      "15/15 - 0s - loss: 0.0508 - rmse: 0.0351 - mse: 0.0012 - mae: 0.0025 - val_loss: 0.0468 - val_rmse: 1.5257e-04 - val_mse: 2.3277e-08 - val_mae: 1.2425e-04 - 31ms/epoch - 2ms/step\n",
      "Epoch 45/5000\n",
      "15/15 - 0s - loss: 0.0459 - rmse: 0.0352 - mse: 0.0012 - mae: 0.0024 - val_loss: 0.0422 - val_rmse: 0.0017 - val_mse: 2.7368e-06 - val_mae: 0.0016 - 31ms/epoch - 2ms/step\n",
      "Epoch 46/5000\n",
      "15/15 - 0s - loss: 0.0415 - rmse: 0.0351 - mse: 0.0012 - mae: 0.0029 - val_loss: 0.0380 - val_rmse: 6.8310e-04 - val_mse: 4.6662e-07 - val_mae: 6.7393e-04 - 41ms/epoch - 3ms/step\n",
      "Epoch 47/5000\n",
      "15/15 - 0s - loss: 0.0376 - rmse: 0.0352 - mse: 0.0012 - mae: 0.0025 - val_loss: 0.0343 - val_rmse: 0.0012 - val_mse: 1.3368e-06 - val_mae: 0.0012 - 31ms/epoch - 2ms/step\n",
      "Epoch 48/5000\n",
      "15/15 - 0s - loss: 0.0340 - rmse: 0.0351 - mse: 0.0012 - mae: 0.0026 - val_loss: 0.0309 - val_rmse: 3.6428e-04 - val_mse: 1.3270e-07 - val_mae: 3.5472e-04 - 29ms/epoch - 2ms/step\n",
      "Epoch 49/5000\n",
      "15/15 - 0s - loss: 0.0308 - rmse: 0.0351 - mse: 0.0012 - mae: 0.0018 - val_loss: 0.0279 - val_rmse: 0.0012 - val_mse: 1.5231e-06 - val_mae: 0.0012 - 38ms/epoch - 3ms/step\n",
      "Epoch 50/5000\n",
      "\n",
      "Epoch 50: val_loss improved from 0.07082 to 0.02514, saving model to data/output/fnn_compressed/activity_random_single-labeled_Fold-3.model.weights.hdf5\n",
      "15/15 - 0s - loss: 0.0279 - rmse: 0.0352 - mse: 0.0012 - mae: 0.0032 - val_loss: 0.0251 - val_rmse: 9.4079e-04 - val_mse: 8.8509e-07 - val_mae: 9.3879e-04 - 44ms/epoch - 3ms/step\n",
      "Epoch 51/5000\n",
      "15/15 - 0s - loss: 0.0252 - rmse: 0.0352 - mse: 0.0012 - mae: 0.0038 - val_loss: 0.0227 - val_rmse: 1.0161e-04 - val_mse: 1.0324e-08 - val_mae: 8.8358e-05 - 37ms/epoch - 2ms/step\n",
      "Epoch 52/5000\n",
      "15/15 - 0s - loss: 0.0229 - rmse: 0.0352 - mse: 0.0012 - mae: 0.0024 - val_loss: 0.0204 - val_rmse: 0.0025 - val_mse: 6.1264e-06 - val_mae: 0.0025 - 39ms/epoch - 3ms/step\n",
      "Epoch 53/5000\n",
      "15/15 - 0s - loss: 0.0208 - rmse: 0.0352 - mse: 0.0012 - mae: 0.0025 - val_loss: 0.0184 - val_rmse: 0.0015 - val_mse: 2.1992e-06 - val_mae: 0.0015 - 40ms/epoch - 3ms/step\n",
      "Epoch 54/5000\n",
      "15/15 - 0s - loss: 0.0188 - rmse: 0.0352 - mse: 0.0012 - mae: 0.0037 - val_loss: 0.0166 - val_rmse: 1.6886e-04 - val_mse: 2.8513e-08 - val_mae: 1.6547e-04 - 45ms/epoch - 3ms/step\n",
      "Epoch 55/5000\n",
      "15/15 - 0s - loss: 0.0171 - rmse: 0.0352 - mse: 0.0012 - mae: 0.0025 - val_loss: 0.0150 - val_rmse: 0.0027 - val_mse: 7.2915e-06 - val_mae: 0.0027 - 36ms/epoch - 2ms/step\n",
      "Epoch 56/5000\n",
      "15/15 - 0s - loss: 0.0155 - rmse: 0.0352 - mse: 0.0012 - mae: 0.0029 - val_loss: 0.0135 - val_rmse: 0.0015 - val_mse: 2.2950e-06 - val_mae: 0.0015 - 30ms/epoch - 2ms/step\n",
      "Epoch 57/5000\n",
      "15/15 - 0s - loss: 0.0141 - rmse: 0.0352 - mse: 0.0012 - mae: 0.0019 - val_loss: 0.0122 - val_rmse: 7.2846e-04 - val_mse: 5.3065e-07 - val_mae: 7.2815e-04 - 33ms/epoch - 2ms/step\n",
      "Epoch 58/5000\n",
      "15/15 - 0s - loss: 0.0129 - rmse: 0.0352 - mse: 0.0012 - mae: 0.0042 - val_loss: 0.0110 - val_rmse: 0.0014 - val_mse: 2.0811e-06 - val_mae: 0.0014 - 27ms/epoch - 2ms/step\n",
      "Epoch 59/5000\n",
      "15/15 - 0s - loss: 0.0117 - rmse: 0.0351 - mse: 0.0012 - mae: 0.0021 - val_loss: 0.0099 - val_rmse: 6.2943e-04 - val_mse: 3.9619e-07 - val_mae: 6.2924e-04 - 31ms/epoch - 2ms/step\n",
      "Epoch 60/5000\n",
      "\n",
      "Epoch 60: val_loss improved from 0.02514 to 0.00893, saving model to data/output/fnn_compressed/activity_random_single-labeled_Fold-3.model.weights.hdf5\n",
      "15/15 - 0s - loss: 0.0107 - rmse: 0.0352 - mse: 0.0012 - mae: 0.0027 - val_loss: 0.0089 - val_rmse: 0.0023 - val_mse: 5.3976e-06 - val_mae: 0.0023 - 35ms/epoch - 2ms/step\n",
      "Epoch 61/5000\n",
      "15/15 - 0s - loss: 0.0098 - rmse: 0.0352 - mse: 0.0012 - mae: 0.0021 - val_loss: 0.0081 - val_rmse: 0.0015 - val_mse: 2.2342e-06 - val_mae: 0.0015 - 31ms/epoch - 2ms/step\n",
      "Epoch 62/5000\n",
      "15/15 - 0s - loss: 0.0089 - rmse: 0.0352 - mse: 0.0012 - mae: 0.0034 - val_loss: 0.0073 - val_rmse: 0.0017 - val_mse: 2.9668e-06 - val_mae: 0.0017 - 30ms/epoch - 2ms/step\n",
      "Epoch 63/5000\n",
      "15/15 - 0s - loss: 0.0082 - rmse: 0.0351 - mse: 0.0012 - mae: 0.0024 - val_loss: 0.0065 - val_rmse: 4.8511e-04 - val_mse: 2.3533e-07 - val_mae: 4.8503e-04 - 51ms/epoch - 3ms/step\n",
      "Epoch 64/5000\n",
      "15/15 - 0s - loss: 0.0075 - rmse: 0.0352 - mse: 0.0012 - mae: 0.0024 - val_loss: 0.0059 - val_rmse: 0.0014 - val_mse: 2.0925e-06 - val_mae: 0.0014 - 34ms/epoch - 2ms/step\n",
      "Epoch 65/5000\n",
      "15/15 - 0s - loss: 0.0069 - rmse: 0.0352 - mse: 0.0012 - mae: 0.0019 - val_loss: 0.0053 - val_rmse: 0.0016 - val_mse: 2.6738e-06 - val_mae: 0.0016 - 37ms/epoch - 2ms/step\n",
      "Epoch 66/5000\n",
      "15/15 - 0s - loss: 0.0063 - rmse: 0.0353 - mse: 0.0012 - mae: 0.0045 - val_loss: 0.0048 - val_rmse: 5.5970e-04 - val_mse: 3.1327e-07 - val_mae: 5.5968e-04 - 30ms/epoch - 2ms/step\n",
      "Epoch 67/5000\n",
      "15/15 - 0s - loss: 0.0058 - rmse: 0.0352 - mse: 0.0012 - mae: 0.0027 - val_loss: 0.0043 - val_rmse: 0.0025 - val_mse: 6.3109e-06 - val_mae: 0.0025 - 40ms/epoch - 3ms/step\n",
      "Epoch 68/5000\n",
      "15/15 - 0s - loss: 0.0054 - rmse: 0.0351 - mse: 0.0012 - mae: 0.0033 - val_loss: 0.0039 - val_rmse: 9.3090e-04 - val_mse: 8.6658e-07 - val_mae: 9.3090e-04 - 56ms/epoch - 4ms/step\n",
      "Epoch 69/5000\n",
      "15/15 - 0s - loss: 0.0050 - rmse: 0.0352 - mse: 0.0012 - mae: 0.0021 - val_loss: 0.0035 - val_rmse: 0.0019 - val_mse: 3.5386e-06 - val_mae: 0.0019 - 39ms/epoch - 3ms/step\n",
      "Epoch 70/5000\n",
      "\n",
      "Epoch 70: val_loss improved from 0.00893 to 0.00317, saving model to data/output/fnn_compressed/activity_random_single-labeled_Fold-3.model.weights.hdf5\n",
      "15/15 - 0s - loss: 0.0046 - rmse: 0.0351 - mse: 0.0012 - mae: 0.0028 - val_loss: 0.0032 - val_rmse: 0.0012 - val_mse: 1.4483e-06 - val_mae: 0.0012 - 59ms/epoch - 4ms/step\n",
      "Epoch 71/5000\n",
      "15/15 - 0s - loss: 0.0043 - rmse: 0.0352 - mse: 0.0012 - mae: 0.0021 - val_loss: 0.0029 - val_rmse: 0.0018 - val_mse: 3.1188e-06 - val_mae: 0.0018 - 40ms/epoch - 3ms/step\n",
      "Epoch 72/5000\n",
      "15/15 - 0s - loss: 0.0040 - rmse: 0.0352 - mse: 0.0012 - mae: 0.0020 - val_loss: 0.0026 - val_rmse: 8.1674e-04 - val_mse: 6.6706e-07 - val_mae: 8.1674e-04 - 38ms/epoch - 3ms/step\n",
      "Epoch 73/5000\n",
      "15/15 - 0s - loss: 0.0037 - rmse: 0.0353 - mse: 0.0012 - mae: 0.0056 - val_loss: 0.0023 - val_rmse: 0.0025 - val_mse: 6.4922e-06 - val_mae: 0.0025 - 39ms/epoch - 3ms/step\n",
      "Epoch 74/5000\n",
      "15/15 - 0s - loss: 0.0034 - rmse: 0.0351 - mse: 0.0012 - mae: 0.0025 - val_loss: 0.0021 - val_rmse: 0.0011 - val_mse: 1.2875e-06 - val_mae: 0.0011 - 39ms/epoch - 3ms/step\n",
      "Epoch 75/5000\n",
      "15/15 - 0s - loss: 0.0032 - rmse: 0.0352 - mse: 0.0012 - mae: 0.0030 - val_loss: 0.0019 - val_rmse: 0.0018 - val_mse: 3.2905e-06 - val_mae: 0.0018 - 39ms/epoch - 3ms/step\n",
      "Epoch 76/5000\n",
      "15/15 - 0s - loss: 0.0030 - rmse: 0.0352 - mse: 0.0012 - mae: 0.0021 - val_loss: 0.0017 - val_rmse: 0.0018 - val_mse: 3.2927e-06 - val_mae: 0.0018 - 40ms/epoch - 3ms/step\n",
      "Epoch 77/5000\n",
      "15/15 - 0s - loss: 0.0029 - rmse: 0.0351 - mse: 0.0012 - mae: 0.0031 - val_loss: 0.0015 - val_rmse: 0.0016 - val_mse: 2.4170e-06 - val_mae: 0.0016 - 37ms/epoch - 2ms/step\n",
      "Epoch 78/5000\n",
      "15/15 - 0s - loss: 0.0027 - rmse: 0.0351 - mse: 0.0012 - mae: 0.0027 - val_loss: 0.0014 - val_rmse: 2.3352e-04 - val_mse: 5.4532e-08 - val_mae: 2.3352e-04 - 41ms/epoch - 3ms/step\n",
      "Epoch 79/5000\n",
      "15/15 - 0s - loss: 0.0026 - rmse: 0.0352 - mse: 0.0012 - mae: 0.0019 - val_loss: 0.0013 - val_rmse: 0.0020 - val_mse: 3.9508e-06 - val_mae: 0.0020 - 36ms/epoch - 2ms/step\n",
      "Epoch 80/5000\n",
      "\n",
      "Epoch 80: val_loss improved from 0.00317 to 0.00113, saving model to data/output/fnn_compressed/activity_random_single-labeled_Fold-3.model.weights.hdf5\n",
      "15/15 - 0s - loss: 0.0024 - rmse: 0.0352 - mse: 0.0012 - mae: 0.0038 - val_loss: 0.0011 - val_rmse: 0.0019 - val_mse: 3.5517e-06 - val_mae: 0.0019 - 45ms/epoch - 3ms/step\n",
      "Epoch 81/5000\n",
      "15/15 - 0s - loss: 0.0023 - rmse: 0.0352 - mse: 0.0012 - mae: 0.0021 - val_loss: 0.0010 - val_rmse: 0.0018 - val_mse: 3.2166e-06 - val_mae: 0.0018 - 38ms/epoch - 3ms/step\n",
      "Epoch 82/5000\n",
      "15/15 - 0s - loss: 0.0022 - rmse: 0.0352 - mse: 0.0012 - mae: 0.0024 - val_loss: 9.1590e-04 - val_rmse: 0.0012 - val_mse: 1.3433e-06 - val_mae: 0.0012 - 44ms/epoch - 3ms/step\n",
      "Epoch 83/5000\n",
      "15/15 - 0s - loss: 0.0021 - rmse: 0.0352 - mse: 0.0012 - mae: 0.0041 - val_loss: 8.2469e-04 - val_rmse: 3.3681e-04 - val_mse: 1.1344e-07 - val_mae: 3.3681e-04 - 55ms/epoch - 4ms/step\n",
      "Epoch 84/5000\n",
      "15/15 - 0s - loss: 0.0020 - rmse: 0.0352 - mse: 0.0012 - mae: 0.0021 - val_loss: 7.4441e-04 - val_rmse: 9.7571e-04 - val_mse: 9.5201e-07 - val_mae: 9.7571e-04 - 52ms/epoch - 3ms/step\n",
      "Epoch 85/5000\n",
      "15/15 - 0s - loss: 0.0019 - rmse: 0.0352 - mse: 0.0012 - mae: 0.0017 - val_loss: 6.7247e-04 - val_rmse: 0.0015 - val_mse: 2.1479e-06 - val_mae: 0.0015 - 44ms/epoch - 3ms/step\n",
      "Epoch 86/5000\n",
      "15/15 - 0s - loss: 0.0019 - rmse: 0.0351 - mse: 0.0012 - mae: 0.0034 - val_loss: 6.0886e-04 - val_rmse: 0.0021 - val_mse: 4.4777e-06 - val_mae: 0.0021 - 72ms/epoch - 5ms/step\n",
      "Epoch 87/5000\n",
      "15/15 - 0s - loss: 0.0018 - rmse: 0.0351 - mse: 0.0012 - mae: 0.0031 - val_loss: 5.4492e-04 - val_rmse: 6.2212e-05 - val_mse: 3.8703e-09 - val_mae: 6.2211e-05 - 64ms/epoch - 4ms/step\n",
      "Epoch 88/5000\n",
      "15/15 - 0s - loss: 0.0018 - rmse: 0.0352 - mse: 0.0012 - mae: 0.0020 - val_loss: 4.9319e-04 - val_rmse: 0.0014 - val_mse: 1.8859e-06 - val_mae: 0.0014 - 50ms/epoch - 3ms/step\n",
      "Epoch 89/5000\n",
      "15/15 - 0s - loss: 0.0017 - rmse: 0.0352 - mse: 0.0012 - mae: 0.0033 - val_loss: 4.4425e-04 - val_rmse: 0.0011 - val_mse: 1.2735e-06 - val_mae: 0.0011 - 42ms/epoch - 3ms/step\n",
      "Epoch 90/5000\n",
      "\n",
      "Epoch 90: val_loss improved from 0.00113 to 0.00040, saving model to data/output/fnn_compressed/activity_random_single-labeled_Fold-3.model.weights.hdf5\n",
      "15/15 - 0s - loss: 0.0017 - rmse: 0.0353 - mse: 0.0012 - mae: 0.0055 - val_loss: 4.0130e-04 - val_rmse: 0.0014 - val_mse: 1.9072e-06 - val_mae: 0.0014 - 48ms/epoch - 3ms/step\n",
      "Epoch 91/5000\n",
      "15/15 - 0s - loss: 0.0016 - rmse: 0.0352 - mse: 0.0012 - mae: 0.0018 - val_loss: 3.6042e-04 - val_rmse: 5.5602e-04 - val_mse: 3.0916e-07 - val_mae: 5.5602e-04 - 40ms/epoch - 3ms/step\n",
      "Epoch 92/5000\n",
      "15/15 - 0s - loss: 0.0016 - rmse: 0.0351 - mse: 0.0012 - mae: 0.0018 - val_loss: 3.3007e-04 - val_rmse: 0.0023 - val_mse: 5.3836e-06 - val_mae: 0.0023 - 36ms/epoch - 2ms/step\n",
      "Epoch 93/5000\n",
      "15/15 - 0s - loss: 0.0015 - rmse: 0.0351 - mse: 0.0012 - mae: 0.0034 - val_loss: 2.9454e-04 - val_rmse: 0.0013 - val_mse: 1.8037e-06 - val_mae: 0.0013 - 55ms/epoch - 4ms/step\n",
      "Epoch 94/5000\n",
      "15/15 - 0s - loss: 0.0015 - rmse: 0.0351 - mse: 0.0012 - mae: 0.0026 - val_loss: 2.6396e-04 - val_rmse: 1.4264e-04 - val_mse: 2.0346e-08 - val_mae: 1.4264e-04 - 42ms/epoch - 3ms/step\n",
      "Epoch 95/5000\n",
      "15/15 - 0s - loss: 0.0015 - rmse: 0.0352 - mse: 0.0012 - mae: 0.0023 - val_loss: 2.4359e-04 - val_rmse: 0.0024 - val_mse: 5.6118e-06 - val_mae: 0.0024 - 47ms/epoch - 3ms/step\n",
      "Epoch 96/5000\n",
      "15/15 - 0s - loss: 0.0015 - rmse: 0.0351 - mse: 0.0012 - mae: 0.0035 - val_loss: 2.1546e-04 - val_rmse: 9.4851e-04 - val_mse: 8.9967e-07 - val_mae: 9.4851e-04 - 32ms/epoch - 2ms/step\n",
      "Epoch 97/5000\n",
      "15/15 - 0s - loss: 0.0014 - rmse: 0.0352 - mse: 0.0012 - mae: 0.0027 - val_loss: 2.0083e-04 - val_rmse: 0.0027 - val_mse: 7.3704e-06 - val_mae: 0.0027 - 30ms/epoch - 2ms/step\n",
      "Epoch 98/5000\n",
      "15/15 - 0s - loss: 0.0014 - rmse: 0.0352 - mse: 0.0012 - mae: 0.0027 - val_loss: 1.7621e-04 - val_rmse: 0.0013 - val_mse: 1.7872e-06 - val_mae: 0.0013 - 26ms/epoch - 2ms/step\n",
      "Epoch 99/5000\n",
      "15/15 - 0s - loss: 0.0014 - rmse: 0.0352 - mse: 0.0012 - mae: 0.0026 - val_loss: 1.5933e-04 - val_rmse: 0.0014 - val_mse: 2.0620e-06 - val_mae: 0.0014 - 26ms/epoch - 2ms/step\n",
      "Epoch 100/5000\n",
      "\n",
      "Epoch 100: val_loss improved from 0.00040 to 0.00014, saving model to data/output/fnn_compressed/activity_random_single-labeled_Fold-3.model.weights.hdf5\n",
      "15/15 - 0s - loss: 0.0014 - rmse: 0.0351 - mse: 0.0012 - mae: 0.0026 - val_loss: 1.4220e-04 - val_rmse: 6.3536e-04 - val_mse: 4.0369e-07 - val_mae: 6.3536e-04 - 33ms/epoch - 2ms/step\n",
      "Epoch 101/5000\n",
      "15/15 - 0s - loss: 0.0014 - rmse: 0.0352 - mse: 0.0012 - mae: 0.0020 - val_loss: 1.3336e-04 - val_rmse: 0.0023 - val_mse: 5.5212e-06 - val_mae: 0.0023 - 33ms/epoch - 2ms/step\n",
      "Epoch 102/5000\n",
      "15/15 - 0s - loss: 0.0014 - rmse: 0.0352 - mse: 0.0012 - mae: 0.0028 - val_loss: 1.1797e-04 - val_rmse: 0.0016 - val_mse: 2.7025e-06 - val_mae: 0.0016 - 30ms/epoch - 2ms/step\n",
      "Epoch 103/5000\n",
      "15/15 - 0s - loss: 0.0013 - rmse: 0.0351 - mse: 0.0012 - mae: 0.0032 - val_loss: 1.0398e-04 - val_rmse: 2.3754e-04 - val_mse: 5.6427e-08 - val_mae: 2.3754e-04 - 32ms/epoch - 2ms/step\n",
      "Epoch 104/5000\n",
      "15/15 - 0s - loss: 0.0013 - rmse: 0.0352 - mse: 0.0012 - mae: 0.0022 - val_loss: 9.9273e-05 - val_rmse: 0.0024 - val_mse: 5.5717e-06 - val_mae: 0.0024 - 25ms/epoch - 2ms/step\n",
      "Epoch 105/5000\n",
      "15/15 - 0s - loss: 0.0013 - rmse: 0.0352 - mse: 0.0012 - mae: 0.0039 - val_loss: 8.7009e-05 - val_rmse: 0.0016 - val_mse: 2.5265e-06 - val_mae: 0.0016 - 29ms/epoch - 2ms/step\n",
      "Epoch 106/5000\n",
      "15/15 - 0s - loss: 0.0013 - rmse: 0.0352 - mse: 0.0012 - mae: 0.0021 - val_loss: 7.6564e-05 - val_rmse: 6.2761e-04 - val_mse: 3.9389e-07 - val_mae: 6.2761e-04 - 31ms/epoch - 2ms/step\n",
      "Epoch 107/5000\n",
      "15/15 - 0s - loss: 0.0013 - rmse: 0.0352 - mse: 0.0012 - mae: 0.0033 - val_loss: 7.3323e-05 - val_rmse: 0.0022 - val_mse: 4.6447e-06 - val_mae: 0.0022 - 38ms/epoch - 3ms/step\n",
      "Epoch 108/5000\n",
      "15/15 - 0s - loss: 0.0013 - rmse: 0.0351 - mse: 0.0012 - mae: 0.0035 - val_loss: 6.1922e-05 - val_rmse: 5.0036e-05 - val_mse: 2.5036e-09 - val_mae: 5.0036e-05 - 34ms/epoch - 2ms/step\n",
      "Epoch 109/5000\n",
      "15/15 - 0s - loss: 0.0013 - rmse: 0.0352 - mse: 0.0012 - mae: 0.0023 - val_loss: 6.2772e-05 - val_rmse: 0.0026 - val_mse: 6.9417e-06 - val_mae: 0.0026 - 34ms/epoch - 2ms/step\n",
      "Epoch 110/5000\n",
      "\n",
      "Epoch 110: val_loss improved from 0.00014 to 0.00005, saving model to data/output/fnn_compressed/activity_random_single-labeled_Fold-3.model.weights.hdf5\n",
      "15/15 - 0s - loss: 0.0013 - rmse: 0.0352 - mse: 0.0012 - mae: 0.0032 - val_loss: 5.2323e-05 - val_rmse: 0.0014 - val_mse: 1.9860e-06 - val_mae: 0.0014 - 42ms/epoch - 3ms/step\n",
      "Epoch 111/5000\n",
      "15/15 - 0s - loss: 0.0013 - rmse: 0.0351 - mse: 0.0012 - mae: 0.0028 - val_loss: 4.5447e-05 - val_rmse: 2.4802e-04 - val_mse: 6.1516e-08 - val_mae: 2.4802e-04 - 36ms/epoch - 2ms/step\n",
      "Epoch 112/5000\n",
      "15/15 - 0s - loss: 0.0013 - rmse: 0.0352 - mse: 0.0012 - mae: 0.0023 - val_loss: 4.3305e-05 - val_rmse: 0.0015 - val_mse: 2.3847e-06 - val_mae: 0.0015 - 33ms/epoch - 2ms/step\n",
      "Epoch 113/5000\n",
      "15/15 - 0s - loss: 0.0013 - rmse: 0.0351 - mse: 0.0012 - mae: 0.0030 - val_loss: 3.7248e-05 - val_rmse: 5.9514e-04 - val_mse: 3.5419e-07 - val_mae: 5.9514e-04 - 39ms/epoch - 3ms/step\n",
      "Epoch 114/5000\n",
      "15/15 - 0s - loss: 0.0013 - rmse: 0.0352 - mse: 0.0012 - mae: 0.0024 - val_loss: 4.1691e-05 - val_rmse: 0.0029 - val_mse: 8.4257e-06 - val_mae: 0.0029 - 48ms/epoch - 3ms/step\n",
      "Epoch 115/5000\n",
      "15/15 - 0s - loss: 0.0013 - rmse: 0.0352 - mse: 0.0012 - mae: 0.0043 - val_loss: 3.1269e-05 - val_rmse: 0.0011 - val_mse: 1.2779e-06 - val_mae: 0.0011 - 41ms/epoch - 3ms/step\n",
      "Epoch 116/5000\n",
      "15/15 - 0s - loss: 0.0013 - rmse: 0.0352 - mse: 0.0012 - mae: 0.0028 - val_loss: 3.5974e-05 - val_rmse: 0.0030 - val_mse: 8.9317e-06 - val_mae: 0.0030 - 39ms/epoch - 3ms/step\n",
      "Epoch 117/5000\n",
      "15/15 - 0s - loss: 0.0013 - rmse: 0.0352 - mse: 0.0012 - mae: 0.0040 - val_loss: 2.6070e-05 - val_rmse: 0.0013 - val_mse: 1.6880e-06 - val_mae: 0.0013 - 38ms/epoch - 3ms/step\n",
      "Epoch 118/5000\n",
      "15/15 - 0s - loss: 0.0013 - rmse: 0.0352 - mse: 0.0012 - mae: 0.0020 - val_loss: 2.6140e-05 - val_rmse: 0.0020 - val_mse: 4.1567e-06 - val_mae: 0.0020 - 40ms/epoch - 3ms/step\n",
      "Epoch 119/5000\n",
      "15/15 - 0s - loss: 0.0013 - rmse: 0.0352 - mse: 0.0012 - mae: 0.0025 - val_loss: 2.2625e-05 - val_rmse: 0.0017 - val_mse: 2.8041e-06 - val_mae: 0.0017 - 37ms/epoch - 2ms/step\n",
      "Epoch 120/5000\n",
      "\n",
      "Epoch 120: val_loss improved from 0.00005 to 0.00002, saving model to data/output/fnn_compressed/activity_random_single-labeled_Fold-3.model.weights.hdf5\n",
      "15/15 - 0s - loss: 0.0013 - rmse: 0.0352 - mse: 0.0012 - mae: 0.0037 - val_loss: 1.7914e-05 - val_rmse: 2.1119e-04 - val_mse: 4.4602e-08 - val_mae: 2.1119e-04 - 51ms/epoch - 3ms/step\n",
      "Epoch 121/5000\n",
      "15/15 - 0s - loss: 0.0013 - rmse: 0.0352 - mse: 0.0012 - mae: 0.0021 - val_loss: 1.6982e-05 - val_rmse: 9.3273e-04 - val_mse: 8.6999e-07 - val_mae: 9.3273e-04 - 39ms/epoch - 3ms/step\n",
      "Epoch 122/5000\n",
      "15/15 - 0s - loss: 0.0013 - rmse: 0.0352 - mse: 0.0012 - mae: 0.0017 - val_loss: 1.8008e-05 - val_rmse: 0.0019 - val_mse: 3.4812e-06 - val_mae: 0.0019 - 40ms/epoch - 3ms/step\n",
      "Epoch 123/5000\n",
      "15/15 - 0s - loss: 0.0012 - rmse: 0.0352 - mse: 0.0012 - mae: 0.0034 - val_loss: 1.6761e-05 - val_rmse: 0.0019 - val_mse: 3.6626e-06 - val_mae: 0.0019 - 36ms/epoch - 2ms/step\n",
      "Epoch 124/5000\n",
      "15/15 - 0s - loss: 0.0013 - rmse: 0.0352 - mse: 0.0012 - mae: 0.0020 - val_loss: 1.3823e-05 - val_rmse: 0.0014 - val_mse: 2.0128e-06 - val_mae: 0.0014 - 37ms/epoch - 2ms/step\n",
      "Epoch 125/5000\n",
      "15/15 - 0s - loss: 0.0012 - rmse: 0.0351 - mse: 0.0012 - mae: 0.0035 - val_loss: 1.4644e-05 - val_rmse: 0.0020 - val_mse: 3.9956e-06 - val_mae: 0.0020 - 36ms/epoch - 2ms/step\n",
      "Epoch 126/5000\n",
      "15/15 - 0s - loss: 0.0012 - rmse: 0.0351 - mse: 0.0012 - mae: 0.0026 - val_loss: 9.7366e-06 - val_rmse: 3.6902e-04 - val_mse: 1.3618e-07 - val_mae: 3.6902e-04 - 49ms/epoch - 3ms/step\n",
      "Epoch 127/5000\n",
      "15/15 - 0s - loss: 0.0012 - rmse: 0.0352 - mse: 0.0012 - mae: 0.0023 - val_loss: 1.2081e-05 - val_rmse: 0.0019 - val_mse: 3.4248e-06 - val_mae: 0.0019 - 39ms/epoch - 3ms/step\n",
      "Epoch 128/5000\n",
      "15/15 - 0s - loss: 0.0012 - rmse: 0.0352 - mse: 0.0012 - mae: 0.0023 - val_loss: 1.0702e-05 - val_rmse: 0.0017 - val_mse: 2.8968e-06 - val_mae: 0.0017 - 39ms/epoch - 3ms/step\n",
      "Epoch 129/5000\n",
      "15/15 - 0s - loss: 0.0012 - rmse: 0.0352 - mse: 0.0012 - mae: 0.0020 - val_loss: 7.4339e-06 - val_rmse: 6.2981e-04 - val_mse: 3.9666e-07 - val_mae: 6.2981e-04 - 41ms/epoch - 3ms/step\n",
      "Epoch 130/5000\n",
      "\n",
      "Epoch 130: val_loss improved from 0.00002 to 0.00001, saving model to data/output/fnn_compressed/activity_random_single-labeled_Fold-3.model.weights.hdf5\n",
      "15/15 - 0s - loss: 0.0012 - rmse: 0.0351 - mse: 0.0012 - mae: 0.0033 - val_loss: 1.2612e-05 - val_rmse: 0.0025 - val_mse: 6.2671e-06 - val_mae: 0.0025 - 45ms/epoch - 3ms/step\n",
      "Epoch 131/5000\n",
      "15/15 - 0s - loss: 0.0012 - rmse: 0.0352 - mse: 0.0012 - mae: 0.0024 - val_loss: 7.7092e-06 - val_rmse: 0.0014 - val_mse: 1.9883e-06 - val_mae: 0.0014 - 38ms/epoch - 3ms/step\n",
      "Epoch 132/5000\n",
      "15/15 - 0s - loss: 0.0012 - rmse: 0.0352 - mse: 0.0012 - mae: 0.0018 - val_loss: 6.8032e-06 - val_rmse: 0.0013 - val_mse: 1.6452e-06 - val_mae: 0.0013 - 38ms/epoch - 3ms/step\n",
      "Epoch 133/5000\n",
      "Restoring model weights from the end of the best epoch: 113.\n",
      "15/15 - 0s - loss: 0.0012 - rmse: 0.0352 - mse: 0.0012 - mae: 0.0044 - val_loss: 4.6506e-06 - val_rmse: 2.1093e-05 - val_mse: 4.4493e-10 - val_mae: 2.1093e-05 - 40ms/epoch - 3ms/step\n",
      "Epoch 133: early stopping\n",
      "7/7 [==============================] - 0s 1ms/step\n",
      "INFO:tensorflow:Assets written to: data/output/fnn_compressed/activity-3_saved_model/assets\n"
     ]
    },
    {
     "name": "stderr",
     "output_type": "stream",
     "text": [
      "INFO:tensorflow:Assets written to: data/output/fnn_compressed/activity-3_saved_model/assets\n"
     ]
    },
    {
     "data": {
      "text/plain": [
       "VBox(children=(Label(value='0.004 MB of 0.004 MB uploaded\\r'), FloatProgress(value=1.0, max=1.0)))"
      ],
      "application/vnd.jupyter.widget-view+json": {
       "version_major": 2,
       "version_minor": 0,
       "model_id": "65d36fbf51b645a3866475d5a15acc47"
      }
     },
     "metadata": {},
     "output_type": "display_data"
    },
    {
     "data": {
      "text/plain": [
       "<IPython.core.display.HTML object>"
      ],
      "text/html": [
       "<style>\n",
       "    table.wandb td:nth-child(1) { padding: 0 10px; text-align: left ; width: auto;} td:nth-child(2) {text-align: left ; width: 100%}\n",
       "    .wandb-row { display: flex; flex-direction: row; flex-wrap: wrap; justify-content: flex-start; width: 100% }\n",
       "    .wandb-col { display: flex; flex-direction: column; flex-basis: 100%; flex: 1; padding: 10px; }\n",
       "    </style>\n",
       "<div class=\"wandb-row\"><div class=\"wandb-col\"><h3>Run history:</h3><br/><table class=\"wandb\"><tr><td>epoch</td><td>▁▁▁▂▂▂▂▂▂▃▃▃▃▃▃▄▄▄▄▄▅▅▅▅▅▅▆▆▆▆▆▆▇▇▇▇▇███</td></tr><tr><td>loss</td><td>█▇▅▃▃▂▂▂▁▁▁▁▁▁▁▁▁▁▁▁▁▁▁▁▁▁▁▁▁▁▁▁▁▁▁▁▁▁▁▁</td></tr><tr><td>mae</td><td>█▂▂▁▁▁▁▁▁▁▁▁▁▁▁▁▁▁▁▁▁▁▁▁▁▁▁▁▁▁▁▁▁▁▁▁▁▁▁▁</td></tr><tr><td>mse</td><td>█▁▁▁▁▁▁▁▁▁▁▁▁▁▁▁▁▁▁▁▁▁▁▁▁▁▁▁▁▁▁▁▁▁▁▁▁▁▁▁</td></tr><tr><td>rmse</td><td>█▂▁▁▁▁▁▁▁▁▁▁▁▁▁▁▁▁▁▁▁▁▁▁▁▁▁▁▁▁▁▁▁▁▁▁▁▁▁▁</td></tr><tr><td>val_loss</td><td>█▇▅▃▃▂▂▂▁▁▁▁▁▁▁▁▁▁▁▁▁▁▁▁▁▁▁▁▁▁▁▁▁▁▁▁▁▁▁▁</td></tr><tr><td>val_mae</td><td>█▃▂▁▁▁▁▁▁▁▁▁▁▁▁▁▁▁▁▁▁▁▁▁▁▁▁▁▁▁▁▁▁▁▁▁▁▁▁▁</td></tr><tr><td>val_mse</td><td>█▂▁▁▁▁▁▁▁▁▁▁▁▁▁▁▁▁▁▁▁▁▁▁▁▁▁▁▁▁▁▁▁▁▁▁▁▁▁▁</td></tr><tr><td>val_rmse</td><td>█▃▂▁▁▁▁▁▁▁▁▁▁▁▁▁▁▁▁▁▁▁▁▁▁▁▁▁▁▁▁▁▁▁▁▁▁▁▁▁</td></tr></table><br/></div><div class=\"wandb-col\"><h3>Run summary:</h3><br/><table class=\"wandb\"><tr><td>best_epoch</td><td>132</td></tr><tr><td>best_val_loss</td><td>0.0</td></tr><tr><td>epoch</td><td>132</td></tr><tr><td>loss</td><td>0.00125</td></tr><tr><td>mae</td><td>0.0044</td></tr><tr><td>mse</td><td>0.00124</td></tr><tr><td>rmse</td><td>0.03524</td></tr><tr><td>val_loss</td><td>0.0</td></tr><tr><td>val_mae</td><td>2e-05</td></tr><tr><td>val_mse</td><td>0.0</td></tr><tr><td>val_rmse</td><td>2e-05</td></tr></table><br/></div></div>"
      ]
     },
     "metadata": {},
     "output_type": "display_data"
    },
    {
     "data": {
      "text/plain": [
       "<IPython.core.display.HTML object>"
      ],
      "text/html": [
       " View run <strong style=\"color:#cdcd00\">activity-3</strong> at: <a href='https://wandb.ai/dfpl_regression/FNN_0.5_random/runs/za82jdu1' target=\"_blank\">https://wandb.ai/dfpl_regression/FNN_0.5_random/runs/za82jdu1</a><br/> View project at: <a href='https://wandb.ai/dfpl_regression/FNN_0.5_random' target=\"_blank\">https://wandb.ai/dfpl_regression/FNN_0.5_random</a><br/>Synced 6 W&B file(s), 0 media file(s), 0 artifact file(s) and 0 other file(s)"
      ]
     },
     "metadata": {},
     "output_type": "display_data"
    },
    {
     "data": {
      "text/plain": [
       "<IPython.core.display.HTML object>"
      ],
      "text/html": [
       "Find logs at: <code>./wandb/run-20240808_154310-za82jdu1/logs</code>"
      ]
     },
     "metadata": {},
     "output_type": "display_data"
    },
    {
     "data": {
      "text/plain": [
       "<IPython.core.display.HTML object>"
      ],
      "text/html": [
       "The new W&B backend becomes opt-out in version 0.18.0; try it out with `wandb.require(\"core\")`! See https://wandb.me/wandb-core for more information."
      ]
     },
     "metadata": {},
     "output_type": "display_data"
    },
    {
     "data": {
      "text/plain": [
       "VBox(children=(Label(value='Waiting for wandb.init()...\\r'), FloatProgress(value=0.011112667132531189, max=1.0…"
      ],
      "application/vnd.jupyter.widget-view+json": {
       "version_major": 2,
       "version_minor": 0,
       "model_id": "392f28a540254b559040f85517f47625"
      }
     },
     "metadata": {},
     "output_type": "display_data"
    },
    {
     "data": {
      "text/plain": [
       "<IPython.core.display.HTML object>"
      ],
      "text/html": [
       "Tracking run with wandb version 0.17.6"
      ]
     },
     "metadata": {},
     "output_type": "display_data"
    },
    {
     "data": {
      "text/plain": [
       "<IPython.core.display.HTML object>"
      ],
      "text/html": [
       "Run data is saved locally in <code>/home/hertelj/git-hertelj/deepFPlearn/example/wandb/run-20240808_154327-bezufhoh</code>"
      ]
     },
     "metadata": {},
     "output_type": "display_data"
    },
    {
     "data": {
      "text/plain": [
       "<IPython.core.display.HTML object>"
      ],
      "text/html": [
       "Syncing run <strong><a href='https://wandb.ai/dfpl_regression/FNN_0.5_random/runs/bezufhoh' target=\"_blank\">activity-4</a></strong> to <a href='https://wandb.ai/dfpl_regression/FNN_0.5_random' target=\"_blank\">Weights & Biases</a> (<a href='https://wandb.me/run' target=\"_blank\">docs</a>)<br/>"
      ]
     },
     "metadata": {},
     "output_type": "display_data"
    },
    {
     "data": {
      "text/plain": [
       "<IPython.core.display.HTML object>"
      ],
      "text/html": [
       " View project at <a href='https://wandb.ai/dfpl_regression/FNN_0.5_random' target=\"_blank\">https://wandb.ai/dfpl_regression/FNN_0.5_random</a>"
      ]
     },
     "metadata": {},
     "output_type": "display_data"
    },
    {
     "data": {
      "text/plain": [
       "<IPython.core.display.HTML object>"
      ],
      "text/html": [
       " View run at <a href='https://wandb.ai/dfpl_regression/FNN_0.5_random/runs/bezufhoh' target=\"_blank\">https://wandb.ai/dfpl_regression/FNN_0.5_random/runs/bezufhoh</a>"
      ]
     },
     "metadata": {},
     "output_type": "display_data"
    },
    {
     "name": "stdout",
     "output_type": "stream",
     "text": [
      "WARNING:tensorflow:`period` argument is deprecated. Please use `save_freq` to specify the frequency in number of batches seen.\n"
     ]
    },
    {
     "name": "stderr",
     "output_type": "stream",
     "text": [
      "/home/hertelj/build/local/miniforge3/envs/dfpl/lib/python3.10/site-packages/keras/optimizers/optimizer_v2/gradient_descent.py:108: UserWarning: The `lr` argument is deprecated, use `learning_rate` instead.\n",
      "  super(SGD, self).__init__(name, **kwargs)\n",
      "WARNING:tensorflow:`period` argument is deprecated. Please use `save_freq` to specify the frequency in number of batches seen.\n"
     ]
    },
    {
     "name": "stdout",
     "output_type": "stream",
     "text": [
      "Epoch 1/5000\n",
      "15/15 - 0s - loss: 4.4414 - rmse: 0.5960 - mse: 0.3553 - mae: 0.4650 - val_loss: 4.0380 - val_rmse: 0.3026 - val_mse: 0.0916 - val_mae: 0.2450 - 418ms/epoch - 28ms/step\n",
      "Epoch 2/5000\n",
      "15/15 - 0s - loss: 3.8428 - rmse: 0.2191 - mse: 0.0480 - mae: 0.1681 - val_loss: 3.6094 - val_rmse: 0.0855 - val_mse: 0.0073 - val_mae: 0.0663 - 40ms/epoch - 3ms/step\n",
      "Epoch 3/5000\n",
      "15/15 - 0s - loss: 3.4539 - rmse: 0.0946 - mse: 0.0090 - mae: 0.0701 - val_loss: 3.2596 - val_rmse: 0.0568 - val_mse: 0.0032 - val_mae: 0.0448 - 40ms/epoch - 3ms/step\n",
      "Epoch 4/5000\n",
      "15/15 - 0s - loss: 3.1142 - rmse: 0.0611 - mse: 0.0037 - mae: 0.0401 - val_loss: 2.9385 - val_rmse: 0.0337 - val_mse: 0.0011 - val_mae: 0.0264 - 39ms/epoch - 3ms/step\n",
      "Epoch 5/5000\n",
      "15/15 - 0s - loss: 2.8071 - rmse: 0.0451 - mse: 0.0020 - mae: 0.0243 - val_loss: 2.6490 - val_rmse: 0.0204 - val_mse: 4.1809e-04 - val_mae: 0.0159 - 31ms/epoch - 2ms/step\n",
      "Epoch 6/5000\n",
      "15/15 - 0s - loss: 2.5309 - rmse: 0.0420 - mse: 0.0018 - mae: 0.0181 - val_loss: 2.3882 - val_rmse: 0.0176 - val_mse: 3.0828e-04 - val_mae: 0.0142 - 40ms/epoch - 3ms/step\n",
      "Epoch 7/5000\n",
      "15/15 - 0s - loss: 2.2817 - rmse: 0.0383 - mse: 0.0015 - mae: 0.0143 - val_loss: 2.1531 - val_rmse: 0.0125 - val_mse: 1.5526e-04 - val_mae: 0.0101 - 38ms/epoch - 3ms/step\n",
      "Epoch 8/5000\n",
      "15/15 - 0s - loss: 2.0573 - rmse: 0.0384 - mse: 0.0015 - mae: 0.0140 - val_loss: 1.9412 - val_rmse: 0.0105 - val_mse: 1.1046e-04 - val_mae: 0.0086 - 34ms/epoch - 2ms/step\n",
      "Epoch 9/5000\n",
      "15/15 - 0s - loss: 1.8549 - rmse: 0.0370 - mse: 0.0014 - mae: 0.0109 - val_loss: 1.7502 - val_rmse: 0.0107 - val_mse: 1.1380e-04 - val_mae: 0.0087 - 37ms/epoch - 2ms/step\n",
      "Epoch 10/5000\n",
      "\n",
      "Epoch 10: val_loss improved from inf to 1.57791, saving model to data/output/fnn_compressed/activity_random_single-labeled_Fold-4.model.weights.hdf5\n",
      "15/15 - 0s - loss: 1.6724 - rmse: 0.0360 - mse: 0.0013 - mae: 0.0093 - val_loss: 1.5779 - val_rmse: 0.0077 - val_mse: 5.9297e-05 - val_mae: 0.0063 - 46ms/epoch - 3ms/step\n",
      "Epoch 11/5000\n",
      "15/15 - 0s - loss: 1.5080 - rmse: 0.0356 - mse: 0.0013 - mae: 0.0080 - val_loss: 1.4227 - val_rmse: 0.0070 - val_mse: 4.8908e-05 - val_mae: 0.0057 - 40ms/epoch - 3ms/step\n",
      "Epoch 12/5000\n",
      "15/15 - 0s - loss: 1.3597 - rmse: 0.0356 - mse: 0.0013 - mae: 0.0072 - val_loss: 1.2827 - val_rmse: 0.0062 - val_mse: 3.7892e-05 - val_mae: 0.0050 - 42ms/epoch - 3ms/step\n",
      "Epoch 13/5000\n",
      "15/15 - 0s - loss: 1.2260 - rmse: 0.0350 - mse: 0.0012 - mae: 0.0065 - val_loss: 1.1565 - val_rmse: 0.0059 - val_mse: 3.4256e-05 - val_mae: 0.0048 - 39ms/epoch - 3ms/step\n",
      "Epoch 14/5000\n",
      "15/15 - 0s - loss: 1.1056 - rmse: 0.0351 - mse: 0.0012 - mae: 0.0057 - val_loss: 1.0427 - val_rmse: 0.0054 - val_mse: 2.8662e-05 - val_mae: 0.0044 - 42ms/epoch - 3ms/step\n",
      "Epoch 15/5000\n",
      "15/15 - 0s - loss: 0.9969 - rmse: 0.0352 - mse: 0.0012 - mae: 0.0055 - val_loss: 0.9401 - val_rmse: 0.0043 - val_mse: 1.8574e-05 - val_mae: 0.0035 - 39ms/epoch - 3ms/step\n",
      "Epoch 16/5000\n",
      "15/15 - 0s - loss: 0.8989 - rmse: 0.0350 - mse: 0.0012 - mae: 0.0050 - val_loss: 0.8476 - val_rmse: 0.0042 - val_mse: 1.7909e-05 - val_mae: 0.0035 - 37ms/epoch - 2ms/step\n",
      "Epoch 17/5000\n",
      "15/15 - 0s - loss: 0.8106 - rmse: 0.0350 - mse: 0.0012 - mae: 0.0048 - val_loss: 0.7642 - val_rmse: 0.0042 - val_mse: 1.7534e-05 - val_mae: 0.0035 - 42ms/epoch - 3ms/step\n",
      "Epoch 18/5000\n",
      "15/15 - 0s - loss: 0.7310 - rmse: 0.0348 - mse: 0.0012 - mae: 0.0047 - val_loss: 0.6890 - val_rmse: 0.0035 - val_mse: 1.2212e-05 - val_mae: 0.0029 - 42ms/epoch - 3ms/step\n",
      "Epoch 19/5000\n",
      "15/15 - 0s - loss: 0.6592 - rmse: 0.0349 - mse: 0.0012 - mae: 0.0041 - val_loss: 0.6213 - val_rmse: 0.0037 - val_mse: 1.3672e-05 - val_mae: 0.0031 - 40ms/epoch - 3ms/step\n",
      "Epoch 20/5000\n",
      "\n",
      "Epoch 20: val_loss improved from 1.57791 to 0.56014, saving model to data/output/fnn_compressed/activity_random_single-labeled_Fold-4.model.weights.hdf5\n",
      "15/15 - 0s - loss: 0.5945 - rmse: 0.0350 - mse: 0.0012 - mae: 0.0044 - val_loss: 0.5601 - val_rmse: 0.0033 - val_mse: 1.0702e-05 - val_mae: 0.0027 - 46ms/epoch - 3ms/step\n",
      "Epoch 21/5000\n",
      "15/15 - 0s - loss: 0.5361 - rmse: 0.0350 - mse: 0.0012 - mae: 0.0036 - val_loss: 0.5050 - val_rmse: 0.0030 - val_mse: 8.7047e-06 - val_mae: 0.0025 - 35ms/epoch - 2ms/step\n",
      "Epoch 22/5000\n",
      "15/15 - 0s - loss: 0.4835 - rmse: 0.0349 - mse: 0.0012 - mae: 0.0045 - val_loss: 0.4553 - val_rmse: 0.0023 - val_mse: 5.4084e-06 - val_mae: 0.0019 - 36ms/epoch - 2ms/step\n",
      "Epoch 23/5000\n",
      "15/15 - 0s - loss: 0.4360 - rmse: 0.0349 - mse: 0.0012 - mae: 0.0033 - val_loss: 0.4106 - val_rmse: 0.0028 - val_mse: 8.0512e-06 - val_mae: 0.0024 - 48ms/epoch - 3ms/step\n",
      "Epoch 24/5000\n",
      "15/15 - 0s - loss: 0.3933 - rmse: 0.0348 - mse: 0.0012 - mae: 0.0037 - val_loss: 0.3702 - val_rmse: 0.0020 - val_mse: 3.8175e-06 - val_mae: 0.0016 - 35ms/epoch - 2ms/step\n",
      "Epoch 25/5000\n",
      "15/15 - 0s - loss: 0.3547 - rmse: 0.0349 - mse: 0.0012 - mae: 0.0029 - val_loss: 0.3337 - val_rmse: 0.0022 - val_mse: 4.8859e-06 - val_mae: 0.0018 - 40ms/epoch - 3ms/step\n",
      "Epoch 26/5000\n",
      "15/15 - 0s - loss: 0.3199 - rmse: 0.0349 - mse: 0.0012 - mae: 0.0041 - val_loss: 0.3009 - val_rmse: 0.0025 - val_mse: 6.3398e-06 - val_mae: 0.0022 - 39ms/epoch - 3ms/step\n",
      "Epoch 27/5000\n",
      "15/15 - 0s - loss: 0.2886 - rmse: 0.0349 - mse: 0.0012 - mae: 0.0028 - val_loss: 0.2713 - val_rmse: 0.0015 - val_mse: 2.3682e-06 - val_mae: 0.0013 - 49ms/epoch - 3ms/step\n",
      "Epoch 28/5000\n",
      "15/15 - 0s - loss: 0.2603 - rmse: 0.0350 - mse: 0.0012 - mae: 0.0027 - val_loss: 0.2446 - val_rmse: 0.0026 - val_mse: 6.7274e-06 - val_mae: 0.0023 - 43ms/epoch - 3ms/step\n",
      "Epoch 29/5000\n",
      "15/15 - 0s - loss: 0.2348 - rmse: 0.0350 - mse: 0.0012 - mae: 0.0027 - val_loss: 0.2206 - val_rmse: 0.0017 - val_mse: 2.8508e-06 - val_mae: 0.0014 - 43ms/epoch - 3ms/step\n",
      "Epoch 30/5000\n",
      "\n",
      "Epoch 30: val_loss improved from 0.56014 to 0.19886, saving model to data/output/fnn_compressed/activity_random_single-labeled_Fold-4.model.weights.hdf5\n",
      "15/15 - 0s - loss: 0.2118 - rmse: 0.0350 - mse: 0.0012 - mae: 0.0026 - val_loss: 0.1989 - val_rmse: 0.0013 - val_mse: 1.6091e-06 - val_mae: 0.0011 - 50ms/epoch - 3ms/step\n",
      "Epoch 31/5000\n",
      "15/15 - 0s - loss: 0.1911 - rmse: 0.0350 - mse: 0.0012 - mae: 0.0037 - val_loss: 0.1793 - val_rmse: 0.0021 - val_mse: 4.4522e-06 - val_mae: 0.0019 - 33ms/epoch - 2ms/step\n",
      "Epoch 32/5000\n",
      "15/15 - 0s - loss: 0.1724 - rmse: 0.0350 - mse: 0.0012 - mae: 0.0026 - val_loss: 0.1617 - val_rmse: 8.2978e-04 - val_mse: 6.8854e-07 - val_mae: 6.4647e-04 - 42ms/epoch - 3ms/step\n",
      "Epoch 33/5000\n",
      "15/15 - 0s - loss: 0.1556 - rmse: 0.0351 - mse: 0.0012 - mae: 0.0026 - val_loss: 0.1458 - val_rmse: 0.0016 - val_mse: 2.6931e-06 - val_mae: 0.0015 - 36ms/epoch - 2ms/step\n",
      "Epoch 34/5000\n",
      "15/15 - 0s - loss: 0.1404 - rmse: 0.0351 - mse: 0.0012 - mae: 0.0029 - val_loss: 0.1314 - val_rmse: 7.7591e-04 - val_mse: 6.0203e-07 - val_mae: 6.2255e-04 - 25ms/epoch - 2ms/step\n",
      "Epoch 35/5000\n",
      "15/15 - 0s - loss: 0.1267 - rmse: 0.0351 - mse: 0.0012 - mae: 0.0023 - val_loss: 0.1185 - val_rmse: 0.0027 - val_mse: 7.5541e-06 - val_mae: 0.0027 - 28ms/epoch - 2ms/step\n",
      "Epoch 36/5000\n",
      "15/15 - 0s - loss: 0.1144 - rmse: 0.0351 - mse: 0.0012 - mae: 0.0031 - val_loss: 0.1068 - val_rmse: 0.0016 - val_mse: 2.4210e-06 - val_mae: 0.0015 - 29ms/epoch - 2ms/step\n",
      "Epoch 37/5000\n",
      "15/15 - 0s - loss: 0.1033 - rmse: 0.0351 - mse: 0.0012 - mae: 0.0022 - val_loss: 0.0963 - val_rmse: 0.0019 - val_mse: 3.7193e-06 - val_mae: 0.0019 - 37ms/epoch - 2ms/step\n",
      "Epoch 38/5000\n",
      "15/15 - 0s - loss: 0.0932 - rmse: 0.0351 - mse: 0.0012 - mae: 0.0034 - val_loss: 0.0869 - val_rmse: 0.0010 - val_mse: 1.0908e-06 - val_mae: 9.9081e-04 - 47ms/epoch - 3ms/step\n",
      "Epoch 39/5000\n",
      "15/15 - 0s - loss: 0.0842 - rmse: 0.0351 - mse: 0.0012 - mae: 0.0024 - val_loss: 0.0783 - val_rmse: 4.1822e-04 - val_mse: 1.7490e-07 - val_mae: 3.4113e-04 - 31ms/epoch - 2ms/step\n",
      "Epoch 40/5000\n",
      "\n",
      "Epoch 40: val_loss improved from 0.19886 to 0.07061, saving model to data/output/fnn_compressed/activity_random_single-labeled_Fold-4.model.weights.hdf5\n",
      "15/15 - 0s - loss: 0.0760 - rmse: 0.0351 - mse: 0.0012 - mae: 0.0024 - val_loss: 0.0706 - val_rmse: 0.0024 - val_mse: 5.7416e-06 - val_mae: 0.0024 - 42ms/epoch - 3ms/step\n",
      "Epoch 41/5000\n",
      "15/15 - 0s - loss: 0.0687 - rmse: 0.0351 - mse: 0.0012 - mae: 0.0023 - val_loss: 0.0637 - val_rmse: 3.3590e-04 - val_mse: 1.1283e-07 - val_mae: 2.8362e-04 - 29ms/epoch - 2ms/step\n",
      "Epoch 42/5000\n",
      "15/15 - 0s - loss: 0.0620 - rmse: 0.0352 - mse: 0.0012 - mae: 0.0041 - val_loss: 0.0574 - val_rmse: 0.0015 - val_mse: 2.3063e-06 - val_mae: 0.0015 - 30ms/epoch - 2ms/step\n",
      "Epoch 43/5000\n",
      "15/15 - 0s - loss: 0.0560 - rmse: 0.0352 - mse: 0.0012 - mae: 0.0025 - val_loss: 0.0517 - val_rmse: 4.3777e-04 - val_mse: 1.9164e-07 - val_mae: 4.0721e-04 - 37ms/epoch - 2ms/step\n",
      "Epoch 44/5000\n",
      "15/15 - 0s - loss: 0.0507 - rmse: 0.0353 - mse: 0.0012 - mae: 0.0048 - val_loss: 0.0467 - val_rmse: 0.0012 - val_mse: 1.3948e-06 - val_mae: 0.0012 - 34ms/epoch - 2ms/step\n",
      "Epoch 45/5000\n",
      "15/15 - 0s - loss: 0.0458 - rmse: 0.0352 - mse: 0.0012 - mae: 0.0027 - val_loss: 0.0421 - val_rmse: 0.0014 - val_mse: 1.9209e-06 - val_mae: 0.0014 - 28ms/epoch - 2ms/step\n",
      "Epoch 46/5000\n",
      "15/15 - 0s - loss: 0.0414 - rmse: 0.0352 - mse: 0.0012 - mae: 0.0045 - val_loss: 0.0379 - val_rmse: 0.0014 - val_mse: 2.0187e-06 - val_mae: 0.0014 - 31ms/epoch - 2ms/step\n",
      "Epoch 47/5000\n",
      "15/15 - 0s - loss: 0.0375 - rmse: 0.0352 - mse: 0.0012 - mae: 0.0020 - val_loss: 0.0342 - val_rmse: 0.0012 - val_mse: 1.4038e-06 - val_mae: 0.0012 - 26ms/epoch - 2ms/step\n",
      "Epoch 48/5000\n",
      "15/15 - 0s - loss: 0.0339 - rmse: 0.0351 - mse: 0.0012 - mae: 0.0018 - val_loss: 0.0308 - val_rmse: 8.1683e-04 - val_mse: 6.6721e-07 - val_mae: 8.1304e-04 - 31ms/epoch - 2ms/step\n",
      "Epoch 49/5000\n",
      "15/15 - 0s - loss: 0.0307 - rmse: 0.0351 - mse: 0.0012 - mae: 0.0032 - val_loss: 0.0278 - val_rmse: 0.0024 - val_mse: 5.8952e-06 - val_mae: 0.0024 - 52ms/epoch - 3ms/step\n",
      "Epoch 50/5000\n",
      "\n",
      "Epoch 50: val_loss improved from 0.07061 to 0.02507, saving model to data/output/fnn_compressed/activity_random_single-labeled_Fold-4.model.weights.hdf5\n",
      "15/15 - 0s - loss: 0.0278 - rmse: 0.0351 - mse: 0.0012 - mae: 0.0029 - val_loss: 0.0251 - val_rmse: 6.3339e-04 - val_mse: 4.0118e-07 - val_mae: 6.3067e-04 - 46ms/epoch - 3ms/step\n",
      "Epoch 51/5000\n",
      "15/15 - 0s - loss: 0.0252 - rmse: 0.0352 - mse: 0.0012 - mae: 0.0020 - val_loss: 0.0226 - val_rmse: 0.0021 - val_mse: 4.4628e-06 - val_mae: 0.0021 - 40ms/epoch - 3ms/step\n",
      "Epoch 52/5000\n",
      "15/15 - 0s - loss: 0.0228 - rmse: 0.0351 - mse: 0.0012 - mae: 0.0033 - val_loss: 0.0204 - val_rmse: 8.4218e-04 - val_mse: 7.0927e-07 - val_mae: 8.4105e-04 - 38ms/epoch - 3ms/step\n",
      "Epoch 53/5000\n",
      "15/15 - 0s - loss: 0.0207 - rmse: 0.0352 - mse: 0.0012 - mae: 0.0021 - val_loss: 0.0184 - val_rmse: 0.0016 - val_mse: 2.4185e-06 - val_mae: 0.0016 - 35ms/epoch - 2ms/step\n",
      "Epoch 54/5000\n",
      "15/15 - 0s - loss: 0.0188 - rmse: 0.0351 - mse: 0.0012 - mae: 0.0023 - val_loss: 0.0166 - val_rmse: 0.0018 - val_mse: 3.1336e-06 - val_mae: 0.0018 - 33ms/epoch - 2ms/step\n",
      "Epoch 55/5000\n",
      "15/15 - 0s - loss: 0.0171 - rmse: 0.0351 - mse: 0.0012 - mae: 0.0028 - val_loss: 0.0149 - val_rmse: 0.0013 - val_mse: 1.5920e-06 - val_mae: 0.0013 - 48ms/epoch - 3ms/step\n",
      "Epoch 56/5000\n",
      "15/15 - 0s - loss: 0.0155 - rmse: 0.0352 - mse: 0.0012 - mae: 0.0023 - val_loss: 0.0135 - val_rmse: 0.0014 - val_mse: 2.0031e-06 - val_mae: 0.0014 - 46ms/epoch - 3ms/step\n",
      "Epoch 57/5000\n",
      "15/15 - 0s - loss: 0.0141 - rmse: 0.0351 - mse: 0.0012 - mae: 0.0029 - val_loss: 0.0121 - val_rmse: 3.5441e-04 - val_mse: 1.2560e-07 - val_mae: 3.5380e-04 - 26ms/epoch - 2ms/step\n",
      "Epoch 58/5000\n",
      "15/15 - 0s - loss: 0.0128 - rmse: 0.0352 - mse: 0.0012 - mae: 0.0019 - val_loss: 0.0110 - val_rmse: 0.0022 - val_mse: 4.6344e-06 - val_mae: 0.0022 - 31ms/epoch - 2ms/step\n",
      "Epoch 59/5000\n",
      "15/15 - 0s - loss: 0.0117 - rmse: 0.0352 - mse: 0.0012 - mae: 0.0039 - val_loss: 0.0099 - val_rmse: 0.0013 - val_mse: 1.6200e-06 - val_mae: 0.0013 - 31ms/epoch - 2ms/step\n",
      "Epoch 60/5000\n",
      "\n",
      "Epoch 60: val_loss improved from 0.02507 to 0.00890, saving model to data/output/fnn_compressed/activity_random_single-labeled_Fold-4.model.weights.hdf5\n",
      "15/15 - 0s - loss: 0.0107 - rmse: 0.0352 - mse: 0.0012 - mae: 0.0022 - val_loss: 0.0089 - val_rmse: 0.0011 - val_mse: 1.1559e-06 - val_mae: 0.0011 - 40ms/epoch - 3ms/step\n",
      "Epoch 61/5000\n",
      "15/15 - 0s - loss: 0.0097 - rmse: 0.0352 - mse: 0.0012 - mae: 0.0031 - val_loss: 0.0080 - val_rmse: 0.0013 - val_mse: 1.7387e-06 - val_mae: 0.0013 - 47ms/epoch - 3ms/step\n",
      "Epoch 62/5000\n",
      "15/15 - 0s - loss: 0.0089 - rmse: 0.0353 - mse: 0.0012 - mae: 0.0057 - val_loss: 0.0072 - val_rmse: 0.0013 - val_mse: 1.6591e-06 - val_mae: 0.0013 - 34ms/epoch - 2ms/step\n",
      "Epoch 63/5000\n",
      "15/15 - 0s - loss: 0.0081 - rmse: 0.0351 - mse: 0.0012 - mae: 0.0018 - val_loss: 0.0065 - val_rmse: 6.0997e-04 - val_mse: 3.7207e-07 - val_mae: 6.0992e-04 - 33ms/epoch - 2ms/step\n",
      "Epoch 64/5000\n",
      "15/15 - 0s - loss: 0.0075 - rmse: 0.0352 - mse: 0.0012 - mae: 0.0029 - val_loss: 0.0059 - val_rmse: 0.0017 - val_mse: 2.8251e-06 - val_mae: 0.0017 - 37ms/epoch - 2ms/step\n",
      "Epoch 65/5000\n",
      "15/15 - 0s - loss: 0.0069 - rmse: 0.0351 - mse: 0.0012 - mae: 0.0024 - val_loss: 0.0053 - val_rmse: 5.3775e-04 - val_mse: 2.8918e-07 - val_mae: 5.3772e-04 - 36ms/epoch - 2ms/step\n",
      "Epoch 66/5000\n",
      "15/15 - 0s - loss: 0.0063 - rmse: 0.0352 - mse: 0.0012 - mae: 0.0021 - val_loss: 0.0048 - val_rmse: 0.0020 - val_mse: 3.9633e-06 - val_mae: 0.0020 - 33ms/epoch - 2ms/step\n",
      "Epoch 67/5000\n",
      "15/15 - 0s - loss: 0.0058 - rmse: 0.0352 - mse: 0.0012 - mae: 0.0021 - val_loss: 0.0043 - val_rmse: 0.0013 - val_mse: 1.6442e-06 - val_mae: 0.0013 - 43ms/epoch - 3ms/step\n",
      "Epoch 68/5000\n",
      "15/15 - 0s - loss: 0.0054 - rmse: 0.0352 - mse: 0.0012 - mae: 0.0036 - val_loss: 0.0039 - val_rmse: 0.0016 - val_mse: 2.7191e-06 - val_mae: 0.0016 - 36ms/epoch - 2ms/step\n",
      "Epoch 69/5000\n",
      "15/15 - 0s - loss: 0.0049 - rmse: 0.0352 - mse: 0.0012 - mae: 0.0020 - val_loss: 0.0035 - val_rmse: 0.0017 - val_mse: 2.8420e-06 - val_mae: 0.0017 - 62ms/epoch - 4ms/step\n",
      "Epoch 70/5000\n",
      "\n",
      "Epoch 70: val_loss improved from 0.00890 to 0.00316, saving model to data/output/fnn_compressed/activity_random_single-labeled_Fold-4.model.weights.hdf5\n",
      "15/15 - 0s - loss: 0.0046 - rmse: 0.0352 - mse: 0.0012 - mae: 0.0035 - val_loss: 0.0032 - val_rmse: 0.0011 - val_mse: 1.1932e-06 - val_mae: 0.0011 - 65ms/epoch - 4ms/step\n",
      "Epoch 71/5000\n",
      "15/15 - 0s - loss: 0.0043 - rmse: 0.0351 - mse: 0.0012 - mae: 0.0023 - val_loss: 0.0028 - val_rmse: 2.8719e-05 - val_mse: 8.2476e-10 - val_mae: 2.8612e-05 - 49ms/epoch - 3ms/step\n",
      "Epoch 72/5000\n",
      "15/15 - 0s - loss: 0.0040 - rmse: 0.0352 - mse: 0.0012 - mae: 0.0025 - val_loss: 0.0026 - val_rmse: 5.7593e-04 - val_mse: 3.3170e-07 - val_mae: 5.7593e-04 - 39ms/epoch - 3ms/step\n",
      "Epoch 73/5000\n",
      "15/15 - 0s - loss: 0.0037 - rmse: 0.0352 - mse: 0.0012 - mae: 0.0024 - val_loss: 0.0023 - val_rmse: 6.7596e-04 - val_mse: 4.5692e-07 - val_mae: 6.7596e-04 - 55ms/epoch - 4ms/step\n",
      "Epoch 74/5000\n",
      "15/15 - 0s - loss: 0.0034 - rmse: 0.0352 - mse: 0.0012 - mae: 0.0018 - val_loss: 0.0021 - val_rmse: 0.0011 - val_mse: 1.2804e-06 - val_mae: 0.0011 - 56ms/epoch - 4ms/step\n",
      "Epoch 75/5000\n",
      "15/15 - 0s - loss: 0.0032 - rmse: 0.0353 - mse: 0.0012 - mae: 0.0056 - val_loss: 0.0019 - val_rmse: 0.0027 - val_mse: 7.3000e-06 - val_mae: 0.0027 - 50ms/epoch - 3ms/step\n",
      "Epoch 76/5000\n",
      "15/15 - 0s - loss: 0.0030 - rmse: 0.0352 - mse: 0.0012 - mae: 0.0024 - val_loss: 0.0017 - val_rmse: 0.0011 - val_mse: 1.2926e-06 - val_mae: 0.0011 - 54ms/epoch - 4ms/step\n",
      "Epoch 77/5000\n",
      "15/15 - 0s - loss: 0.0029 - rmse: 0.0351 - mse: 0.0012 - mae: 0.0029 - val_loss: 0.0015 - val_rmse: 0.0022 - val_mse: 4.8988e-06 - val_mae: 0.0022 - 45ms/epoch - 3ms/step\n",
      "Epoch 78/5000\n",
      "15/15 - 0s - loss: 0.0027 - rmse: 0.0352 - mse: 0.0012 - mae: 0.0022 - val_loss: 0.0014 - val_rmse: 8.2180e-04 - val_mse: 6.7536e-07 - val_mae: 8.2180e-04 - 54ms/epoch - 4ms/step\n",
      "Epoch 79/5000\n",
      "15/15 - 0s - loss: 0.0026 - rmse: 0.0351 - mse: 0.0012 - mae: 0.0030 - val_loss: 0.0012 - val_rmse: 0.0024 - val_mse: 5.7304e-06 - val_mae: 0.0024 - 40ms/epoch - 3ms/step\n",
      "Epoch 80/5000\n",
      "\n",
      "Epoch 80: val_loss improved from 0.00316 to 0.00112, saving model to data/output/fnn_compressed/activity_random_single-labeled_Fold-4.model.weights.hdf5\n",
      "15/15 - 0s - loss: 0.0024 - rmse: 0.0351 - mse: 0.0012 - mae: 0.0033 - val_loss: 0.0011 - val_rmse: 4.2067e-05 - val_mse: 1.7697e-09 - val_mae: 4.2063e-05 - 47ms/epoch - 3ms/step\n",
      "Epoch 81/5000\n",
      "15/15 - 0s - loss: 0.0023 - rmse: 0.0352 - mse: 0.0012 - mae: 0.0022 - val_loss: 0.0010 - val_rmse: 0.0013 - val_mse: 1.6436e-06 - val_mae: 0.0013 - 41ms/epoch - 3ms/step\n",
      "Epoch 82/5000\n",
      "15/15 - 0s - loss: 0.0022 - rmse: 0.0352 - mse: 0.0012 - mae: 0.0018 - val_loss: 9.1320e-04 - val_rmse: 0.0012 - val_mse: 1.3927e-06 - val_mae: 0.0012 - 36ms/epoch - 2ms/step\n",
      "Epoch 83/5000\n",
      "15/15 - 0s - loss: 0.0021 - rmse: 0.0353 - mse: 0.0012 - mae: 0.0045 - val_loss: 8.2210e-04 - val_rmse: 1.1395e-05 - val_mse: 1.2985e-10 - val_mae: 1.1388e-05 - 79ms/epoch - 5ms/step\n",
      "Epoch 84/5000\n",
      "15/15 - 0s - loss: 0.0020 - rmse: 0.0352 - mse: 0.0012 - mae: 0.0025 - val_loss: 7.4621e-04 - val_rmse: 0.0022 - val_mse: 4.9789e-06 - val_mae: 0.0022 - 42ms/epoch - 3ms/step\n",
      "Epoch 85/5000\n",
      "15/15 - 0s - loss: 0.0019 - rmse: 0.0352 - mse: 0.0012 - mae: 0.0025 - val_loss: 6.6915e-04 - val_rmse: 9.1952e-04 - val_mse: 8.4552e-07 - val_mae: 9.1952e-04 - 42ms/epoch - 3ms/step\n",
      "Epoch 86/5000\n",
      "15/15 - 0s - loss: 0.0019 - rmse: 0.0351 - mse: 0.0012 - mae: 0.0030 - val_loss: 6.0794e-04 - val_rmse: 0.0023 - val_mse: 5.3740e-06 - val_mae: 0.0023 - 45ms/epoch - 3ms/step\n",
      "Epoch 87/5000\n",
      "15/15 - 0s - loss: 0.0018 - rmse: 0.0352 - mse: 0.0012 - mae: 0.0022 - val_loss: 5.4550e-04 - val_rmse: 0.0015 - val_mse: 2.2139e-06 - val_mae: 0.0015 - 45ms/epoch - 3ms/step\n",
      "Epoch 88/5000\n",
      "15/15 - 0s - loss: 0.0018 - rmse: 0.0351 - mse: 0.0012 - mae: 0.0027 - val_loss: 4.9381e-04 - val_rmse: 0.0020 - val_mse: 3.9787e-06 - val_mae: 0.0020 - 43ms/epoch - 3ms/step\n",
      "Epoch 89/5000\n",
      "15/15 - 0s - loss: 0.0017 - rmse: 0.0351 - mse: 0.0012 - mae: 0.0034 - val_loss: 4.4199e-04 - val_rmse: 5.9118e-04 - val_mse: 3.4949e-07 - val_mae: 5.9118e-04 - 38ms/epoch - 3ms/step\n",
      "Epoch 90/5000\n",
      "\n",
      "Epoch 90: val_loss improved from 0.00112 to 0.00040, saving model to data/output/fnn_compressed/activity_random_single-labeled_Fold-4.model.weights.hdf5\n",
      "15/15 - 0s - loss: 0.0017 - rmse: 0.0352 - mse: 0.0012 - mae: 0.0023 - val_loss: 4.0468e-04 - val_rmse: 0.0025 - val_mse: 6.4829e-06 - val_mae: 0.0025 - 43ms/epoch - 3ms/step\n",
      "Epoch 91/5000\n",
      "15/15 - 0s - loss: 0.0016 - rmse: 0.0352 - mse: 0.0012 - mae: 0.0030 - val_loss: 3.5936e-04 - val_rmse: 5.8066e-04 - val_mse: 3.3717e-07 - val_mae: 5.8066e-04 - 37ms/epoch - 2ms/step\n",
      "Epoch 92/5000\n",
      "15/15 - 0s - loss: 0.0016 - rmse: 0.0352 - mse: 0.0012 - mae: 0.0049 - val_loss: 3.3168e-04 - val_rmse: 0.0028 - val_mse: 7.9785e-06 - val_mae: 0.0028 - 34ms/epoch - 2ms/step\n",
      "Epoch 93/5000\n",
      "15/15 - 0s - loss: 0.0016 - rmse: 0.0352 - mse: 0.0012 - mae: 0.0027 - val_loss: 2.9188e-04 - val_rmse: 1.4225e-04 - val_mse: 2.0236e-08 - val_mae: 1.4225e-04 - 37ms/epoch - 2ms/step\n",
      "Epoch 94/5000\n",
      "15/15 - 0s - loss: 0.0015 - rmse: 0.0351 - mse: 0.0012 - mae: 0.0035 - val_loss: 2.7182e-04 - val_rmse: 0.0029 - val_mse: 8.6731e-06 - val_mae: 0.0029 - 40ms/epoch - 3ms/step\n",
      "Epoch 95/5000\n",
      "15/15 - 0s - loss: 0.0015 - rmse: 0.0352 - mse: 0.0012 - mae: 0.0024 - val_loss: 2.3849e-04 - val_rmse: 0.0011 - val_mse: 1.2367e-06 - val_mae: 0.0011 - 41ms/epoch - 3ms/step\n",
      "Epoch 96/5000\n",
      "15/15 - 0s - loss: 0.0015 - rmse: 0.0352 - mse: 0.0012 - mae: 0.0020 - val_loss: 2.1819e-04 - val_rmse: 0.0021 - val_mse: 4.2736e-06 - val_mae: 0.0021 - 39ms/epoch - 3ms/step\n",
      "Epoch 97/5000\n",
      "15/15 - 0s - loss: 0.0014 - rmse: 0.0352 - mse: 0.0012 - mae: 0.0028 - val_loss: 1.9585e-04 - val_rmse: 0.0017 - val_mse: 2.9790e-06 - val_mae: 0.0017 - 36ms/epoch - 2ms/step\n",
      "Epoch 98/5000\n",
      "15/15 - 0s - loss: 0.0014 - rmse: 0.0352 - mse: 0.0012 - mae: 0.0020 - val_loss: 1.7418e-04 - val_rmse: 5.3381e-04 - val_mse: 2.8495e-07 - val_mae: 5.3381e-04 - 36ms/epoch - 2ms/step\n",
      "Epoch 99/5000\n",
      "15/15 - 0s - loss: 0.0014 - rmse: 0.0352 - mse: 0.0012 - mae: 0.0039 - val_loss: 1.6106e-04 - val_rmse: 0.0021 - val_mse: 4.2711e-06 - val_mae: 0.0021 - 36ms/epoch - 2ms/step\n",
      "Epoch 100/5000\n",
      "\n",
      "Epoch 100: val_loss improved from 0.00040 to 0.00014, saving model to data/output/fnn_compressed/activity_random_single-labeled_Fold-4.model.weights.hdf5\n",
      "15/15 - 0s - loss: 0.0014 - rmse: 0.0352 - mse: 0.0012 - mae: 0.0023 - val_loss: 1.4251e-04 - val_rmse: 0.0011 - val_mse: 1.1461e-06 - val_mae: 0.0011 - 43ms/epoch - 3ms/step\n",
      "Epoch 101/5000\n",
      "15/15 - 0s - loss: 0.0014 - rmse: 0.0352 - mse: 0.0012 - mae: 0.0043 - val_loss: 1.2883e-04 - val_rmse: 0.0012 - val_mse: 1.3720e-06 - val_mae: 0.0012 - 48ms/epoch - 3ms/step\n",
      "Epoch 102/5000\n",
      "15/15 - 0s - loss: 0.0014 - rmse: 0.0352 - mse: 0.0012 - mae: 0.0021 - val_loss: 1.1791e-04 - val_rmse: 0.0017 - val_mse: 2.9880e-06 - val_mae: 0.0017 - 47ms/epoch - 3ms/step\n",
      "Epoch 103/5000\n",
      "15/15 - 0s - loss: 0.0013 - rmse: 0.0352 - mse: 0.0012 - mae: 0.0023 - val_loss: 1.0489e-04 - val_rmse: 0.0011 - val_mse: 1.2756e-06 - val_mae: 0.0011 - 31ms/epoch - 2ms/step\n",
      "Epoch 104/5000\n",
      "15/15 - 0s - loss: 0.0013 - rmse: 0.0351 - mse: 0.0012 - mae: 0.0026 - val_loss: 9.6805e-05 - val_rmse: 0.0018 - val_mse: 3.3861e-06 - val_mae: 0.0018 - 44ms/epoch - 3ms/step\n",
      "Epoch 105/5000\n",
      "15/15 - 0s - loss: 0.0013 - rmse: 0.0352 - mse: 0.0012 - mae: 0.0038 - val_loss: 8.4230e-05 - val_rmse: 5.8927e-05 - val_mse: 3.4724e-09 - val_mae: 5.8927e-05 - 52ms/epoch - 3ms/step\n",
      "Epoch 106/5000\n",
      "15/15 - 0s - loss: 0.0013 - rmse: 0.0352 - mse: 0.0012 - mae: 0.0023 - val_loss: 7.9993e-05 - val_rmse: 0.0020 - val_mse: 4.0523e-06 - val_mae: 0.0020 - 56ms/epoch - 4ms/step\n",
      "Epoch 107/5000\n",
      "15/15 - 0s - loss: 0.0013 - rmse: 0.0352 - mse: 0.0012 - mae: 0.0032 - val_loss: 6.8924e-05 - val_rmse: 6.7430e-04 - val_mse: 4.5468e-07 - val_mae: 6.7430e-04 - 37ms/epoch - 2ms/step\n",
      "Epoch 108/5000\n",
      "15/15 - 0s - loss: 0.0013 - rmse: 0.0352 - mse: 0.0012 - mae: 0.0034 - val_loss: 6.4214e-05 - val_rmse: 0.0016 - val_mse: 2.4807e-06 - val_mae: 0.0016 - 31ms/epoch - 2ms/step\n",
      "Epoch 109/5000\n",
      "15/15 - 0s - loss: 0.0013 - rmse: 0.0352 - mse: 0.0012 - mae: 0.0021 - val_loss: 5.8118e-05 - val_rmse: 0.0016 - val_mse: 2.4578e-06 - val_mae: 0.0016 - 34ms/epoch - 2ms/step\n",
      "Epoch 110/5000\n",
      "\n",
      "Epoch 110: val_loss improved from 0.00014 to 0.00005, saving model to data/output/fnn_compressed/activity_random_single-labeled_Fold-4.model.weights.hdf5\n",
      "15/15 - 0s - loss: 0.0013 - rmse: 0.0352 - mse: 0.0012 - mae: 0.0038 - val_loss: 5.2582e-05 - val_rmse: 0.0015 - val_mse: 2.3976e-06 - val_mae: 0.0015 - 37ms/epoch - 2ms/step\n",
      "Epoch 111/5000\n",
      "15/15 - 0s - loss: 0.0013 - rmse: 0.0352 - mse: 0.0012 - mae: 0.0020 - val_loss: 4.6043e-05 - val_rmse: 8.9230e-04 - val_mse: 7.9620e-07 - val_mae: 8.9230e-04 - 33ms/epoch - 2ms/step\n",
      "Epoch 112/5000\n",
      "15/15 - 0s - loss: 0.0013 - rmse: 0.0352 - mse: 0.0012 - mae: 0.0029 - val_loss: 4.0852e-05 - val_rmse: 2.3656e-04 - val_mse: 5.5959e-08 - val_mae: 2.3656e-04 - 31ms/epoch - 2ms/step\n",
      "Epoch 113/5000\n",
      "15/15 - 0s - loss: 0.0013 - rmse: 0.0352 - mse: 0.0012 - mae: 0.0021 - val_loss: 4.2258e-05 - val_rmse: 0.0023 - val_mse: 5.4755e-06 - val_mae: 0.0023 - 33ms/epoch - 2ms/step\n",
      "Epoch 114/5000\n",
      "15/15 - 0s - loss: 0.0013 - rmse: 0.0351 - mse: 0.0012 - mae: 0.0035 - val_loss: 3.4393e-05 - val_rmse: 0.0011 - val_mse: 1.2295e-06 - val_mae: 0.0011 - 40ms/epoch - 3ms/step\n",
      "Epoch 115/5000\n",
      "15/15 - 0s - loss: 0.0013 - rmse: 0.0351 - mse: 0.0012 - mae: 0.0024 - val_loss: 2.9903e-05 - val_rmse: 4.3698e-05 - val_mse: 1.9095e-09 - val_mae: 4.3698e-05 - 60ms/epoch - 4ms/step\n",
      "Epoch 116/5000\n",
      "15/15 - 0s - loss: 0.0013 - rmse: 0.0352 - mse: 0.0012 - mae: 0.0023 - val_loss: 2.9665e-05 - val_rmse: 0.0016 - val_mse: 2.7048e-06 - val_mae: 0.0016 - 53ms/epoch - 4ms/step\n",
      "Epoch 117/5000\n",
      "15/15 - 0s - loss: 0.0013 - rmse: 0.0351 - mse: 0.0012 - mae: 0.0027 - val_loss: 2.4682e-05 - val_rmse: 6.1198e-04 - val_mse: 3.7452e-07 - val_mae: 6.1198e-04 - 57ms/epoch - 4ms/step\n",
      "Epoch 118/5000\n",
      "15/15 - 0s - loss: 0.0013 - rmse: 0.0351 - mse: 0.0012 - mae: 0.0025 - val_loss: 2.2003e-05 - val_rmse: 2.9352e-04 - val_mse: 8.6156e-08 - val_mae: 2.9352e-04 - 35ms/epoch - 2ms/step\n",
      "Epoch 119/5000\n",
      "15/15 - 0s - loss: 0.0013 - rmse: 0.0352 - mse: 0.0012 - mae: 0.0018 - val_loss: 2.0937e-05 - val_rmse: 0.0011 - val_mse: 1.1768e-06 - val_mae: 0.0011 - 36ms/epoch - 2ms/step\n",
      "Epoch 120/5000\n",
      "\n",
      "Epoch 120: val_loss improved from 0.00005 to 0.00002, saving model to data/output/fnn_compressed/activity_random_single-labeled_Fold-4.model.weights.hdf5\n",
      "15/15 - 0s - loss: 0.0013 - rmse: 0.0352 - mse: 0.0012 - mae: 0.0033 - val_loss: 2.1784e-05 - val_rmse: 0.0020 - val_mse: 3.9672e-06 - val_mae: 0.0020 - 36ms/epoch - 2ms/step\n",
      "Epoch 121/5000\n",
      "15/15 - 0s - loss: 0.0013 - rmse: 0.0352 - mse: 0.0012 - mae: 0.0021 - val_loss: 1.6971e-05 - val_rmse: 9.5256e-04 - val_mse: 9.0737e-07 - val_mae: 9.5256e-04 - 33ms/epoch - 2ms/step\n",
      "Epoch 122/5000\n",
      "15/15 - 0s - loss: 0.0012 - rmse: 0.0351 - mse: 0.0012 - mae: 0.0030 - val_loss: 1.9879e-05 - val_rmse: 0.0023 - val_mse: 5.3959e-06 - val_mae: 0.0023 - 33ms/epoch - 2ms/step\n",
      "Epoch 123/5000\n",
      "15/15 - 0s - loss: 0.0012 - rmse: 0.0352 - mse: 0.0012 - mae: 0.0026 - val_loss: 1.5141e-05 - val_rmse: 0.0014 - val_mse: 2.0830e-06 - val_mae: 0.0014 - 34ms/epoch - 2ms/step\n",
      "Epoch 124/5000\n",
      "15/15 - 0s - loss: 0.0012 - rmse: 0.0352 - mse: 0.0012 - mae: 0.0027 - val_loss: 1.3731e-05 - val_rmse: 0.0014 - val_mse: 1.9576e-06 - val_mae: 0.0014 - 34ms/epoch - 2ms/step\n",
      "Epoch 125/5000\n",
      "15/15 - 0s - loss: 0.0012 - rmse: 0.0352 - mse: 0.0012 - mae: 0.0023 - val_loss: 1.2461e-05 - val_rmse: 0.0014 - val_mse: 1.8457e-06 - val_mae: 0.0014 - 35ms/epoch - 2ms/step\n",
      "Epoch 126/5000\n",
      "15/15 - 0s - loss: 0.0012 - rmse: 0.0352 - mse: 0.0012 - mae: 0.0025 - val_loss: 1.1542e-05 - val_rmse: 0.0014 - val_mse: 1.9709e-06 - val_mae: 0.0014 - 51ms/epoch - 3ms/step\n",
      "Epoch 127/5000\n",
      "15/15 - 0s - loss: 0.0012 - rmse: 0.0352 - mse: 0.0012 - mae: 0.0025 - val_loss: 9.7637e-06 - val_rmse: 0.0011 - val_mse: 1.1339e-06 - val_mae: 0.0011 - 43ms/epoch - 3ms/step\n",
      "Epoch 128/5000\n",
      "15/15 - 0s - loss: 0.0012 - rmse: 0.0351 - mse: 0.0012 - mae: 0.0027 - val_loss: 7.8421e-06 - val_rmse: 2.4749e-04 - val_mse: 6.1253e-08 - val_mae: 2.4749e-04 - 40ms/epoch - 3ms/step\n",
      "Epoch 129/5000\n",
      "15/15 - 0s - loss: 0.0012 - rmse: 0.0352 - mse: 0.0012 - mae: 0.0024 - val_loss: 1.1257e-05 - val_rmse: 0.0021 - val_mse: 4.2412e-06 - val_mae: 0.0021 - 68ms/epoch - 5ms/step\n",
      "Epoch 130/5000\n",
      "\n",
      "Epoch 130: val_loss improved from 0.00002 to 0.00001, saving model to data/output/fnn_compressed/activity_random_single-labeled_Fold-4.model.weights.hdf5\n",
      "15/15 - 0s - loss: 0.0012 - rmse: 0.0352 - mse: 0.0012 - mae: 0.0021 - val_loss: 7.8597e-06 - val_rmse: 0.0012 - val_mse: 1.5343e-06 - val_mae: 0.0012 - 48ms/epoch - 3ms/step\n",
      "Epoch 131/5000\n",
      "15/15 - 0s - loss: 0.0012 - rmse: 0.0352 - mse: 0.0012 - mae: 0.0036 - val_loss: 8.5137e-06 - val_rmse: 0.0017 - val_mse: 2.8105e-06 - val_mae: 0.0017 - 42ms/epoch - 3ms/step\n",
      "Epoch 132/5000\n",
      "15/15 - 0s - loss: 0.0012 - rmse: 0.0352 - mse: 0.0012 - mae: 0.0020 - val_loss: 7.9257e-06 - val_rmse: 0.0017 - val_mse: 2.7836e-06 - val_mae: 0.0017 - 67ms/epoch - 4ms/step\n",
      "Epoch 133/5000\n",
      "15/15 - 0s - loss: 0.0012 - rmse: 0.0351 - mse: 0.0012 - mae: 0.0030 - val_loss: 8.0203e-06 - val_rmse: 0.0018 - val_mse: 3.3841e-06 - val_mae: 0.0018 - 41ms/epoch - 3ms/step\n",
      "Epoch 134/5000\n",
      "15/15 - 0s - loss: 0.0012 - rmse: 0.0352 - mse: 0.0012 - mae: 0.0025 - val_loss: 5.5725e-06 - val_rmse: 0.0012 - val_mse: 1.3924e-06 - val_mae: 0.0012 - 46ms/epoch - 3ms/step\n",
      "Epoch 135/5000\n",
      "15/15 - 0s - loss: 0.0012 - rmse: 0.0352 - mse: 0.0012 - mae: 0.0019 - val_loss: 7.6624e-06 - val_rmse: 0.0020 - val_mse: 3.8935e-06 - val_mae: 0.0020 - 43ms/epoch - 3ms/step\n",
      "Epoch 136/5000\n",
      "15/15 - 0s - loss: 0.0012 - rmse: 0.0352 - mse: 0.0012 - mae: 0.0037 - val_loss: 3.7917e-06 - val_rmse: 6.2739e-04 - val_mse: 3.9362e-07 - val_mae: 6.2739e-04 - 42ms/epoch - 3ms/step\n",
      "Epoch 137/5000\n",
      "15/15 - 0s - loss: 0.0012 - rmse: 0.0352 - mse: 0.0012 - mae: 0.0020 - val_loss: 4.7380e-06 - val_rmse: 0.0013 - val_mse: 1.6742e-06 - val_mae: 0.0013 - 76ms/epoch - 5ms/step\n",
      "Epoch 138/5000\n",
      "15/15 - 0s - loss: 0.0012 - rmse: 0.0352 - mse: 0.0012 - mae: 0.0018 - val_loss: 5.2549e-06 - val_rmse: 0.0016 - val_mse: 2.4924e-06 - val_mae: 0.0016 - 60ms/epoch - 4ms/step\n",
      "Epoch 139/5000\n",
      "15/15 - 0s - loss: 0.0012 - rmse: 0.0352 - mse: 0.0012 - mae: 0.0042 - val_loss: 2.5107e-06 - val_rmse: 1.4060e-04 - val_mse: 1.9768e-08 - val_mae: 1.4060e-04 - 39ms/epoch - 3ms/step\n",
      "Epoch 140/5000\n",
      "\n",
      "Epoch 140: val_loss improved from 0.00001 to 0.00001, saving model to data/output/fnn_compressed/activity_random_single-labeled_Fold-4.model.weights.hdf5\n",
      "15/15 - 0s - loss: 0.0012 - rmse: 0.0352 - mse: 0.0012 - mae: 0.0023 - val_loss: 6.3200e-06 - val_rmse: 0.0020 - val_mse: 4.0741e-06 - val_mae: 0.0020 - 45ms/epoch - 3ms/step\n",
      "Epoch 141/5000\n",
      "Restoring model weights from the end of the best epoch: 121.\n",
      "15/15 - 0s - loss: 0.0012 - rmse: 0.0351 - mse: 0.0012 - mae: 0.0029 - val_loss: 4.7345e-06 - val_rmse: 0.0016 - val_mse: 2.7095e-06 - val_mae: 0.0016 - 34ms/epoch - 2ms/step\n",
      "Epoch 141: early stopping\n",
      "7/7 [==============================] - 0s 1ms/step\n",
      "INFO:tensorflow:Assets written to: data/output/fnn_compressed/activity-4_saved_model/assets\n"
     ]
    },
    {
     "name": "stderr",
     "output_type": "stream",
     "text": [
      "INFO:tensorflow:Assets written to: data/output/fnn_compressed/activity-4_saved_model/assets\n"
     ]
    },
    {
     "data": {
      "text/plain": [
       "VBox(children=(Label(value='0.004 MB of 0.004 MB uploaded\\r'), FloatProgress(value=1.0, max=1.0)))"
      ],
      "application/vnd.jupyter.widget-view+json": {
       "version_major": 2,
       "version_minor": 0,
       "model_id": "92c363ef723e4912b0bc75996110c689"
      }
     },
     "metadata": {},
     "output_type": "display_data"
    },
    {
     "data": {
      "text/plain": [
       "<IPython.core.display.HTML object>"
      ],
      "text/html": [
       "<style>\n",
       "    table.wandb td:nth-child(1) { padding: 0 10px; text-align: left ; width: auto;} td:nth-child(2) {text-align: left ; width: 100%}\n",
       "    .wandb-row { display: flex; flex-direction: row; flex-wrap: wrap; justify-content: flex-start; width: 100% }\n",
       "    .wandb-col { display: flex; flex-direction: column; flex-basis: 100%; flex: 1; padding: 10px; }\n",
       "    </style>\n",
       "<div class=\"wandb-row\"><div class=\"wandb-col\"><h3>Run history:</h3><br/><table class=\"wandb\"><tr><td>epoch</td><td>▁▁▁▂▂▂▂▂▂▃▃▃▃▃▃▄▄▄▄▄▅▅▅▅▅▅▆▆▆▆▆▆▇▇▇▇▇███</td></tr><tr><td>loss</td><td>█▇▅▃▃▂▂▂▁▁▁▁▁▁▁▁▁▁▁▁▁▁▁▁▁▁▁▁▁▁▁▁▁▁▁▁▁▁▁▁</td></tr><tr><td>mae</td><td>█▃▂▁▁▁▁▁▁▁▁▁▁▁▁▁▁▁▁▁▁▁▁▁▁▁▁▁▁▁▁▁▁▁▁▁▁▁▁▁</td></tr><tr><td>mse</td><td>█▁▁▁▁▁▁▁▁▁▁▁▁▁▁▁▁▁▁▁▁▁▁▁▁▁▁▁▁▁▁▁▁▁▁▁▁▁▁▁</td></tr><tr><td>rmse</td><td>█▂▁▁▁▁▁▁▁▁▁▁▁▁▁▁▁▁▁▁▁▁▁▁▁▁▁▁▁▁▁▁▁▁▁▁▁▁▁▁</td></tr><tr><td>val_loss</td><td>█▇▅▃▃▂▂▂▁▁▁▁▁▁▁▁▁▁▁▁▁▁▁▁▁▁▁▁▁▁▁▁▁▁▁▁▁▁▁▁</td></tr><tr><td>val_mae</td><td>█▄▂▂▁▁▁▁▁▁▁▁▁▁▁▁▁▁▁▁▁▁▁▁▁▁▁▁▁▁▁▁▁▁▁▁▁▁▁▁</td></tr><tr><td>val_mse</td><td>█▂▁▁▁▁▁▁▁▁▁▁▁▁▁▁▁▁▁▁▁▁▁▁▁▁▁▁▁▁▁▁▁▁▁▁▁▁▁▁</td></tr><tr><td>val_rmse</td><td>█▄▂▁▁▁▁▁▁▁▁▁▁▁▁▁▁▁▁▁▁▁▁▁▁▁▁▁▁▁▁▁▁▁▁▁▁▁▁▁</td></tr></table><br/></div><div class=\"wandb-col\"><h3>Run summary:</h3><br/><table class=\"wandb\"><tr><td>best_epoch</td><td>138</td></tr><tr><td>best_val_loss</td><td>0.0</td></tr><tr><td>epoch</td><td>140</td></tr><tr><td>loss</td><td>0.00124</td></tr><tr><td>mae</td><td>0.00286</td></tr><tr><td>mse</td><td>0.00124</td></tr><tr><td>rmse</td><td>0.03515</td></tr><tr><td>val_loss</td><td>0.0</td></tr><tr><td>val_mae</td><td>0.00165</td></tr><tr><td>val_mse</td><td>0.0</td></tr><tr><td>val_rmse</td><td>0.00165</td></tr></table><br/></div></div>"
      ]
     },
     "metadata": {},
     "output_type": "display_data"
    },
    {
     "data": {
      "text/plain": [
       "<IPython.core.display.HTML object>"
      ],
      "text/html": [
       " View run <strong style=\"color:#cdcd00\">activity-4</strong> at: <a href='https://wandb.ai/dfpl_regression/FNN_0.5_random/runs/bezufhoh' target=\"_blank\">https://wandb.ai/dfpl_regression/FNN_0.5_random/runs/bezufhoh</a><br/> View project at: <a href='https://wandb.ai/dfpl_regression/FNN_0.5_random' target=\"_blank\">https://wandb.ai/dfpl_regression/FNN_0.5_random</a><br/>Synced 6 W&B file(s), 0 media file(s), 0 artifact file(s) and 0 other file(s)"
      ]
     },
     "metadata": {},
     "output_type": "display_data"
    },
    {
     "data": {
      "text/plain": [
       "<IPython.core.display.HTML object>"
      ],
      "text/html": [
       "Find logs at: <code>./wandb/run-20240808_154327-bezufhoh/logs</code>"
      ]
     },
     "metadata": {},
     "output_type": "display_data"
    },
    {
     "data": {
      "text/plain": [
       "<IPython.core.display.HTML object>"
      ],
      "text/html": [
       "The new W&B backend becomes opt-out in version 0.18.0; try it out with `wandb.require(\"core\")`! See https://wandb.me/wandb-core for more information."
      ]
     },
     "metadata": {},
     "output_type": "display_data"
    },
    {
     "data": {
      "text/plain": [
       "VBox(children=(Label(value='Waiting for wandb.init()...\\r'), FloatProgress(value=0.01111352412133581, max=1.0)…"
      ],
      "application/vnd.jupyter.widget-view+json": {
       "version_major": 2,
       "version_minor": 0,
       "model_id": "182fe59ecc4143bdba983b6c9ecf08f6"
      }
     },
     "metadata": {},
     "output_type": "display_data"
    },
    {
     "data": {
      "text/plain": [
       "<IPython.core.display.HTML object>"
      ],
      "text/html": [
       "Tracking run with wandb version 0.17.6"
      ]
     },
     "metadata": {},
     "output_type": "display_data"
    },
    {
     "data": {
      "text/plain": [
       "<IPython.core.display.HTML object>"
      ],
      "text/html": [
       "Run data is saved locally in <code>/home/hertelj/git-hertelj/deepFPlearn/example/wandb/run-20240808_154343-9y85fgth</code>"
      ]
     },
     "metadata": {},
     "output_type": "display_data"
    },
    {
     "data": {
      "text/plain": [
       "<IPython.core.display.HTML object>"
      ],
      "text/html": [
       "Syncing run <strong><a href='https://wandb.ai/dfpl_regression/FNN_0.5_random/runs/9y85fgth' target=\"_blank\">activity-5</a></strong> to <a href='https://wandb.ai/dfpl_regression/FNN_0.5_random' target=\"_blank\">Weights & Biases</a> (<a href='https://wandb.me/run' target=\"_blank\">docs</a>)<br/>"
      ]
     },
     "metadata": {},
     "output_type": "display_data"
    },
    {
     "data": {
      "text/plain": [
       "<IPython.core.display.HTML object>"
      ],
      "text/html": [
       " View project at <a href='https://wandb.ai/dfpl_regression/FNN_0.5_random' target=\"_blank\">https://wandb.ai/dfpl_regression/FNN_0.5_random</a>"
      ]
     },
     "metadata": {},
     "output_type": "display_data"
    },
    {
     "data": {
      "text/plain": [
       "<IPython.core.display.HTML object>"
      ],
      "text/html": [
       " View run at <a href='https://wandb.ai/dfpl_regression/FNN_0.5_random/runs/9y85fgth' target=\"_blank\">https://wandb.ai/dfpl_regression/FNN_0.5_random/runs/9y85fgth</a>"
      ]
     },
     "metadata": {},
     "output_type": "display_data"
    },
    {
     "name": "stdout",
     "output_type": "stream",
     "text": [
      "WARNING:tensorflow:`period` argument is deprecated. Please use `save_freq` to specify the frequency in number of batches seen.\n"
     ]
    },
    {
     "name": "stderr",
     "output_type": "stream",
     "text": [
      "/home/hertelj/build/local/miniforge3/envs/dfpl/lib/python3.10/site-packages/keras/optimizers/optimizer_v2/gradient_descent.py:108: UserWarning: The `lr` argument is deprecated, use `learning_rate` instead.\n",
      "  super(SGD, self).__init__(name, **kwargs)\n",
      "WARNING:tensorflow:`period` argument is deprecated. Please use `save_freq` to specify the frequency in number of batches seen.\n"
     ]
    },
    {
     "name": "stdout",
     "output_type": "stream",
     "text": [
      "Epoch 1/5000\n",
      "15/15 - 0s - loss: 4.8909 - rmse: 0.8787 - mse: 0.7721 - mae: 0.6715 - val_loss: 4.1345 - val_rmse: 0.3652 - val_mse: 0.1334 - val_mae: 0.3000 - 242ms/epoch - 16ms/step\n",
      "Epoch 2/5000\n",
      "15/15 - 0s - loss: 3.9343 - rmse: 0.2752 - mse: 0.0757 - mae: 0.2211 - val_loss: 3.6893 - val_rmse: 0.1342 - val_mse: 0.0180 - val_mae: 0.1095 - 33ms/epoch - 2ms/step\n",
      "Epoch 3/5000\n",
      "15/15 - 0s - loss: 3.5305 - rmse: 0.1295 - mse: 0.0168 - mae: 0.1005 - val_loss: 3.3263 - val_rmse: 0.0546 - val_mse: 0.0030 - val_mae: 0.0435 - 36ms/epoch - 2ms/step\n",
      "Epoch 4/5000\n",
      "15/15 - 0s - loss: 3.1794 - rmse: 0.0665 - mse: 0.0044 - mae: 0.0463 - val_loss: 2.9996 - val_rmse: 0.0287 - val_mse: 8.2277e-04 - val_mae: 0.0231 - 39ms/epoch - 3ms/step\n",
      "Epoch 5/5000\n",
      "15/15 - 0s - loss: 2.8665 - rmse: 0.0508 - mse: 0.0026 - mae: 0.0306 - val_loss: 2.7045 - val_rmse: 0.0163 - val_mse: 2.6480e-04 - val_mae: 0.0130 - 46ms/epoch - 3ms/step\n",
      "Epoch 6/5000\n",
      "15/15 - 0s - loss: 2.5839 - rmse: 0.0399 - mse: 0.0016 - mae: 0.0186 - val_loss: 2.4384 - val_rmse: 0.0143 - val_mse: 2.0471e-04 - val_mae: 0.0113 - 31ms/epoch - 2ms/step\n",
      "Epoch 7/5000\n",
      "15/15 - 0s - loss: 2.3296 - rmse: 0.0365 - mse: 0.0013 - mae: 0.0124 - val_loss: 2.1984 - val_rmse: 0.0099 - val_mse: 9.8448e-05 - val_mae: 0.0079 - 33ms/epoch - 2ms/step\n",
      "Epoch 8/5000\n",
      "15/15 - 0s - loss: 2.1006 - rmse: 0.0368 - mse: 0.0014 - mae: 0.0109 - val_loss: 1.9821 - val_rmse: 0.0082 - val_mse: 6.7115e-05 - val_mae: 0.0066 - 55ms/epoch - 4ms/step\n",
      "Epoch 9/5000\n",
      "15/15 - 0s - loss: 1.8940 - rmse: 0.0361 - mse: 0.0013 - mae: 0.0095 - val_loss: 1.7871 - val_rmse: 0.0061 - val_mse: 3.6998e-05 - val_mae: 0.0049 - 62ms/epoch - 4ms/step\n",
      "Epoch 10/5000\n",
      "\n",
      "Epoch 10: val_loss improved from inf to 1.61130, saving model to data/output/fnn_compressed/activity_random_single-labeled_Fold-5.model.weights.hdf5\n",
      "15/15 - 0s - loss: 1.7077 - rmse: 0.0356 - mse: 0.0013 - mae: 0.0074 - val_loss: 1.6113 - val_rmse: 0.0093 - val_mse: 8.6917e-05 - val_mae: 0.0083 - 49ms/epoch - 3ms/step\n",
      "Epoch 11/5000\n",
      "15/15 - 0s - loss: 1.5398 - rmse: 0.0355 - mse: 0.0013 - mae: 0.0068 - val_loss: 1.4527 - val_rmse: 0.0047 - val_mse: 2.1957e-05 - val_mae: 0.0036 - 40ms/epoch - 3ms/step\n",
      "Epoch 12/5000\n",
      "15/15 - 0s - loss: 1.3885 - rmse: 0.0353 - mse: 0.0012 - mae: 0.0058 - val_loss: 1.3098 - val_rmse: 0.0061 - val_mse: 3.6859e-05 - val_mae: 0.0052 - 41ms/epoch - 3ms/step\n",
      "Epoch 13/5000\n",
      "15/15 - 0s - loss: 1.2520 - rmse: 0.0352 - mse: 0.0012 - mae: 0.0059 - val_loss: 1.1809 - val_rmse: 0.0046 - val_mse: 2.1535e-05 - val_mae: 0.0038 - 47ms/epoch - 3ms/step\n",
      "Epoch 14/5000\n",
      "15/15 - 0s - loss: 1.1290 - rmse: 0.0357 - mse: 0.0013 - mae: 0.0095 - val_loss: 1.0648 - val_rmse: 0.0090 - val_mse: 8.1112e-05 - val_mae: 0.0075 - 53ms/epoch - 4ms/step\n",
      "Epoch 15/5000\n",
      "15/15 - 0s - loss: 1.0180 - rmse: 0.0357 - mse: 0.0013 - mae: 0.0080 - val_loss: 0.9600 - val_rmse: 0.0054 - val_mse: 2.8816e-05 - val_mae: 0.0041 - 44ms/epoch - 3ms/step\n",
      "Epoch 16/5000\n",
      "15/15 - 0s - loss: 0.9179 - rmse: 0.0348 - mse: 0.0012 - mae: 0.0063 - val_loss: 0.8656 - val_rmse: 0.0092 - val_mse: 8.5053e-05 - val_mae: 0.0082 - 43ms/epoch - 3ms/step\n",
      "Epoch 17/5000\n",
      "15/15 - 0s - loss: 0.8278 - rmse: 0.0350 - mse: 0.0012 - mae: 0.0065 - val_loss: 0.7804 - val_rmse: 0.0045 - val_mse: 2.0221e-05 - val_mae: 0.0036 - 41ms/epoch - 3ms/step\n",
      "Epoch 18/5000\n",
      "15/15 - 0s - loss: 0.7464 - rmse: 0.0350 - mse: 0.0012 - mae: 0.0055 - val_loss: 0.7036 - val_rmse: 0.0052 - val_mse: 2.6862e-05 - val_mae: 0.0043 - 45ms/epoch - 3ms/step\n",
      "Epoch 19/5000\n",
      "15/15 - 0s - loss: 0.6731 - rmse: 0.0349 - mse: 0.0012 - mae: 0.0047 - val_loss: 0.6344 - val_rmse: 0.0033 - val_mse: 1.0591e-05 - val_mae: 0.0025 - 61ms/epoch - 4ms/step\n",
      "Epoch 20/5000\n",
      "\n",
      "Epoch 20: val_loss improved from 1.61130 to 0.57200, saving model to data/output/fnn_compressed/activity_random_single-labeled_Fold-5.model.weights.hdf5\n",
      "15/15 - 0s - loss: 0.6070 - rmse: 0.0349 - mse: 0.0012 - mae: 0.0040 - val_loss: 0.5720 - val_rmse: 0.0044 - val_mse: 1.9015e-05 - val_mae: 0.0037 - 49ms/epoch - 3ms/step\n",
      "Epoch 21/5000\n",
      "15/15 - 0s - loss: 0.5474 - rmse: 0.0350 - mse: 0.0012 - mae: 0.0042 - val_loss: 0.5157 - val_rmse: 0.0028 - val_mse: 8.0679e-06 - val_mae: 0.0022 - 34ms/epoch - 2ms/step\n",
      "Epoch 22/5000\n",
      "15/15 - 0s - loss: 0.4937 - rmse: 0.0350 - mse: 0.0012 - mae: 0.0050 - val_loss: 0.4650 - val_rmse: 0.0035 - val_mse: 1.2354e-05 - val_mae: 0.0030 - 33ms/epoch - 2ms/step\n",
      "Epoch 23/5000\n",
      "15/15 - 0s - loss: 0.4453 - rmse: 0.0352 - mse: 0.0012 - mae: 0.0043 - val_loss: 0.4192 - val_rmse: 0.0024 - val_mse: 5.8414e-06 - val_mae: 0.0019 - 32ms/epoch - 2ms/step\n",
      "Epoch 24/5000\n",
      "15/15 - 0s - loss: 0.4016 - rmse: 0.0350 - mse: 0.0012 - mae: 0.0036 - val_loss: 0.3780 - val_rmse: 0.0044 - val_mse: 1.9273e-05 - val_mae: 0.0040 - 52ms/epoch - 3ms/step\n",
      "Epoch 25/5000\n",
      "15/15 - 0s - loss: 0.3622 - rmse: 0.0350 - mse: 0.0012 - mae: 0.0037 - val_loss: 0.3408 - val_rmse: 0.0025 - val_mse: 6.3192e-06 - val_mae: 0.0021 - 41ms/epoch - 3ms/step\n",
      "Epoch 26/5000\n",
      "15/15 - 0s - loss: 0.3267 - rmse: 0.0350 - mse: 0.0012 - mae: 0.0033 - val_loss: 0.3073 - val_rmse: 0.0024 - val_mse: 5.7738e-06 - val_mae: 0.0021 - 32ms/epoch - 2ms/step\n",
      "Epoch 27/5000\n",
      "15/15 - 0s - loss: 0.2947 - rmse: 0.0350 - mse: 0.0012 - mae: 0.0030 - val_loss: 0.2771 - val_rmse: 0.0028 - val_mse: 8.0367e-06 - val_mae: 0.0025 - 31ms/epoch - 2ms/step\n",
      "Epoch 28/5000\n",
      "15/15 - 0s - loss: 0.2658 - rmse: 0.0350 - mse: 0.0012 - mae: 0.0034 - val_loss: 0.2498 - val_rmse: 0.0012 - val_mse: 1.4641e-06 - val_mae: 9.4260e-04 - 44ms/epoch - 3ms/step\n",
      "Epoch 29/5000\n",
      "15/15 - 0s - loss: 0.2398 - rmse: 0.0350 - mse: 0.0012 - mae: 0.0030 - val_loss: 0.2252 - val_rmse: 0.0011 - val_mse: 1.1690e-06 - val_mae: 8.4391e-04 - 43ms/epoch - 3ms/step\n",
      "Epoch 30/5000\n",
      "\n",
      "Epoch 30: val_loss improved from 0.57200 to 0.20308, saving model to data/output/fnn_compressed/activity_random_single-labeled_Fold-5.model.weights.hdf5\n",
      "15/15 - 0s - loss: 0.2163 - rmse: 0.0351 - mse: 0.0012 - mae: 0.0026 - val_loss: 0.2031 - val_rmse: 0.0038 - val_mse: 1.4570e-05 - val_mae: 0.0037 - 39ms/epoch - 3ms/step\n",
      "Epoch 31/5000\n",
      "15/15 - 0s - loss: 0.1952 - rmse: 0.0352 - mse: 0.0012 - mae: 0.0034 - val_loss: 0.1831 - val_rmse: 0.0013 - val_mse: 1.6758e-06 - val_mae: 0.0011 - 33ms/epoch - 2ms/step\n",
      "Epoch 32/5000\n",
      "15/15 - 0s - loss: 0.1761 - rmse: 0.0351 - mse: 0.0012 - mae: 0.0040 - val_loss: 0.1651 - val_rmse: 0.0011 - val_mse: 1.2729e-06 - val_mae: 9.7456e-04 - 33ms/epoch - 2ms/step\n",
      "Epoch 33/5000\n",
      "15/15 - 0s - loss: 0.1589 - rmse: 0.0351 - mse: 0.0012 - mae: 0.0022 - val_loss: 0.1488 - val_rmse: 6.2085e-04 - val_mse: 3.8545e-07 - val_mae: 4.7601e-04 - 30ms/epoch - 2ms/step\n",
      "Epoch 34/5000\n",
      "15/15 - 0s - loss: 0.1434 - rmse: 0.0351 - mse: 0.0012 - mae: 0.0020 - val_loss: 0.1342 - val_rmse: 0.0029 - val_mse: 8.4351e-06 - val_mae: 0.0029 - 31ms/epoch - 2ms/step\n",
      "Epoch 35/5000\n",
      "15/15 - 0s - loss: 0.1294 - rmse: 0.0351 - mse: 0.0012 - mae: 0.0033 - val_loss: 0.1210 - val_rmse: 0.0013 - val_mse: 1.6967e-06 - val_mae: 0.0012 - 30ms/epoch - 2ms/step\n",
      "Epoch 36/5000\n",
      "15/15 - 0s - loss: 0.1168 - rmse: 0.0351 - mse: 0.0012 - mae: 0.0022 - val_loss: 0.1091 - val_rmse: 0.0019 - val_mse: 3.5648e-06 - val_mae: 0.0018 - 32ms/epoch - 2ms/step\n",
      "Epoch 37/5000\n",
      "15/15 - 0s - loss: 0.1054 - rmse: 0.0352 - mse: 0.0012 - mae: 0.0044 - val_loss: 0.0984 - val_rmse: 0.0018 - val_mse: 3.1063e-06 - val_mae: 0.0017 - 41ms/epoch - 3ms/step\n",
      "Epoch 38/5000\n",
      "15/15 - 0s - loss: 0.0952 - rmse: 0.0352 - mse: 0.0012 - mae: 0.0031 - val_loss: 0.0887 - val_rmse: 0.0042 - val_mse: 1.7962e-05 - val_mae: 0.0042 - 38ms/epoch - 3ms/step\n",
      "Epoch 39/5000\n",
      "15/15 - 0s - loss: 0.0859 - rmse: 0.0353 - mse: 0.0012 - mae: 0.0053 - val_loss: 0.0800 - val_rmse: 0.0032 - val_mse: 1.0294e-05 - val_mae: 0.0032 - 50ms/epoch - 3ms/step\n",
      "Epoch 40/5000\n",
      "\n",
      "Epoch 40: val_loss improved from 0.20308 to 0.07212, saving model to data/output/fnn_compressed/activity_random_single-labeled_Fold-5.model.weights.hdf5\n",
      "15/15 - 0s - loss: 0.0776 - rmse: 0.0351 - mse: 0.0012 - mae: 0.0034 - val_loss: 0.0721 - val_rmse: 0.0047 - val_mse: 2.2417e-05 - val_mae: 0.0047 - 50ms/epoch - 3ms/step\n",
      "Epoch 41/5000\n",
      "15/15 - 0s - loss: 0.0701 - rmse: 0.0353 - mse: 0.0012 - mae: 0.0038 - val_loss: 0.0650 - val_rmse: 2.8722e-04 - val_mse: 8.2495e-08 - val_mae: 2.4314e-04 - 40ms/epoch - 3ms/step\n",
      "Epoch 42/5000\n",
      "15/15 - 0s - loss: 0.0633 - rmse: 0.0355 - mse: 0.0013 - mae: 0.0066 - val_loss: 0.0586 - val_rmse: 0.0010 - val_mse: 1.0797e-06 - val_mae: 0.0010 - 54ms/epoch - 4ms/step\n",
      "Epoch 43/5000\n",
      "15/15 - 0s - loss: 0.0572 - rmse: 0.0354 - mse: 0.0013 - mae: 0.0038 - val_loss: 0.0529 - val_rmse: 0.0034 - val_mse: 1.1572e-05 - val_mae: 0.0034 - 46ms/epoch - 3ms/step\n",
      "Epoch 44/5000\n",
      "15/15 - 0s - loss: 0.0517 - rmse: 0.0352 - mse: 0.0012 - mae: 0.0027 - val_loss: 0.0476 - val_rmse: 0.0018 - val_mse: 3.2957e-06 - val_mae: 0.0018 - 46ms/epoch - 3ms/step\n",
      "Epoch 45/5000\n",
      "15/15 - 0s - loss: 0.0467 - rmse: 0.0351 - mse: 0.0012 - mae: 0.0029 - val_loss: 0.0430 - val_rmse: 0.0019 - val_mse: 3.5059e-06 - val_mae: 0.0019 - 54ms/epoch - 4ms/step\n",
      "Epoch 46/5000\n",
      "15/15 - 0s - loss: 0.0423 - rmse: 0.0351 - mse: 0.0012 - mae: 0.0028 - val_loss: 0.0387 - val_rmse: 4.8945e-04 - val_mse: 2.3957e-07 - val_mae: 4.8019e-04 - 44ms/epoch - 3ms/step\n",
      "Epoch 47/5000\n",
      "15/15 - 0s - loss: 0.0382 - rmse: 0.0352 - mse: 0.0012 - mae: 0.0028 - val_loss: 0.0349 - val_rmse: 0.0033 - val_mse: 1.0731e-05 - val_mae: 0.0033 - 34ms/epoch - 2ms/step\n",
      "Epoch 48/5000\n",
      "15/15 - 0s - loss: 0.0346 - rmse: 0.0352 - mse: 0.0012 - mae: 0.0026 - val_loss: 0.0315 - val_rmse: 0.0020 - val_mse: 3.9074e-06 - val_mae: 0.0020 - 32ms/epoch - 2ms/step\n",
      "Epoch 49/5000\n",
      "15/15 - 0s - loss: 0.0313 - rmse: 0.0352 - mse: 0.0012 - mae: 0.0026 - val_loss: 0.0284 - val_rmse: 0.0022 - val_mse: 4.7097e-06 - val_mae: 0.0022 - 33ms/epoch - 2ms/step\n",
      "Epoch 50/5000\n",
      "\n",
      "Epoch 50: val_loss improved from 0.07212 to 0.02560, saving model to data/output/fnn_compressed/activity_random_single-labeled_Fold-5.model.weights.hdf5\n",
      "15/15 - 0s - loss: 0.0283 - rmse: 0.0352 - mse: 0.0012 - mae: 0.0022 - val_loss: 0.0256 - val_rmse: 0.0015 - val_mse: 2.3725e-06 - val_mae: 0.0015 - 37ms/epoch - 2ms/step\n",
      "Epoch 51/5000\n",
      "15/15 - 0s - loss: 0.0257 - rmse: 0.0352 - mse: 0.0012 - mae: 0.0029 - val_loss: 0.0231 - val_rmse: 6.1282e-04 - val_mse: 3.7554e-07 - val_mae: 6.1119e-04 - 49ms/epoch - 3ms/step\n",
      "Epoch 52/5000\n",
      "15/15 - 0s - loss: 0.0233 - rmse: 0.0352 - mse: 0.0012 - mae: 0.0037 - val_loss: 0.0208 - val_rmse: 0.0016 - val_mse: 2.6072e-06 - val_mae: 0.0016 - 42ms/epoch - 3ms/step\n",
      "Epoch 53/5000\n",
      "15/15 - 0s - loss: 0.0211 - rmse: 0.0352 - mse: 0.0012 - mae: 0.0024 - val_loss: 0.0188 - val_rmse: 0.0021 - val_mse: 4.4961e-06 - val_mae: 0.0021 - 55ms/epoch - 4ms/step\n",
      "Epoch 54/5000\n",
      "15/15 - 0s - loss: 0.0192 - rmse: 0.0352 - mse: 0.0012 - mae: 0.0022 - val_loss: 0.0169 - val_rmse: 0.0023 - val_mse: 5.4511e-06 - val_mae: 0.0023 - 45ms/epoch - 3ms/step\n",
      "Epoch 55/5000\n",
      "15/15 - 0s - loss: 0.0174 - rmse: 0.0352 - mse: 0.0012 - mae: 0.0043 - val_loss: 0.0153 - val_rmse: 0.0021 - val_mse: 4.4638e-06 - val_mae: 0.0021 - 38ms/epoch - 3ms/step\n",
      "Epoch 56/5000\n",
      "15/15 - 0s - loss: 0.0158 - rmse: 0.0352 - mse: 0.0012 - mae: 0.0032 - val_loss: 0.0138 - val_rmse: 0.0045 - val_mse: 1.9814e-05 - val_mae: 0.0045 - 40ms/epoch - 3ms/step\n",
      "Epoch 57/5000\n",
      "15/15 - 0s - loss: 0.0144 - rmse: 0.0353 - mse: 0.0012 - mae: 0.0036 - val_loss: 0.0124 - val_rmse: 3.4417e-04 - val_mse: 1.1845e-07 - val_mae: 3.4371e-04 - 40ms/epoch - 3ms/step\n",
      "Epoch 58/5000\n",
      "15/15 - 0s - loss: 0.0131 - rmse: 0.0352 - mse: 0.0012 - mae: 0.0044 - val_loss: 0.0112 - val_rmse: 7.4411e-04 - val_mse: 5.5370e-07 - val_mae: 7.4395e-04 - 37ms/epoch - 2ms/step\n",
      "Epoch 59/5000\n",
      "15/15 - 0s - loss: 0.0119 - rmse: 0.0351 - mse: 0.0012 - mae: 0.0016 - val_loss: 0.0101 - val_rmse: 1.6663e-05 - val_mse: 2.7764e-10 - val_mae: 1.3712e-05 - 39ms/epoch - 3ms/step\n",
      "Epoch 60/5000\n",
      "\n",
      "Epoch 60: val_loss improved from 0.02560 to 0.00909, saving model to data/output/fnn_compressed/activity_random_single-labeled_Fold-5.model.weights.hdf5\n",
      "15/15 - 0s - loss: 0.0109 - rmse: 0.0352 - mse: 0.0012 - mae: 0.0027 - val_loss: 0.0091 - val_rmse: 0.0019 - val_mse: 3.6544e-06 - val_mae: 0.0019 - 44ms/epoch - 3ms/step\n",
      "Epoch 61/5000\n",
      "15/15 - 0s - loss: 0.0099 - rmse: 0.0352 - mse: 0.0012 - mae: 0.0023 - val_loss: 0.0082 - val_rmse: 0.0013 - val_mse: 1.8081e-06 - val_mae: 0.0013 - 37ms/epoch - 2ms/step\n",
      "Epoch 62/5000\n",
      "15/15 - 0s - loss: 0.0091 - rmse: 0.0353 - mse: 0.0012 - mae: 0.0050 - val_loss: 0.0074 - val_rmse: 6.9162e-04 - val_mse: 4.7834e-07 - val_mae: 6.9157e-04 - 36ms/epoch - 2ms/step\n",
      "Epoch 63/5000\n",
      "15/15 - 0s - loss: 0.0083 - rmse: 0.0352 - mse: 0.0012 - mae: 0.0024 - val_loss: 0.0067 - val_rmse: 0.0011 - val_mse: 1.3057e-06 - val_mae: 0.0011 - 36ms/epoch - 2ms/step\n",
      "Epoch 64/5000\n",
      "15/15 - 0s - loss: 0.0076 - rmse: 0.0352 - mse: 0.0012 - mae: 0.0022 - val_loss: 0.0060 - val_rmse: 0.0027 - val_mse: 7.3938e-06 - val_mae: 0.0027 - 37ms/epoch - 2ms/step\n",
      "Epoch 65/5000\n",
      "15/15 - 0s - loss: 0.0070 - rmse: 0.0352 - mse: 0.0012 - mae: 0.0027 - val_loss: 0.0054 - val_rmse: 0.0016 - val_mse: 2.5229e-06 - val_mae: 0.0016 - 31ms/epoch - 2ms/step\n",
      "Epoch 66/5000\n",
      "15/15 - 0s - loss: 0.0064 - rmse: 0.0352 - mse: 0.0012 - mae: 0.0020 - val_loss: 0.0049 - val_rmse: 0.0024 - val_mse: 5.5606e-06 - val_mae: 0.0024 - 33ms/epoch - 2ms/step\n",
      "Epoch 67/5000\n",
      "15/15 - 0s - loss: 0.0059 - rmse: 0.0353 - mse: 0.0012 - mae: 0.0046 - val_loss: 0.0044 - val_rmse: 0.0022 - val_mse: 5.0527e-06 - val_mae: 0.0022 - 31ms/epoch - 2ms/step\n",
      "Epoch 68/5000\n",
      "15/15 - 0s - loss: 0.0055 - rmse: 0.0353 - mse: 0.0012 - mae: 0.0038 - val_loss: 0.0040 - val_rmse: 0.0032 - val_mse: 1.0453e-05 - val_mae: 0.0032 - 30ms/epoch - 2ms/step\n",
      "Epoch 69/5000\n",
      "15/15 - 0s - loss: 0.0050 - rmse: 0.0352 - mse: 0.0012 - mae: 0.0025 - val_loss: 0.0036 - val_rmse: 0.0016 - val_mse: 2.6713e-06 - val_mae: 0.0016 - 31ms/epoch - 2ms/step\n",
      "Epoch 70/5000\n",
      "\n",
      "Epoch 70: val_loss improved from 0.00909 to 0.00323, saving model to data/output/fnn_compressed/activity_random_single-labeled_Fold-5.model.weights.hdf5\n",
      "15/15 - 0s - loss: 0.0047 - rmse: 0.0352 - mse: 0.0012 - mae: 0.0022 - val_loss: 0.0032 - val_rmse: 0.0025 - val_mse: 6.2127e-06 - val_mae: 0.0025 - 35ms/epoch - 2ms/step\n",
      "Epoch 71/5000\n",
      "15/15 - 0s - loss: 0.0043 - rmse: 0.0352 - mse: 0.0012 - mae: 0.0029 - val_loss: 0.0029 - val_rmse: 0.0016 - val_mse: 2.5763e-06 - val_mae: 0.0016 - 32ms/epoch - 2ms/step\n",
      "Epoch 72/5000\n",
      "15/15 - 0s - loss: 0.0040 - rmse: 0.0352 - mse: 0.0012 - mae: 0.0027 - val_loss: 0.0026 - val_rmse: 7.5332e-04 - val_mse: 5.6750e-07 - val_mae: 7.5332e-04 - 31ms/epoch - 2ms/step\n",
      "Epoch 73/5000\n",
      "15/15 - 0s - loss: 0.0037 - rmse: 0.0352 - mse: 0.0012 - mae: 0.0020 - val_loss: 0.0024 - val_rmse: 0.0018 - val_mse: 3.1434e-06 - val_mae: 0.0018 - 37ms/epoch - 2ms/step\n",
      "Epoch 74/5000\n",
      "15/15 - 0s - loss: 0.0035 - rmse: 0.0352 - mse: 0.0012 - mae: 0.0039 - val_loss: 0.0021 - val_rmse: 0.0017 - val_mse: 2.8770e-06 - val_mae: 0.0017 - 37ms/epoch - 2ms/step\n",
      "Epoch 75/5000\n",
      "15/15 - 0s - loss: 0.0033 - rmse: 0.0352 - mse: 0.0012 - mae: 0.0027 - val_loss: 0.0019 - val_rmse: 1.8446e-04 - val_mse: 3.4027e-08 - val_mae: 1.8446e-04 - 33ms/epoch - 2ms/step\n",
      "Epoch 76/5000\n",
      "15/15 - 0s - loss: 0.0031 - rmse: 0.0352 - mse: 0.0012 - mae: 0.0021 - val_loss: 0.0017 - val_rmse: 0.0031 - val_mse: 9.6828e-06 - val_mae: 0.0031 - 31ms/epoch - 2ms/step\n",
      "Epoch 77/5000\n",
      "15/15 - 0s - loss: 0.0029 - rmse: 0.0352 - mse: 0.0012 - mae: 0.0038 - val_loss: 0.0016 - val_rmse: 9.7618e-04 - val_mse: 9.5293e-07 - val_mae: 9.7618e-04 - 34ms/epoch - 2ms/step\n",
      "Epoch 78/5000\n",
      "15/15 - 0s - loss: 0.0027 - rmse: 0.0352 - mse: 0.0012 - mae: 0.0021 - val_loss: 0.0014 - val_rmse: 0.0030 - val_mse: 9.1150e-06 - val_mae: 0.0030 - 28ms/epoch - 2ms/step\n",
      "Epoch 79/5000\n",
      "15/15 - 0s - loss: 0.0026 - rmse: 0.0352 - mse: 0.0012 - mae: 0.0031 - val_loss: 0.0013 - val_rmse: 0.0016 - val_mse: 2.4458e-06 - val_mae: 0.0016 - 33ms/epoch - 2ms/step\n",
      "Epoch 80/5000\n",
      "\n",
      "Epoch 80: val_loss improved from 0.00323 to 0.00115, saving model to data/output/fnn_compressed/activity_random_single-labeled_Fold-5.model.weights.hdf5\n",
      "15/15 - 0s - loss: 0.0024 - rmse: 0.0352 - mse: 0.0012 - mae: 0.0028 - val_loss: 0.0011 - val_rmse: 0.0017 - val_mse: 2.7986e-06 - val_mae: 0.0017 - 47ms/epoch - 3ms/step\n",
      "Epoch 81/5000\n",
      "15/15 - 0s - loss: 0.0023 - rmse: 0.0352 - mse: 0.0012 - mae: 0.0022 - val_loss: 0.0010 - val_rmse: 0.0027 - val_mse: 7.4005e-06 - val_mae: 0.0027 - 29ms/epoch - 2ms/step\n",
      "Epoch 82/5000\n",
      "15/15 - 0s - loss: 0.0022 - rmse: 0.0352 - mse: 0.0012 - mae: 0.0032 - val_loss: 9.3298e-04 - val_rmse: 0.0014 - val_mse: 1.9597e-06 - val_mae: 0.0014 - 29ms/epoch - 2ms/step\n",
      "Epoch 83/5000\n",
      "15/15 - 0s - loss: 0.0021 - rmse: 0.0352 - mse: 0.0012 - mae: 0.0020 - val_loss: 8.4140e-04 - val_rmse: 0.0014 - val_mse: 1.9710e-06 - val_mae: 0.0014 - 37ms/epoch - 2ms/step\n",
      "Epoch 84/5000\n",
      "15/15 - 0s - loss: 0.0020 - rmse: 0.0352 - mse: 0.0012 - mae: 0.0036 - val_loss: 7.6018e-04 - val_rmse: 0.0018 - val_mse: 3.3382e-06 - val_mae: 0.0018 - 40ms/epoch - 3ms/step\n",
      "Epoch 85/5000\n",
      "15/15 - 0s - loss: 0.0020 - rmse: 0.0352 - mse: 0.0012 - mae: 0.0025 - val_loss: 6.8657e-04 - val_rmse: 0.0020 - val_mse: 4.1824e-06 - val_mae: 0.0020 - 41ms/epoch - 3ms/step\n",
      "Epoch 86/5000\n",
      "15/15 - 0s - loss: 0.0019 - rmse: 0.0352 - mse: 0.0012 - mae: 0.0022 - val_loss: 6.2116e-04 - val_rmse: 0.0024 - val_mse: 5.9044e-06 - val_mae: 0.0024 - 36ms/epoch - 2ms/step\n",
      "Epoch 87/5000\n",
      "15/15 - 0s - loss: 0.0018 - rmse: 0.0352 - mse: 0.0012 - mae: 0.0028 - val_loss: 5.5819e-04 - val_rmse: 0.0019 - val_mse: 3.4602e-06 - val_mae: 0.0019 - 31ms/epoch - 2ms/step\n",
      "Epoch 88/5000\n",
      "15/15 - 0s - loss: 0.0018 - rmse: 0.0352 - mse: 0.0012 - mae: 0.0021 - val_loss: 5.0133e-04 - val_rmse: 0.0011 - val_mse: 1.1726e-06 - val_mae: 0.0011 - 41ms/epoch - 3ms/step\n",
      "Epoch 89/5000\n",
      "15/15 - 0s - loss: 0.0017 - rmse: 0.0352 - mse: 0.0012 - mae: 0.0045 - val_loss: 4.5144e-04 - val_rmse: 6.9768e-04 - val_mse: 4.8676e-07 - val_mae: 6.9768e-04 - 32ms/epoch - 2ms/step\n",
      "Epoch 90/5000\n",
      "\n",
      "Epoch 90: val_loss improved from 0.00115 to 0.00041, saving model to data/output/fnn_compressed/activity_random_single-labeled_Fold-5.model.weights.hdf5\n",
      "15/15 - 0s - loss: 0.0017 - rmse: 0.0352 - mse: 0.0012 - mae: 0.0019 - val_loss: 4.0680e-04 - val_rmse: 4.6384e-04 - val_mse: 2.1515e-07 - val_mae: 4.6384e-04 - 39ms/epoch - 3ms/step\n",
      "Epoch 91/5000\n",
      "15/15 - 0s - loss: 0.0016 - rmse: 0.0351 - mse: 0.0012 - mae: 0.0016 - val_loss: 3.7079e-04 - val_rmse: 0.0021 - val_mse: 4.2058e-06 - val_mae: 0.0021 - 37ms/epoch - 2ms/step\n",
      "Epoch 92/5000\n",
      "15/15 - 0s - loss: 0.0016 - rmse: 0.0353 - mse: 0.0012 - mae: 0.0066 - val_loss: 3.3053e-04 - val_rmse: 1.1361e-04 - val_mse: 1.2907e-08 - val_mae: 1.1361e-04 - 30ms/epoch - 2ms/step\n",
      "Epoch 93/5000\n",
      "15/15 - 0s - loss: 0.0016 - rmse: 0.0352 - mse: 0.0012 - mae: 0.0034 - val_loss: 3.0544e-04 - val_rmse: 0.0027 - val_mse: 7.4293e-06 - val_mae: 0.0027 - 40ms/epoch - 3ms/step\n",
      "Epoch 94/5000\n",
      "15/15 - 0s - loss: 0.0015 - rmse: 0.0354 - mse: 0.0013 - mae: 0.0042 - val_loss: 2.6869e-04 - val_rmse: 2.8647e-06 - val_mse: 8.2068e-12 - val_mae: 2.8642e-06 - 47ms/epoch - 3ms/step\n",
      "Epoch 95/5000\n",
      "15/15 - 0s - loss: 0.0015 - rmse: 0.0353 - mse: 0.0012 - mae: 0.0057 - val_loss: 2.4227e-04 - val_rmse: 8.3432e-05 - val_mse: 6.9609e-09 - val_mae: 8.3432e-05 - 46ms/epoch - 3ms/step\n",
      "Epoch 96/5000\n",
      "15/15 - 0s - loss: 0.0015 - rmse: 0.0353 - mse: 0.0012 - mae: 0.0035 - val_loss: 2.3475e-04 - val_rmse: 0.0040 - val_mse: 1.6322e-05 - val_mae: 0.0040 - 33ms/epoch - 2ms/step\n",
      "Epoch 97/5000\n",
      "15/15 - 0s - loss: 0.0015 - rmse: 0.0353 - mse: 0.0012 - mae: 0.0036 - val_loss: 1.9694e-04 - val_rmse: 3.2187e-05 - val_mse: 1.0360e-09 - val_mae: 3.2187e-05 - 41ms/epoch - 3ms/step\n",
      "Epoch 98/5000\n",
      "15/15 - 0s - loss: 0.0014 - rmse: 0.0353 - mse: 0.0012 - mae: 0.0054 - val_loss: 1.8060e-04 - val_rmse: 0.0017 - val_mse: 3.0333e-06 - val_mae: 0.0017 - 38ms/epoch - 3ms/step\n",
      "Epoch 99/5000\n",
      "15/15 - 0s - loss: 0.0014 - rmse: 0.0352 - mse: 0.0012 - mae: 0.0026 - val_loss: 1.6907e-04 - val_rmse: 0.0030 - val_mse: 8.9704e-06 - val_mae: 0.0030 - 29ms/epoch - 2ms/step\n",
      "Epoch 100/5000\n",
      "\n",
      "Epoch 100: val_loss improved from 0.00041 to 0.00015, saving model to data/output/fnn_compressed/activity_random_single-labeled_Fold-5.model.weights.hdf5\n",
      "15/15 - 0s - loss: 0.0014 - rmse: 0.0352 - mse: 0.0012 - mae: 0.0033 - val_loss: 1.4643e-04 - val_rmse: 0.0014 - val_mse: 2.0865e-06 - val_mae: 0.0014 - 52ms/epoch - 3ms/step\n",
      "Epoch 101/5000\n",
      "15/15 - 0s - loss: 0.0014 - rmse: 0.0352 - mse: 0.0012 - mae: 0.0030 - val_loss: 1.3084e-04 - val_rmse: 8.3786e-04 - val_mse: 7.0200e-07 - val_mae: 8.3786e-04 - 34ms/epoch - 2ms/step\n",
      "Epoch 102/5000\n",
      "15/15 - 0s - loss: 0.0014 - rmse: 0.0352 - mse: 0.0012 - mae: 0.0030 - val_loss: 1.2105e-04 - val_rmse: 0.0019 - val_mse: 3.7115e-06 - val_mae: 0.0019 - 36ms/epoch - 2ms/step\n",
      "Epoch 103/5000\n",
      "15/15 - 0s - loss: 0.0013 - rmse: 0.0351 - mse: 0.0012 - mae: 0.0025 - val_loss: 1.0584e-04 - val_rmse: 1.9805e-04 - val_mse: 3.9222e-08 - val_mae: 1.9805e-04 - 42ms/epoch - 3ms/step\n",
      "Epoch 104/5000\n",
      "15/15 - 0s - loss: 0.0013 - rmse: 0.0352 - mse: 0.0012 - mae: 0.0025 - val_loss: 1.0158e-04 - val_rmse: 0.0025 - val_mse: 6.1915e-06 - val_mae: 0.0025 - 50ms/epoch - 3ms/step\n",
      "Epoch 105/5000\n",
      "15/15 - 0s - loss: 0.0013 - rmse: 0.0352 - mse: 0.0012 - mae: 0.0025 - val_loss: 8.8158e-05 - val_rmse: 0.0015 - val_mse: 2.1533e-06 - val_mae: 0.0015 - 36ms/epoch - 2ms/step\n",
      "Epoch 106/5000\n",
      "15/15 - 0s - loss: 0.0013 - rmse: 0.0352 - mse: 0.0012 - mae: 0.0029 - val_loss: 7.7594e-05 - val_rmse: 2.2342e-04 - val_mse: 4.9915e-08 - val_mae: 2.2342e-04 - 30ms/epoch - 2ms/step\n",
      "Epoch 107/5000\n",
      "15/15 - 0s - loss: 0.0013 - rmse: 0.0352 - mse: 0.0012 - mae: 0.0021 - val_loss: 7.9613e-05 - val_rmse: 0.0031 - val_mse: 9.6953e-06 - val_mae: 0.0031 - 45ms/epoch - 3ms/step\n",
      "Epoch 108/5000\n",
      "15/15 - 0s - loss: 0.0013 - rmse: 0.0353 - mse: 0.0012 - mae: 0.0033 - val_loss: 6.3136e-05 - val_rmse: 3.1227e-04 - val_mse: 9.7516e-08 - val_mae: 3.1227e-04 - 39ms/epoch - 3ms/step\n",
      "Epoch 109/5000\n",
      "15/15 - 0s - loss: 0.0013 - rmse: 0.0353 - mse: 0.0012 - mae: 0.0049 - val_loss: 5.8687e-05 - val_rmse: 0.0014 - val_mse: 1.8494e-06 - val_mae: 0.0014 - 45ms/epoch - 3ms/step\n",
      "Epoch 110/5000\n",
      "\n",
      "Epoch 110: val_loss improved from 0.00015 to 0.00005, saving model to data/output/fnn_compressed/activity_random_single-labeled_Fold-5.model.weights.hdf5\n",
      "15/15 - 0s - loss: 0.0013 - rmse: 0.0352 - mse: 0.0012 - mae: 0.0020 - val_loss: 5.3380e-05 - val_rmse: 0.0015 - val_mse: 2.1337e-06 - val_mae: 0.0015 - 41ms/epoch - 3ms/step\n",
      "Epoch 111/5000\n",
      "15/15 - 0s - loss: 0.0013 - rmse: 0.0352 - mse: 0.0012 - mae: 0.0048 - val_loss: 4.6208e-05 - val_rmse: 6.3581e-05 - val_mse: 4.0425e-09 - val_mae: 6.3581e-05 - 42ms/epoch - 3ms/step\n",
      "Epoch 112/5000\n",
      "15/15 - 0s - loss: 0.0013 - rmse: 0.0353 - mse: 0.0012 - mae: 0.0027 - val_loss: 4.5518e-05 - val_rmse: 0.0020 - val_mse: 3.8588e-06 - val_mae: 0.0020 - 40ms/epoch - 3ms/step\n",
      "Epoch 113/5000\n",
      "15/15 - 0s - loss: 0.0013 - rmse: 0.0351 - mse: 0.0012 - mae: 0.0030 - val_loss: 3.7858e-05 - val_rmse: 5.4576e-04 - val_mse: 2.9786e-07 - val_mae: 5.4576e-04 - 39ms/epoch - 3ms/step\n",
      "Epoch 114/5000\n",
      "15/15 - 0s - loss: 0.0013 - rmse: 0.0352 - mse: 0.0012 - mae: 0.0029 - val_loss: 3.7156e-05 - val_rmse: 0.0018 - val_mse: 3.2907e-06 - val_mae: 0.0018 - 40ms/epoch - 3ms/step\n",
      "Epoch 115/5000\n",
      "15/15 - 0s - loss: 0.0013 - rmse: 0.0352 - mse: 0.0012 - mae: 0.0024 - val_loss: 3.1181e-05 - val_rmse: 8.0412e-04 - val_mse: 6.4661e-07 - val_mae: 8.0412e-04 - 40ms/epoch - 3ms/step\n",
      "Epoch 116/5000\n",
      "15/15 - 0s - loss: 0.0013 - rmse: 0.0352 - mse: 0.0012 - mae: 0.0019 - val_loss: 3.5219e-05 - val_rmse: 0.0028 - val_mse: 7.6878e-06 - val_mae: 0.0028 - 42ms/epoch - 3ms/step\n",
      "Epoch 117/5000\n",
      "15/15 - 0s - loss: 0.0013 - rmse: 0.0352 - mse: 0.0012 - mae: 0.0041 - val_loss: 2.4869e-05 - val_rmse: 2.1624e-04 - val_mse: 4.6759e-08 - val_mae: 2.1624e-04 - 40ms/epoch - 3ms/step\n",
      "Epoch 118/5000\n",
      "15/15 - 0s - loss: 0.0013 - rmse: 0.0352 - mse: 0.0012 - mae: 0.0022 - val_loss: 2.2653e-05 - val_rmse: 5.2303e-04 - val_mse: 2.7356e-07 - val_mae: 5.2303e-04 - 41ms/epoch - 3ms/step\n",
      "Epoch 119/5000\n",
      "15/15 - 0s - loss: 0.0013 - rmse: 0.0352 - mse: 0.0012 - mae: 0.0018 - val_loss: 2.3387e-05 - val_rmse: 0.0018 - val_mse: 3.2090e-06 - val_mae: 0.0018 - 52ms/epoch - 3ms/step\n",
      "Epoch 120/5000\n",
      "\n",
      "Epoch 120: val_loss improved from 0.00005 to 0.00002, saving model to data/output/fnn_compressed/activity_random_single-labeled_Fold-5.model.weights.hdf5\n",
      "15/15 - 0s - loss: 0.0013 - rmse: 0.0352 - mse: 0.0012 - mae: 0.0034 - val_loss: 2.0272e-05 - val_rmse: 0.0014 - val_mse: 2.0783e-06 - val_mae: 0.0014 - 47ms/epoch - 3ms/step\n",
      "Epoch 121/5000\n",
      "15/15 - 0s - loss: 0.0013 - rmse: 0.0352 - mse: 0.0012 - mae: 0.0020 - val_loss: 1.9415e-05 - val_rmse: 0.0017 - val_mse: 3.0112e-06 - val_mae: 0.0017 - 42ms/epoch - 3ms/step\n",
      "Epoch 122/5000\n",
      "15/15 - 0s - loss: 0.0013 - rmse: 0.0352 - mse: 0.0012 - mae: 0.0037 - val_loss: 1.7192e-05 - val_rmse: 0.0015 - val_mse: 2.4024e-06 - val_mae: 0.0015 - 38ms/epoch - 3ms/step\n",
      "Epoch 123/5000\n",
      "15/15 - 0s - loss: 0.0013 - rmse: 0.0352 - mse: 0.0012 - mae: 0.0023 - val_loss: 1.4257e-05 - val_rmse: 9.6023e-04 - val_mse: 9.2205e-07 - val_mae: 9.6023e-04 - 40ms/epoch - 3ms/step\n",
      "Epoch 124/5000\n",
      "15/15 - 0s - loss: 0.0012 - rmse: 0.0352 - mse: 0.0012 - mae: 0.0027 - val_loss: 1.2024e-05 - val_rmse: 3.5298e-05 - val_mse: 1.2460e-09 - val_mae: 3.5298e-05 - 38ms/epoch - 3ms/step\n",
      "Epoch 125/5000\n",
      "15/15 - 0s - loss: 0.0013 - rmse: 0.0352 - mse: 0.0012 - mae: 0.0025 - val_loss: 1.1060e-05 - val_rmse: 4.6926e-04 - val_mse: 2.2021e-07 - val_mae: 4.6926e-04 - 38ms/epoch - 3ms/step\n",
      "Epoch 126/5000\n",
      "15/15 - 0s - loss: 0.0012 - rmse: 0.0352 - mse: 0.0012 - mae: 0.0025 - val_loss: 1.0421e-05 - val_rmse: 8.0445e-04 - val_mse: 6.4715e-07 - val_mae: 8.0445e-04 - 38ms/epoch - 3ms/step\n",
      "Epoch 127/5000\n",
      "15/15 - 0s - loss: 0.0012 - rmse: 0.0352 - mse: 0.0012 - mae: 0.0022 - val_loss: 1.8542e-05 - val_rmse: 0.0031 - val_mse: 9.7292e-06 - val_mae: 0.0031 - 34ms/epoch - 2ms/step\n",
      "Epoch 128/5000\n",
      "15/15 - 0s - loss: 0.0012 - rmse: 0.0352 - mse: 0.0012 - mae: 0.0032 - val_loss: 9.4819e-06 - val_rmse: 0.0012 - val_mse: 1.5370e-06 - val_mae: 0.0012 - 37ms/epoch - 2ms/step\n",
      "Epoch 129/5000\n",
      "15/15 - 0s - loss: 0.0012 - rmse: 0.0352 - mse: 0.0012 - mae: 0.0024 - val_loss: 1.1126e-05 - val_rmse: 0.0020 - val_mse: 3.9629e-06 - val_mae: 0.0020 - 36ms/epoch - 2ms/step\n",
      "Epoch 130/5000\n",
      "\n",
      "Epoch 130: val_loss improved from 0.00002 to 0.00001, saving model to data/output/fnn_compressed/activity_random_single-labeled_Fold-5.model.weights.hdf5\n",
      "15/15 - 0s - loss: 0.0012 - rmse: 0.0352 - mse: 0.0012 - mae: 0.0022 - val_loss: 1.2750e-05 - val_rmse: 0.0025 - val_mse: 6.2913e-06 - val_mae: 0.0025 - 56ms/epoch - 4ms/step\n",
      "Epoch 131/5000\n",
      "Restoring model weights from the end of the best epoch: 111.\n",
      "15/15 - 0s - loss: 0.0012 - rmse: 0.0352 - mse: 0.0012 - mae: 0.0036 - val_loss: 5.8245e-06 - val_rmse: 3.8755e-05 - val_mse: 1.5019e-09 - val_mae: 3.8755e-05 - 38ms/epoch - 3ms/step\n",
      "Epoch 131: early stopping\n",
      "7/7 [==============================] - 0s 819us/step\n",
      "INFO:tensorflow:Assets written to: data/output/fnn_compressed/activity-5_saved_model/assets\n"
     ]
    },
    {
     "name": "stderr",
     "output_type": "stream",
     "text": [
      "INFO:tensorflow:Assets written to: data/output/fnn_compressed/activity-5_saved_model/assets\n"
     ]
    },
    {
     "data": {
      "text/plain": [
       "VBox(children=(Label(value='0.004 MB of 0.004 MB uploaded\\r'), FloatProgress(value=1.0, max=1.0)))"
      ],
      "application/vnd.jupyter.widget-view+json": {
       "version_major": 2,
       "version_minor": 0,
       "model_id": "1a45bc8d91dc4ddcb35e4898b78097d7"
      }
     },
     "metadata": {},
     "output_type": "display_data"
    },
    {
     "data": {
      "text/plain": [
       "<IPython.core.display.HTML object>"
      ],
      "text/html": [
       "<style>\n",
       "    table.wandb td:nth-child(1) { padding: 0 10px; text-align: left ; width: auto;} td:nth-child(2) {text-align: left ; width: 100%}\n",
       "    .wandb-row { display: flex; flex-direction: row; flex-wrap: wrap; justify-content: flex-start; width: 100% }\n",
       "    .wandb-col { display: flex; flex-direction: column; flex-basis: 100%; flex: 1; padding: 10px; }\n",
       "    </style>\n",
       "<div class=\"wandb-row\"><div class=\"wandb-col\"><h3>Run history:</h3><br/><table class=\"wandb\"><tr><td>epoch</td><td>▁▁▁▁▂▂▂▂▂▃▃▃▃▃▃▄▄▄▄▄▅▅▅▅▅▅▆▆▆▆▆▆▇▇▇▇▇███</td></tr><tr><td>loss</td><td>█▇▅▄▃▂▂▂▁▁▁▁▁▁▁▁▁▁▁▁▁▁▁▁▁▁▁▁▁▁▁▁▁▁▁▁▁▁▁▁</td></tr><tr><td>mae</td><td>█▂▁▁▁▁▁▁▁▁▁▁▁▁▁▁▁▁▁▁▁▁▁▁▁▁▁▁▁▁▁▁▁▁▁▁▁▁▁▁</td></tr><tr><td>mse</td><td>█▁▁▁▁▁▁▁▁▁▁▁▁▁▁▁▁▁▁▁▁▁▁▁▁▁▁▁▁▁▁▁▁▁▁▁▁▁▁▁</td></tr><tr><td>rmse</td><td>█▂▁▁▁▁▁▁▁▁▁▁▁▁▁▁▁▁▁▁▁▁▁▁▁▁▁▁▁▁▁▁▁▁▁▁▁▁▁▁</td></tr><tr><td>val_loss</td><td>█▇▅▄▃▂▂▂▁▁▁▁▁▁▁▁▁▁▁▁▁▁▁▁▁▁▁▁▁▁▁▁▁▁▁▁▁▁▁▁</td></tr><tr><td>val_mae</td><td>█▂▁▂▁▁▁▁▁▁▁▁▁▁▁▁▁▁▁▁▁▁▁▁▁▁▁▁▁▁▁▁▁▁▁▁▁▁▁▁</td></tr><tr><td>val_mse</td><td>█▁▁▁▁▁▁▁▁▁▁▁▁▁▁▁▁▁▁▁▁▁▁▁▁▁▁▁▁▁▁▁▁▁▁▁▁▁▁▁</td></tr><tr><td>val_rmse</td><td>█▂▁▁▁▁▁▁▁▁▁▁▁▁▁▁▁▁▁▁▁▁▁▁▁▁▁▁▁▁▁▁▁▁▁▁▁▁▁▁</td></tr></table><br/></div><div class=\"wandb-col\"><h3>Run summary:</h3><br/><table class=\"wandb\"><tr><td>best_epoch</td><td>130</td></tr><tr><td>best_val_loss</td><td>1e-05</td></tr><tr><td>epoch</td><td>130</td></tr><tr><td>loss</td><td>0.00124</td></tr><tr><td>mae</td><td>0.00363</td></tr><tr><td>mse</td><td>0.00124</td></tr><tr><td>rmse</td><td>0.03515</td></tr><tr><td>val_loss</td><td>1e-05</td></tr><tr><td>val_mae</td><td>4e-05</td></tr><tr><td>val_mse</td><td>0.0</td></tr><tr><td>val_rmse</td><td>4e-05</td></tr></table><br/></div></div>"
      ]
     },
     "metadata": {},
     "output_type": "display_data"
    },
    {
     "data": {
      "text/plain": [
       "<IPython.core.display.HTML object>"
      ],
      "text/html": [
       " View run <strong style=\"color:#cdcd00\">activity-5</strong> at: <a href='https://wandb.ai/dfpl_regression/FNN_0.5_random/runs/9y85fgth' target=\"_blank\">https://wandb.ai/dfpl_regression/FNN_0.5_random/runs/9y85fgth</a><br/> View project at: <a href='https://wandb.ai/dfpl_regression/FNN_0.5_random' target=\"_blank\">https://wandb.ai/dfpl_regression/FNN_0.5_random</a><br/>Synced 6 W&B file(s), 0 media file(s), 0 artifact file(s) and 0 other file(s)"
      ]
     },
     "metadata": {},
     "output_type": "display_data"
    },
    {
     "data": {
      "text/plain": [
       "<IPython.core.display.HTML object>"
      ],
      "text/html": [
       "Find logs at: <code>./wandb/run-20240808_154343-9y85fgth/logs</code>"
      ]
     },
     "metadata": {},
     "output_type": "display_data"
    },
    {
     "data": {
      "text/plain": [
       "<IPython.core.display.HTML object>"
      ],
      "text/html": [
       "The new W&B backend becomes opt-out in version 0.18.0; try it out with `wandb.require(\"core\")`! See https://wandb.me/wandb-core for more information."
      ]
     },
     "metadata": {},
     "output_type": "display_data"
    }
   ],
   "execution_count": 15
  },
  {
   "metadata": {},
   "cell_type": "markdown",
   "source": "Find best fold",
   "id": "abbeee8468714d20"
  },
  {
   "metadata": {
    "ExecuteTime": {
     "end_time": "2024-08-08T13:43:59.034004Z",
     "start_time": "2024-08-08T13:43:59.027540Z"
    }
   },
   "cell_type": "code",
   "source": [
    "def find_files(directory, pattern):\n",
    "    for root, dirs, files in os.walk(directory):\n",
    "        for basename in files:\n",
    "            if fnmatch.fnmatch(basename, pattern):\n",
    "                filename = os.path.join(root, basename)\n",
    "                yield filename\n",
    "\n",
    "\n",
    "best_fold = 0\n",
    "for filename in find_files(base_out_dir, '*.best.model.weights*'):\n",
    "    filename_split = filename.split('.')\n",
    "    best_fold = int(filename_split[0][-1])\n",
    "    img_file = filename_split[0] + '.history.jpg'\n",
    "    img = Image(filename=img_file)\n",
    "    display(img)\n",
    "best_fold"
   ],
   "id": "c5c11dcf850c6153",
   "outputs": [
    {
     "data": {
      "image/jpeg": "[encoded data removed]",
      "text/plain": [
       "<IPython.core.display.Image object>"
      ]
     },
     "metadata": {},
     "output_type": "display_data"
    },
    {
     "data": {
      "text/plain": [
       "2"
      ]
     },
     "execution_count": 16,
     "metadata": {},
     "output_type": "execute_result"
    }
   ],
   "execution_count": 16
  },
  {
   "metadata": {
    "ExecuteTime": {
     "end_time": "2024-08-08T13:43:59.044435Z",
     "start_time": "2024-08-08T13:43:59.034738Z"
    }
   },
   "cell_type": "code",
   "source": [
    "model_evaluation = pd.read_csv(\n",
    "    filepath_or_buffer=f'{base_out_dir}/single_label_model.evaluation.csv')\n",
    "model_evaluation[model_evaluation['fold'] == best_fold]"
   ],
   "id": "5ef940b2e61ad48a",
   "outputs": [
    {
     "data": {
      "text/plain": [
       "    Unnamed: 0 metric     value  fold    target\n",
       "6            6    MSE  0.038129     2  activity\n",
       "7            7    MAE  0.162599     2  activity\n",
       "8            8   MdAE  0.155774     2  activity\n",
       "9            9  ACPER  0.088670     2  activity\n",
       "10          10   MAPE       inf     2  activity\n",
       "11          11   RMSE  0.195267     2  activity"
      ],
      "text/html": [
       "<div>\n",
       "<style scoped>\n",
       "    .dataframe tbody tr th:only-of-type {\n",
       "        vertical-align: middle;\n",
       "    }\n",
       "\n",
       "    .dataframe tbody tr th {\n",
       "        vertical-align: top;\n",
       "    }\n",
       "\n",
       "    .dataframe thead th {\n",
       "        text-align: right;\n",
       "    }\n",
       "</style>\n",
       "<table border=\"1\" class=\"dataframe\">\n",
       "  <thead>\n",
       "    <tr style=\"text-align: right;\">\n",
       "      <th></th>\n",
       "      <th>Unnamed: 0</th>\n",
       "      <th>metric</th>\n",
       "      <th>value</th>\n",
       "      <th>fold</th>\n",
       "      <th>target</th>\n",
       "    </tr>\n",
       "  </thead>\n",
       "  <tbody>\n",
       "    <tr>\n",
       "      <th>6</th>\n",
       "      <td>6</td>\n",
       "      <td>MSE</td>\n",
       "      <td>0.038129</td>\n",
       "      <td>2</td>\n",
       "      <td>activity</td>\n",
       "    </tr>\n",
       "    <tr>\n",
       "      <th>7</th>\n",
       "      <td>7</td>\n",
       "      <td>MAE</td>\n",
       "      <td>0.162599</td>\n",
       "      <td>2</td>\n",
       "      <td>activity</td>\n",
       "    </tr>\n",
       "    <tr>\n",
       "      <th>8</th>\n",
       "      <td>8</td>\n",
       "      <td>MdAE</td>\n",
       "      <td>0.155774</td>\n",
       "      <td>2</td>\n",
       "      <td>activity</td>\n",
       "    </tr>\n",
       "    <tr>\n",
       "      <th>9</th>\n",
       "      <td>9</td>\n",
       "      <td>ACPER</td>\n",
       "      <td>0.088670</td>\n",
       "      <td>2</td>\n",
       "      <td>activity</td>\n",
       "    </tr>\n",
       "    <tr>\n",
       "      <th>10</th>\n",
       "      <td>10</td>\n",
       "      <td>MAPE</td>\n",
       "      <td>inf</td>\n",
       "      <td>2</td>\n",
       "      <td>activity</td>\n",
       "    </tr>\n",
       "    <tr>\n",
       "      <th>11</th>\n",
       "      <td>11</td>\n",
       "      <td>RMSE</td>\n",
       "      <td>0.195267</td>\n",
       "      <td>2</td>\n",
       "      <td>activity</td>\n",
       "    </tr>\n",
       "  </tbody>\n",
       "</table>\n",
       "</div>"
      ]
     },
     "execution_count": 17,
     "metadata": {},
     "output_type": "execute_result"
    }
   ],
   "execution_count": 17
  },
  {
   "metadata": {},
   "cell_type": "markdown",
   "source": "## Predict test dataset",
   "id": "d4b9cdb6567a7bdd"
  },
  {
   "metadata": {
    "ExecuteTime": {
     "end_time": "2024-08-08T13:43:59.047296Z",
     "start_time": "2024-08-08T13:43:59.045182Z"
    }
   },
   "cell_type": "code",
   "source": [
    "opts = options.Options(\n",
    "    inputFile='data/tox24_challenge_test.csv',\n",
    "    outputDir=f'{base_out_dir}',\n",
    "    outputFile=f'{base_out_dir}test.predictions.csv',\n",
    "    ecModelDir=f'{base_out_dir}/AE_encoder/',\n",
    "    fnnModelDir=f'{base_out_dir}/activity_saved_model',\n",
    "    compressFeatures=True,\n",
    ")"
   ],
   "id": "15340254e48af9e0",
   "outputs": [],
   "execution_count": 18
  },
  {
   "metadata": {
    "ExecuteTime": {
     "end_time": "2024-08-08T13:43:59.947629Z",
     "start_time": "2024-08-08T13:43:59.048045Z"
    }
   },
   "cell_type": "code",
   "source": "df = fp.importDataFile(opts.inputFile, import_function=fp.importSmilesCSV, fp_size=opts.fpSize)\n",
   "id": "2c3efbcb90e79072",
   "outputs": [],
   "execution_count": 19
  },
  {
   "metadata": {
    "ExecuteTime": {
     "end_time": "2024-08-08T13:44:00.080489Z",
     "start_time": "2024-08-08T13:43:59.948962Z"
    }
   },
   "cell_type": "code",
   "source": [
    "if opts.compressFeatures:\n",
    "    # load trained model for autoencoder\n",
    "    encoder = keras.models.load_model(opts.ecModelDir)\n",
    "\n",
    "    # compress the fingerprints using the autoencoder\n",
    "    df = ac.compress_fingerprints(df, encoder)"
   ],
   "id": "b8f45f2abcb33969",
   "outputs": [
    {
     "name": "stdout",
     "output_type": "stream",
     "text": [
      "WARNING:tensorflow:No training configuration found in save file, so the model was *not* compiled. Compile it manually.\n"
     ]
    },
    {
     "name": "stderr",
     "output_type": "stream",
     "text": [
      "WARNING:tensorflow:No training configuration found in save file, so the model was *not* compiled. Compile it manually.\n"
     ]
    },
    {
     "name": "stdout",
     "output_type": "stream",
     "text": [
      "16/16 [==============================] - 0s 921us/step\n"
     ]
    }
   ],
   "execution_count": 20
  },
  {
   "metadata": {},
   "cell_type": "markdown",
   "source": "",
   "id": "5bc03dea35295afb"
  },
  {
   "metadata": {
    "ExecuteTime": {
     "end_time": "2024-08-08T13:44:00.357250Z",
     "start_time": "2024-08-08T13:44:00.081447Z"
    }
   },
   "cell_type": "code",
   "source": [
    "# predict\n",
    "df2 = predictions.predict_values(df=df, opts=opts)"
   ],
   "id": "6130da05f878e93f",
   "outputs": [
    {
     "name": "stdout",
     "output_type": "stream",
     "text": [
      "16/16 [==============================] - 0s 955us/step\n"
     ]
    }
   ],
   "execution_count": 21
  },
  {
   "metadata": {
    "ExecuteTime": {
     "end_time": "2024-08-08T13:51:47.478296Z",
     "start_time": "2024-08-08T13:51:47.474484Z"
    }
   },
   "cell_type": "code",
   "source": "df2.columns",
   "id": "630324579e74a5d3",
   "outputs": [
    {
     "data": {
      "text/plain": [
       "Index(['SMILES', 'fp', 'fpcompressed', 'predicted'], dtype='object')"
      ]
     },
     "execution_count": 23,
     "metadata": {},
     "output_type": "execute_result"
    }
   ],
   "execution_count": 23
  },
  {
   "metadata": {},
   "cell_type": "markdown",
   "source": "Reverse the scaling of the predicted values",
   "id": "5be323d66d4f7d08"
  },
  {
   "metadata": {
    "ExecuteTime": {
     "end_time": "2024-08-08T14:00:28.878357Z",
     "start_time": "2024-08-08T14:00:28.870889Z"
    }
   },
   "cell_type": "code",
   "source": [
    "activity_predicted = df2['predicted']\n",
    "\n",
    "activity_predicted_rescaled = scaler.inverse_transform(activity_predicted.to_numpy().reshape(-1, 1))"
   ],
   "id": "e5ffe69737d1a20a",
   "outputs": [
    {
     "data": {
      "text/plain": [
       "array([[ 1.22672510e+01],\n",
       "       [ 6.19363174e+01],\n",
       "       [ 3.54542999e+01],\n",
       "       [ 2.13824272e+01],\n",
       "       [ 5.21957474e+01],\n",
       "       [ 5.43165741e+01],\n",
       "       [ 2.22862587e+01],\n",
       "       [ 5.60308609e+01],\n",
       "       [ 3.54542999e+01],\n",
       "       [ 5.94043617e+01],\n",
       "       [ 6.19787369e+01],\n",
       "       [ 4.48969269e+01],\n",
       "       [ 3.12326775e+01],\n",
       "       [ 6.32182159e+01],\n",
       "       [ 3.64657898e+01],\n",
       "       [-1.35579002e+00],\n",
       "       [ 3.64657898e+01],\n",
       "       [ 3.64657898e+01],\n",
       "       [ 3.84133415e+01],\n",
       "       [-7.86982965e+00],\n",
       "       [ 2.29881496e+01],\n",
       "       [ 3.64657898e+01],\n",
       "       [ 2.03865986e+01],\n",
       "       [ 1.72654381e+01],\n",
       "       [ 5.53011360e+01],\n",
       "       [ 2.75154152e+01],\n",
       "       [ 1.61109543e+01],\n",
       "       [ 5.44109840e+01],\n",
       "       [ 2.64086380e+01],\n",
       "       [ 4.88262444e+01],\n",
       "       [ 5.05571136e+01],\n",
       "       [ 2.61357250e+01],\n",
       "       [ 2.69786377e+01],\n",
       "       [ 3.99063683e+01],\n",
       "       [ 5.03125038e+01],\n",
       "       [ 2.65471878e+01],\n",
       "       [ 3.81370163e+01],\n",
       "       [ 2.42454433e+01],\n",
       "       [ 2.20428162e+01],\n",
       "       [ 5.03654194e+00],\n",
       "       [ 2.08671093e+01],\n",
       "       [ 5.68971901e+01],\n",
       "       [ 3.98284798e+01],\n",
       "       [ 1.92836037e+01],\n",
       "       [ 6.08120155e+01],\n",
       "       [ 1.94866219e+01],\n",
       "       [ 4.03223343e+01],\n",
       "       [ 5.49817200e+01],\n",
       "       [ 1.17263556e+01],\n",
       "       [ 2.89912930e+01],\n",
       "       [ 1.96339703e+01],\n",
       "       [ 5.48013000e+01],\n",
       "       [ 1.85088024e+01],\n",
       "       [ 2.99488163e+01],\n",
       "       [ 9.74177933e+00],\n",
       "       [ 1.04441137e+01],\n",
       "       [ 3.95063400e+01],\n",
       "       [ 2.35259571e+01],\n",
       "       [ 5.90888252e+01],\n",
       "       [ 3.56258926e+01],\n",
       "       [ 3.28434448e+01],\n",
       "       [ 1.74508209e+01],\n",
       "       [ 2.70387344e+01],\n",
       "       [ 6.28396263e+01],\n",
       "       [ 5.25423508e+01],\n",
       "       [ 6.20601006e+01],\n",
       "       [ 7.50920258e+01],\n",
       "       [ 2.49539318e+01],\n",
       "       [ 2.95037079e+01],\n",
       "       [ 1.44944086e+01],\n",
       "       [ 5.62346802e+01],\n",
       "       [ 2.07213707e+01],\n",
       "       [ 1.67274418e+01],\n",
       "       [ 2.48600330e+01],\n",
       "       [ 1.70455418e+01],\n",
       "       [ 4.11811371e+01],\n",
       "       [ 5.41071053e+01],\n",
       "       [ 6.34332390e+01],\n",
       "       [ 5.72007637e+01],\n",
       "       [ 5.13650780e+01],\n",
       "       [ 5.76993904e+01],\n",
       "       [ 7.97673187e+01],\n",
       "       [ 6.47681122e+01],\n",
       "       [ 2.23600368e+01],\n",
       "       [ 4.51647682e+01],\n",
       "       [ 5.61621628e+01],\n",
       "       [ 5.53132782e+01],\n",
       "       [ 3.44526024e+01],\n",
       "       [ 3.27796173e+01],\n",
       "       [ 6.82435074e+01],\n",
       "       [ 5.35502434e+01],\n",
       "       [ 4.05698853e+01],\n",
       "       [-1.32734137e+01],\n",
       "       [ 3.26506691e+01],\n",
       "       [ 2.08804512e+01],\n",
       "       [ 3.04809093e+01],\n",
       "       [ 8.49524002e+01],\n",
       "       [ 3.30110207e+01],\n",
       "       [ 1.93880157e+01],\n",
       "       [ 2.35724373e+01],\n",
       "       [ 2.89631023e+01],\n",
       "       [ 2.35581970e+01],\n",
       "       [ 2.77313824e+01],\n",
       "       [ 1.26577148e+01],\n",
       "       [ 3.35933151e+01],\n",
       "       [ 5.44241142e+01],\n",
       "       [ 3.91544151e+01],\n",
       "       [ 3.87018318e+01],\n",
       "       [ 4.80266533e+01],\n",
       "       [ 6.65841141e+01],\n",
       "       [ 3.29507637e+01],\n",
       "       [ 4.90358696e+01],\n",
       "       [ 1.38253183e+01],\n",
       "       [ 1.48569450e+01],\n",
       "       [ 4.42318726e+01],\n",
       "       [ 6.99811630e+01],\n",
       "       [ 2.45412273e+01],\n",
       "       [ 3.51541367e+01],\n",
       "       [ 3.80948944e+01],\n",
       "       [ 8.91738701e+00],\n",
       "       [ 4.42392044e+01],\n",
       "       [ 5.93626976e+01],\n",
       "       [ 7.68013153e+01],\n",
       "       [ 6.17441559e+01],\n",
       "       [ 3.29119720e+01],\n",
       "       [ 5.54806061e+01],\n",
       "       [ 8.62330723e+00],\n",
       "       [ 2.27475090e+01],\n",
       "       [ 5.89916229e+01],\n",
       "       [ 7.27884750e+01],\n",
       "       [ 4.88829002e+01],\n",
       "       [ 9.81625519e+01],\n",
       "       [ 4.53345528e+01],\n",
       "       [ 6.99059296e+01],\n",
       "       [ 5.87886429e+01],\n",
       "       [-2.93679261e+00],\n",
       "       [-5.07930946e+00],\n",
       "       [ 3.85400200e+01],\n",
       "       [ 3.73017693e+01],\n",
       "       [ 6.05141754e+01],\n",
       "       [ 6.59423218e+01],\n",
       "       [ 5.69066143e+00],\n",
       "       [ 1.20263767e+01],\n",
       "       [ 2.68007488e+01],\n",
       "       [ 2.62214603e+01],\n",
       "       [ 4.30653191e+01],\n",
       "       [ 5.75832443e+01],\n",
       "       [ 3.21253319e+01],\n",
       "       [ 8.56878662e+01],\n",
       "       [ 3.71762466e+01],\n",
       "       [ 2.11080856e+01],\n",
       "       [ 2.86844845e+01],\n",
       "       [ 6.43509598e+01],\n",
       "       [ 2.25675964e+01],\n",
       "       [ 4.16300621e+01],\n",
       "       [ 3.04528198e+01],\n",
       "       [ 6.42848587e+01],\n",
       "       [ 2.68282623e+01],\n",
       "       [ 2.60227146e+01],\n",
       "       [ 1.81123600e+01],\n",
       "       [ 4.36993332e+01],\n",
       "       [ 1.38286963e+01],\n",
       "       [ 1.57570229e+01],\n",
       "       [ 2.77095394e+01],\n",
       "       [ 3.47471008e+01],\n",
       "       [ 2.12906952e+01],\n",
       "       [ 3.78954582e+01],\n",
       "       [ 1.07916889e+01],\n",
       "       [ 1.22672510e+01],\n",
       "       [ 2.98190045e+00],\n",
       "       [ 2.33969994e+01],\n",
       "       [ 1.73907757e+01],\n",
       "       [ 4.85999184e+01],\n",
       "       [ 3.56158066e+01],\n",
       "       [ 5.43914833e+01],\n",
       "       [ 8.06699848e+00],\n",
       "       [ 4.15314713e+01],\n",
       "       [ 5.97851944e+01],\n",
       "       [ 6.69017639e+01],\n",
       "       [ 3.80993996e+01],\n",
       "       [ 2.06361904e+01],\n",
       "       [ 2.54129772e+01],\n",
       "       [ 3.42672348e+01],\n",
       "       [ 7.00872803e+01],\n",
       "       [ 3.97074432e+01],\n",
       "       [ 7.88959198e+01],\n",
       "       [ 4.58617134e+01],\n",
       "       [ 2.92731953e+01],\n",
       "       [ 2.92731953e+01],\n",
       "       [ 4.83987503e+01],\n",
       "       [ 4.73251953e+01],\n",
       "       [ 7.52605724e+00],\n",
       "       [ 2.66414776e+01],\n",
       "       [ 6.84239273e+01],\n",
       "       [ 3.82572098e+01],\n",
       "       [ 2.69101200e+01],\n",
       "       [ 4.10678749e+01],\n",
       "       [ 4.10394707e+01],\n",
       "       [ 4.79028511e+01],\n",
       "       [ 5.44811401e+01],\n",
       "       [ 5.81091928e+00],\n",
       "       [ 5.81091928e+00],\n",
       "       [ 2.02522125e+01],\n",
       "       [ 4.01179390e+01],\n",
       "       [ 9.19031906e+01],\n",
       "       [ 1.10883835e+02],\n",
       "       [ 1.09585388e+02],\n",
       "       [ 1.10257248e+02],\n",
       "       [ 7.45987625e+01],\n",
       "       [ 3.87588844e+01],\n",
       "       [ 6.75089417e+01],\n",
       "       [ 9.33659668e+01],\n",
       "       [ 1.41787233e+01],\n",
       "       [ 2.15413113e+01],\n",
       "       [ 4.34003410e+01],\n",
       "       [ 5.00953331e+01],\n",
       "       [ 4.52281113e+01],\n",
       "       [ 4.08888054e+01],\n",
       "       [ 6.50769806e+01],\n",
       "       [ 2.89199066e+01],\n",
       "       [ 1.91784916e+01],\n",
       "       [ 5.76483536e+01],\n",
       "       [ 3.30767593e+01],\n",
       "       [ 2.05418072e+01],\n",
       "       [ 3.05939846e+01],\n",
       "       [ 6.20742989e+01],\n",
       "       [ 4.61954308e+01],\n",
       "       [ 4.40269928e+01],\n",
       "       [ 3.31854706e+01],\n",
       "       [ 4.07155991e+01],\n",
       "       [ 5.06980553e+01],\n",
       "       [ 6.85861359e+01],\n",
       "       [ 2.98795376e+01],\n",
       "       [ 4.20018959e+01],\n",
       "       [ 5.24064865e+01],\n",
       "       [ 3.91094933e+01],\n",
       "       [ 2.75555916e+01],\n",
       "       [ 3.39392395e+01],\n",
       "       [ 4.93278503e+01],\n",
       "       [ 1.90231667e+01],\n",
       "       [ 1.87876186e+01],\n",
       "       [ 1.99916210e+01],\n",
       "       [ 3.67510300e+01],\n",
       "       [ 2.47643204e+01],\n",
       "       [ 1.85215397e+01],\n",
       "       [ 1.93051052e+01],\n",
       "       [ 1.64974766e+01],\n",
       "       [ 1.64974766e+01],\n",
       "       [ 8.06699848e+00],\n",
       "       [ 3.14054394e+01],\n",
       "       [ 1.92922096e+01],\n",
       "       [ 3.53484268e+01],\n",
       "       [ 3.18757153e+01],\n",
       "       [ 4.02905045e+01],\n",
       "       [ 5.05863457e+01],\n",
       "       [ 4.02572517e+01],\n",
       "       [ 2.16835728e+01],\n",
       "       [ 5.44601593e+01],\n",
       "       [ 2.65020123e+01],\n",
       "       [ 3.61735878e+01],\n",
       "       [ 2.30450554e+01],\n",
       "       [ 1.36297188e+01],\n",
       "       [ 6.29814720e+00],\n",
       "       [ 3.75100098e+01],\n",
       "       [ 2.39649792e+01],\n",
       "       [ 3.45996742e+01],\n",
       "       [ 1.79208317e+01],\n",
       "       [ 2.11495590e+01],\n",
       "       [ 3.21744194e+01],\n",
       "       [ 2.72276440e+01],\n",
       "       [ 1.21573858e+01],\n",
       "       [ 1.38121014e+01],\n",
       "       [ 1.87748260e+01],\n",
       "       [-6.04846440e-02],\n",
       "       [ 6.93176460e+00],\n",
       "       [ 2.73568096e+01],\n",
       "       [ 2.39518890e+01],\n",
       "       [ 6.51763082e-01],\n",
       "       [ 3.15818863e+01],\n",
       "       [ 2.56043758e+01],\n",
       "       [ 3.71967354e+01],\n",
       "       [ 5.11526070e+01],\n",
       "       [ 9.84768581e+00],\n",
       "       [ 9.51204300e+00],\n",
       "       [ 5.11790276e+01],\n",
       "       [ 3.72296333e+01],\n",
       "       [ 5.22270203e+00],\n",
       "       [ 2.34586678e+01],\n",
       "       [ 2.64013615e+01],\n",
       "       [ 6.46732330e+01],\n",
       "       [ 2.60638027e+01],\n",
       "       [ 4.45419655e+01],\n",
       "       [ 3.12686672e+01],\n",
       "       [ 2.60057526e+01],\n",
       "       [ 3.58256989e+01],\n",
       "       [ 4.83514748e+01],\n",
       "       [ 3.85152054e+01],\n",
       "       [ 3.28513794e+01],\n",
       "       [ 4.45546684e+01],\n",
       "       [ 4.63559113e+01],\n",
       "       [ 2.71051426e+01],\n",
       "       [ 2.79930191e+01],\n",
       "       [ 2.88357582e+01],\n",
       "       [ 3.00373287e+01],\n",
       "       [ 2.93721142e+01],\n",
       "       [ 1.09745045e+01],\n",
       "       [ 3.41418953e+01],\n",
       "       [ 3.54095497e+01],\n",
       "       [ 8.47283020e+01],\n",
       "       [ 4.03324661e+01],\n",
       "       [ 5.01552315e+01],\n",
       "       [ 5.46248817e+01],\n",
       "       [ 5.46248817e+01],\n",
       "       [ 3.32629395e+01],\n",
       "       [ 6.49443741e+01],\n",
       "       [ 2.30503960e+01],\n",
       "       [ 4.86185913e+01],\n",
       "       [ 6.47127991e+01],\n",
       "       [ 2.11552677e+01],\n",
       "       [ 5.67898293e+01],\n",
       "       [ 4.20425110e+01],\n",
       "       [ 3.68279686e+01],\n",
       "       [ 6.39329338e+01],\n",
       "       [ 1.73202229e+01],\n",
       "       [ 2.45803890e+01],\n",
       "       [ 4.44704552e+01],\n",
       "       [ 1.07916889e+01],\n",
       "       [ 4.16300621e+01],\n",
       "       [ 1.06704731e+01],\n",
       "       [ 3.60666275e+01],\n",
       "       [ 4.02496758e+01],\n",
       "       [ 4.76782837e+01],\n",
       "       [ 1.68811665e+01],\n",
       "       [ 2.48563538e+01],\n",
       "       [ 3.45952911e+01],\n",
       "       [ 2.76304855e+01],\n",
       "       [ 1.64011364e+01],\n",
       "       [ 1.48477478e+01],\n",
       "       [ 5.62411728e+01],\n",
       "       [ 2.17612686e+01],\n",
       "       [ 2.26462555e+01],\n",
       "       [ 2.08946114e+01],\n",
       "       [ 3.27647057e+01],\n",
       "       [ 2.24656124e+01],\n",
       "       [ 1.36867123e+01],\n",
       "       [ 3.24097366e+01],\n",
       "       [ 2.46347351e+01],\n",
       "       [ 3.11690693e+01],\n",
       "       [ 4.71953621e+01],\n",
       "       [ 4.02870712e+01],\n",
       "       [ 4.20622520e+01],\n",
       "       [ 3.69751129e+01],\n",
       "       [ 1.64974766e+01],\n",
       "       [ 1.93941383e+01],\n",
       "       [ 7.39157791e+01],\n",
       "       [ 1.50185928e+01],\n",
       "       [ 3.35195312e+01],\n",
       "       [ 9.51204300e+00],\n",
       "       [ 1.87277374e+01],\n",
       "       [ 7.78342361e+01],\n",
       "       [ 2.99022999e+01],\n",
       "       [ 2.73450489e+01],\n",
       "       [ 3.23782806e+01],\n",
       "       [ 2.05860405e+01],\n",
       "       [ 2.42855721e+01],\n",
       "       [ 5.54481316e+01],\n",
       "       [ 2.16381493e+01],\n",
       "       [ 2.75928879e+01],\n",
       "       [ 3.51502838e+01],\n",
       "       [ 2.27730083e+01],\n",
       "       [ 3.91546364e+01],\n",
       "       [ 3.96264839e+01],\n",
       "       [ 4.41791191e+01],\n",
       "       [ 3.36592903e+01],\n",
       "       [ 3.27301826e+01],\n",
       "       [ 2.77854996e+01],\n",
       "       [ 2.79243259e+01],\n",
       "       [ 5.90360985e+01],\n",
       "       [ 4.20245247e+01],\n",
       "       [ 3.69723320e+01],\n",
       "       [ 2.03898029e+01],\n",
       "       [ 3.58579407e+01],\n",
       "       [ 1.82830944e+01],\n",
       "       [ 5.07004213e+00],\n",
       "       [ 1.96504936e+01],\n",
       "       [ 3.62792015e+01],\n",
       "       [ 2.01424351e+01],\n",
       "       [ 1.94247303e+01],\n",
       "       [ 2.81054935e+01],\n",
       "       [ 1.32360878e+01],\n",
       "       [ 1.32360878e+01],\n",
       "       [ 3.56065750e+01],\n",
       "       [ 3.51154404e+01],\n",
       "       [ 2.31124878e+01],\n",
       "       [ 1.50638447e+01],\n",
       "       [ 4.78930359e+01],\n",
       "       [ 3.97032738e+01],\n",
       "       [ 4.69768047e+00],\n",
       "       [ 7.17577133e+01],\n",
       "       [ 5.86894684e+01],\n",
       "       [ 8.57704544e+00],\n",
       "       [ 3.53484268e+01],\n",
       "       [ 7.39157791e+01],\n",
       "       [ 5.83926506e+01],\n",
       "       [ 7.10819473e+01],\n",
       "       [ 4.67674942e+01],\n",
       "       [ 4.09052582e+01],\n",
       "       [ 4.60434380e+01],\n",
       "       [ 2.20010681e+01],\n",
       "       [ 1.40043840e+01],\n",
       "       [ 3.87151566e+01],\n",
       "       [ 2.53798447e+01],\n",
       "       [ 2.09373932e+01],\n",
       "       [ 2.78546638e+01],\n",
       "       [ 4.85237274e+01],\n",
       "       [ 7.03855286e+01],\n",
       "       [ 7.06868134e+01],\n",
       "       [ 4.93181267e+01],\n",
       "       [ 6.04075699e+01],\n",
       "       [ 6.26861095e+00],\n",
       "       [ 4.28107452e+01],\n",
       "       [ 5.53996964e+01],\n",
       "       [ 2.69936275e+01],\n",
       "       [ 6.98504562e+01],\n",
       "       [ 2.23105850e+01],\n",
       "       [ 2.19120770e+01],\n",
       "       [ 2.52889004e+01],\n",
       "       [ 4.65668945e+01],\n",
       "       [ 3.08518028e+01],\n",
       "       [ 2.55246849e+01],\n",
       "       [ 3.18490810e+01],\n",
       "       [ 5.16744003e+01],\n",
       "       [ 4.33044701e+01],\n",
       "       [ 4.57414932e+01],\n",
       "       [ 1.74996700e+01],\n",
       "       [ 3.36856766e+01],\n",
       "       [ 5.71906853e+01],\n",
       "       [ 8.12605057e+01],\n",
       "       [ 2.12906952e+01],\n",
       "       [ 3.48304672e+01],\n",
       "       [ 3.74208908e+01],\n",
       "       [ 5.55684738e+01],\n",
       "       [ 2.84819450e+01],\n",
       "       [ 3.80304527e+01],\n",
       "       [ 6.06080551e+01],\n",
       "       [ 3.34765091e+01],\n",
       "       [ 8.89495850e+01],\n",
       "       [ 6.03284912e+01],\n",
       "       [ 4.20944939e+01],\n",
       "       [ 5.86894684e+01],\n",
       "       [ 5.86894684e+01],\n",
       "       [ 3.22754326e+01],\n",
       "       [ 3.95761566e+01],\n",
       "       [ 3.92122307e+01],\n",
       "       [ 5.37201309e+01],\n",
       "       [ 3.68494415e+01],\n",
       "       [ 6.81680145e+01],\n",
       "       [ 1.74848576e+01],\n",
       "       [ 7.93099821e-01],\n",
       "       [ 2.35146656e+01],\n",
       "       [ 4.08020897e+01],\n",
       "       [ 8.15223618e+01],\n",
       "       [ 2.62280521e+01],\n",
       "       [ 6.90314560e+01],\n",
       "       [ 5.96269302e+01],\n",
       "       [ 2.53760357e+01],\n",
       "       [ 4.39713364e+01],\n",
       "       [ 3.50839920e+01],\n",
       "       [ 2.92295666e+01],\n",
       "       [ 7.92867813e+01],\n",
       "       [ 4.34741249e+01],\n",
       "       [ 5.11790276e+01],\n",
       "       [ 9.90773582e+00],\n",
       "       [ 4.00918579e+01],\n",
       "       [ 3.94169617e+01],\n",
       "       [ 2.22831554e+01],\n",
       "       [ 3.05192337e+01],\n",
       "       [ 5.17478371e+01],\n",
       "       [ 2.65577946e+01],\n",
       "       [ 5.79486122e+01],\n",
       "       [ 4.89716263e+01],\n",
       "       [ 1.92158489e+01],\n",
       "       [ 2.06220989e+01],\n",
       "       [ 1.78992596e+01],\n",
       "       [ 6.29814720e+00],\n",
       "       [ 4.78850136e+01],\n",
       "       [ 4.32556496e+01],\n",
       "       [ 2.37246037e+01],\n",
       "       [ 5.70627441e+01],\n",
       "       [ 2.15705128e+01],\n",
       "       [ 2.58401413e+01],\n",
       "       [ 2.37765312e+01],\n",
       "       [ 3.83279190e+01],\n",
       "       [ 4.82938919e+01],\n",
       "       [ 8.11105919e+00],\n",
       "       [ 3.71530228e+01],\n",
       "       [ 4.91970139e+01],\n",
       "       [ 4.99140015e+01],\n",
       "       [ 3.50322952e+01],\n",
       "       [ 5.43886528e+01]], dtype=float32)"
      ]
     },
     "execution_count": 37,
     "metadata": {},
     "output_type": "execute_result"
    }
   ],
   "execution_count": 37
  },
  {
   "metadata": {
    "ExecuteTime": {
     "end_time": "2024-08-08T13:57:59.788588Z",
     "start_time": "2024-08-08T13:57:59.782748Z"
    }
   },
   "cell_type": "code",
   "source": "activity_trained = pd.read_csv('data/tox24_challenge_train.csv')['activity']",
   "id": "5f80642144e06767",
   "outputs": [
    {
     "data": {
      "text/plain": [
       "0      0.366863\n",
       "1      0.685050\n",
       "2      0.515402\n",
       "3      0.425256\n",
       "4      0.622651\n",
       "         ...   \n",
       "495    0.526285\n",
       "496    0.603440\n",
       "497    0.608033\n",
       "498    0.512699\n",
       "499    0.636699\n",
       "Name: predicted, Length: 500, dtype: float32"
      ]
     },
     "execution_count": 35,
     "metadata": {},
     "output_type": "execute_result"
    }
   ],
   "execution_count": 35
  },
  {
   "metadata": {
    "ExecuteTime": {
     "end_time": "2024-08-08T14:02:39.908472Z",
     "start_time": "2024-08-08T14:02:39.792826Z"
    }
   },
   "cell_type": "code",
   "source": [
    "%matplotlib inline\n",
    "import matplotlib.pyplot as plt\n",
    "plt.hist(activity_trained, bins=100, alpha=0.5, color='r', label='train')\n",
    "plt.hist(activity_predicted_rescaled, bins=50, alpha=0.5, color='b', label='predict')\n",
    "plt.legend(loc='upper right')\n",
    "plt.title('Distribution of target values')\n",
    "plt.xlabel('Mean % activity')\n",
    "plt.ylabel('Count')\n",
    "plt.show()"
   ],
   "id": "6699b94f5e24876e",
   "outputs": [
    {
     "data": {
      "text/plain": [
       "<Figure size 640x480 with 1 Axes>"
      ],
      "image/png": "[encoded data removed]"
     },
     "metadata": {},
     "output_type": "display_data"
    }
   ],
   "execution_count": 41
  },
  {
   "metadata": {},
   "cell_type": "markdown",
   "source": "Save for submission",
   "id": "234e267b0172dbd9"
  },
  {
   "metadata": {
    "ExecuteTime": {
     "end_time": "2024-08-08T14:01:31.411151Z",
     "start_time": "2024-08-08T14:01:31.407321Z"
    }
   },
   "cell_type": "code",
   "source": "pd.DataFrame(activity_predicted_rescaled, columns=[\"prediction\"]).to_csv(f'{base_out_dir}/tox24_challenge_test_predicted.csv')",
   "id": "e3ace5aab0824a38",
   "outputs": [],
   "execution_count": 40
  }
 ],
 "metadata": {
  "kernelspec": {
   "display_name": "Python 3",
   "language": "python",
   "name": "python3"
  },
  "language_info": {
   "codemirror_mode": {
    "name": "ipython",
    "version": 2
   },
   "file_extension": ".py",
   "mimetype": "text/x-python",
   "name": "python",
   "nbconvert_exporter": "python",
   "pygments_lexer": "ipython2",
   "version": "2.7.6"
  }
 },
 "nbformat": 4,
 "nbformat_minor": 5
}
